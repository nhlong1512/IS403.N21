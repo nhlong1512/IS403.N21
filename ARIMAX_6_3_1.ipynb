{
  "nbformat": 4,
  "nbformat_minor": 0,
  "metadata": {
    "colab": {
      "provenance": [],
      "include_colab_link": true
    },
    "kernelspec": {
      "name": "python3",
      "display_name": "Python 3"
    },
    "language_info": {
      "name": "python"
    }
  },
  "cells": [
    {
      "cell_type": "markdown",
      "metadata": {
        "id": "view-in-github",
        "colab_type": "text"
      },
      "source": [
        "<a href=\"https://colab.research.google.com/github/nhlong1512/IS403.N21/blob/main/ARIMAX_6_3_1.ipynb\" target=\"_parent\"><img src=\"https://colab.research.google.com/assets/colab-badge.svg\" alt=\"Open In Colab\"/></a>"
      ]
    },
    {
      "cell_type": "code",
      "execution_count": 10,
      "metadata": {
        "id": "NIJ_X3Mr2ZaE"
      },
      "outputs": [],
      "source": [
        "import numpy as np # linear algebra\n",
        "import pandas as pd # data processing, CSV file I/O (e.g. pd.read_csv)\n",
        "from statsmodels.tsa.arima.model import ARIMA\n",
        "from statsmodels.tsa.statespace.sarimax import SARIMAX\n",
        "import matplotlib.pyplot as plt\n",
        "from sklearn.metrics import mean_squared_error"
      ]
    },
    {
      "cell_type": "markdown",
      "source": [
        "Đọc dữ liệu"
      ],
      "metadata": {
        "id": "rQ9VeiuD2o6m"
      }
    },
    {
      "cell_type": "code",
      "source": [
        "btc_data = pd.read_csv('BTC-USD.csv')\n",
        "eth_data = pd.read_csv('ETH-USD.csv')"
      ],
      "metadata": {
        "id": "PM12i09v2nvr"
      },
      "execution_count": 11,
      "outputs": []
    },
    {
      "cell_type": "markdown",
      "source": [
        "Dữ liệu BTC-USD"
      ],
      "metadata": {
        "id": "uguaZ0tu21Sg"
      }
    },
    {
      "cell_type": "code",
      "source": [
        "btc_data.head()"
      ],
      "metadata": {
        "colab": {
          "base_uri": "https://localhost:8080/",
          "height": 206
        },
        "id": "KDFVJyIE2qI8",
        "outputId": "c8b60c5f-84d2-4efe-fdb3-56950fe1a663"
      },
      "execution_count": 12,
      "outputs": [
        {
          "output_type": "execute_result",
          "data": {
            "text/plain": [
              "       Date         Open         High          Low        Close    Adj Close  \\\n",
              "0  1/1/2019  3746.713379  3850.913818  3707.231201  3843.520020  3843.520020   \n",
              "1  1/2/2019  3849.216309  3947.981201  3817.409424  3943.409424  3943.409424   \n",
              "2  1/3/2019  3931.048584  3935.685059  3826.222900  3836.741211  3836.741211   \n",
              "3  1/4/2019  3832.040039  3865.934570  3783.853760  3857.717529  3857.717529   \n",
              "4  1/5/2019  3851.973877  3904.903076  3836.900146  3845.194580  3845.194580   \n",
              "\n",
              "         Volume  \n",
              "0  4.324201e+09  \n",
              "1  5.244857e+09  \n",
              "2  4.530215e+09  \n",
              "3  4.847965e+09  \n",
              "4  5.137610e+09  "
            ],
            "text/html": [
              "\n",
              "  <div id=\"df-c095d8b7-9e63-4ef2-9485-c0b1b6f47701\">\n",
              "    <div class=\"colab-df-container\">\n",
              "      <div>\n",
              "<style scoped>\n",
              "    .dataframe tbody tr th:only-of-type {\n",
              "        vertical-align: middle;\n",
              "    }\n",
              "\n",
              "    .dataframe tbody tr th {\n",
              "        vertical-align: top;\n",
              "    }\n",
              "\n",
              "    .dataframe thead th {\n",
              "        text-align: right;\n",
              "    }\n",
              "</style>\n",
              "<table border=\"1\" class=\"dataframe\">\n",
              "  <thead>\n",
              "    <tr style=\"text-align: right;\">\n",
              "      <th></th>\n",
              "      <th>Date</th>\n",
              "      <th>Open</th>\n",
              "      <th>High</th>\n",
              "      <th>Low</th>\n",
              "      <th>Close</th>\n",
              "      <th>Adj Close</th>\n",
              "      <th>Volume</th>\n",
              "    </tr>\n",
              "  </thead>\n",
              "  <tbody>\n",
              "    <tr>\n",
              "      <th>0</th>\n",
              "      <td>1/1/2019</td>\n",
              "      <td>3746.713379</td>\n",
              "      <td>3850.913818</td>\n",
              "      <td>3707.231201</td>\n",
              "      <td>3843.520020</td>\n",
              "      <td>3843.520020</td>\n",
              "      <td>4.324201e+09</td>\n",
              "    </tr>\n",
              "    <tr>\n",
              "      <th>1</th>\n",
              "      <td>1/2/2019</td>\n",
              "      <td>3849.216309</td>\n",
              "      <td>3947.981201</td>\n",
              "      <td>3817.409424</td>\n",
              "      <td>3943.409424</td>\n",
              "      <td>3943.409424</td>\n",
              "      <td>5.244857e+09</td>\n",
              "    </tr>\n",
              "    <tr>\n",
              "      <th>2</th>\n",
              "      <td>1/3/2019</td>\n",
              "      <td>3931.048584</td>\n",
              "      <td>3935.685059</td>\n",
              "      <td>3826.222900</td>\n",
              "      <td>3836.741211</td>\n",
              "      <td>3836.741211</td>\n",
              "      <td>4.530215e+09</td>\n",
              "    </tr>\n",
              "    <tr>\n",
              "      <th>3</th>\n",
              "      <td>1/4/2019</td>\n",
              "      <td>3832.040039</td>\n",
              "      <td>3865.934570</td>\n",
              "      <td>3783.853760</td>\n",
              "      <td>3857.717529</td>\n",
              "      <td>3857.717529</td>\n",
              "      <td>4.847965e+09</td>\n",
              "    </tr>\n",
              "    <tr>\n",
              "      <th>4</th>\n",
              "      <td>1/5/2019</td>\n",
              "      <td>3851.973877</td>\n",
              "      <td>3904.903076</td>\n",
              "      <td>3836.900146</td>\n",
              "      <td>3845.194580</td>\n",
              "      <td>3845.194580</td>\n",
              "      <td>5.137610e+09</td>\n",
              "    </tr>\n",
              "  </tbody>\n",
              "</table>\n",
              "</div>\n",
              "      <button class=\"colab-df-convert\" onclick=\"convertToInteractive('df-c095d8b7-9e63-4ef2-9485-c0b1b6f47701')\"\n",
              "              title=\"Convert this dataframe to an interactive table.\"\n",
              "              style=\"display:none;\">\n",
              "        \n",
              "  <svg xmlns=\"http://www.w3.org/2000/svg\" height=\"24px\"viewBox=\"0 0 24 24\"\n",
              "       width=\"24px\">\n",
              "    <path d=\"M0 0h24v24H0V0z\" fill=\"none\"/>\n",
              "    <path d=\"M18.56 5.44l.94 2.06.94-2.06 2.06-.94-2.06-.94-.94-2.06-.94 2.06-2.06.94zm-11 1L8.5 8.5l.94-2.06 2.06-.94-2.06-.94L8.5 2.5l-.94 2.06-2.06.94zm10 10l.94 2.06.94-2.06 2.06-.94-2.06-.94-.94-2.06-.94 2.06-2.06.94z\"/><path d=\"M17.41 7.96l-1.37-1.37c-.4-.4-.92-.59-1.43-.59-.52 0-1.04.2-1.43.59L10.3 9.45l-7.72 7.72c-.78.78-.78 2.05 0 2.83L4 21.41c.39.39.9.59 1.41.59.51 0 1.02-.2 1.41-.59l7.78-7.78 2.81-2.81c.8-.78.8-2.07 0-2.86zM5.41 20L4 18.59l7.72-7.72 1.47 1.35L5.41 20z\"/>\n",
              "  </svg>\n",
              "      </button>\n",
              "      \n",
              "  <style>\n",
              "    .colab-df-container {\n",
              "      display:flex;\n",
              "      flex-wrap:wrap;\n",
              "      gap: 12px;\n",
              "    }\n",
              "\n",
              "    .colab-df-convert {\n",
              "      background-color: #E8F0FE;\n",
              "      border: none;\n",
              "      border-radius: 50%;\n",
              "      cursor: pointer;\n",
              "      display: none;\n",
              "      fill: #1967D2;\n",
              "      height: 32px;\n",
              "      padding: 0 0 0 0;\n",
              "      width: 32px;\n",
              "    }\n",
              "\n",
              "    .colab-df-convert:hover {\n",
              "      background-color: #E2EBFA;\n",
              "      box-shadow: 0px 1px 2px rgba(60, 64, 67, 0.3), 0px 1px 3px 1px rgba(60, 64, 67, 0.15);\n",
              "      fill: #174EA6;\n",
              "    }\n",
              "\n",
              "    [theme=dark] .colab-df-convert {\n",
              "      background-color: #3B4455;\n",
              "      fill: #D2E3FC;\n",
              "    }\n",
              "\n",
              "    [theme=dark] .colab-df-convert:hover {\n",
              "      background-color: #434B5C;\n",
              "      box-shadow: 0px 1px 3px 1px rgba(0, 0, 0, 0.15);\n",
              "      filter: drop-shadow(0px 1px 2px rgba(0, 0, 0, 0.3));\n",
              "      fill: #FFFFFF;\n",
              "    }\n",
              "  </style>\n",
              "\n",
              "      <script>\n",
              "        const buttonEl =\n",
              "          document.querySelector('#df-c095d8b7-9e63-4ef2-9485-c0b1b6f47701 button.colab-df-convert');\n",
              "        buttonEl.style.display =\n",
              "          google.colab.kernel.accessAllowed ? 'block' : 'none';\n",
              "\n",
              "        async function convertToInteractive(key) {\n",
              "          const element = document.querySelector('#df-c095d8b7-9e63-4ef2-9485-c0b1b6f47701');\n",
              "          const dataTable =\n",
              "            await google.colab.kernel.invokeFunction('convertToInteractive',\n",
              "                                                     [key], {});\n",
              "          if (!dataTable) return;\n",
              "\n",
              "          const docLinkHtml = 'Like what you see? Visit the ' +\n",
              "            '<a target=\"_blank\" href=https://colab.research.google.com/notebooks/data_table.ipynb>data table notebook</a>'\n",
              "            + ' to learn more about interactive tables.';\n",
              "          element.innerHTML = '';\n",
              "          dataTable['output_type'] = 'display_data';\n",
              "          await google.colab.output.renderOutput(dataTable, element);\n",
              "          const docLink = document.createElement('div');\n",
              "          docLink.innerHTML = docLinkHtml;\n",
              "          element.appendChild(docLink);\n",
              "        }\n",
              "      </script>\n",
              "    </div>\n",
              "  </div>\n",
              "  "
            ]
          },
          "metadata": {},
          "execution_count": 12
        }
      ]
    },
    {
      "cell_type": "markdown",
      "source": [
        "Dữ liệu ETH-USD"
      ],
      "metadata": {
        "id": "IyH8kBFy23C5"
      }
    },
    {
      "cell_type": "code",
      "source": [
        "eth_data.head()"
      ],
      "metadata": {
        "colab": {
          "base_uri": "https://localhost:8080/",
          "height": 206
        },
        "id": "4PEpq8p42y5Q",
        "outputId": "0c9087c0-beb4-406c-e2b3-6afa71db548e"
      },
      "execution_count": 13,
      "outputs": [
        {
          "output_type": "execute_result",
          "data": {
            "text/plain": [
              "       Date   Close-ETH\n",
              "0  1/1/2019  140.819412\n",
              "1  1/2/2019  155.047684\n",
              "2  1/3/2019  149.135010\n",
              "3  1/4/2019  154.581940\n",
              "4  1/5/2019  155.638596"
            ],
            "text/html": [
              "\n",
              "  <div id=\"df-18e9e709-4868-420a-a365-454bbbf95280\">\n",
              "    <div class=\"colab-df-container\">\n",
              "      <div>\n",
              "<style scoped>\n",
              "    .dataframe tbody tr th:only-of-type {\n",
              "        vertical-align: middle;\n",
              "    }\n",
              "\n",
              "    .dataframe tbody tr th {\n",
              "        vertical-align: top;\n",
              "    }\n",
              "\n",
              "    .dataframe thead th {\n",
              "        text-align: right;\n",
              "    }\n",
              "</style>\n",
              "<table border=\"1\" class=\"dataframe\">\n",
              "  <thead>\n",
              "    <tr style=\"text-align: right;\">\n",
              "      <th></th>\n",
              "      <th>Date</th>\n",
              "      <th>Close-ETH</th>\n",
              "    </tr>\n",
              "  </thead>\n",
              "  <tbody>\n",
              "    <tr>\n",
              "      <th>0</th>\n",
              "      <td>1/1/2019</td>\n",
              "      <td>140.819412</td>\n",
              "    </tr>\n",
              "    <tr>\n",
              "      <th>1</th>\n",
              "      <td>1/2/2019</td>\n",
              "      <td>155.047684</td>\n",
              "    </tr>\n",
              "    <tr>\n",
              "      <th>2</th>\n",
              "      <td>1/3/2019</td>\n",
              "      <td>149.135010</td>\n",
              "    </tr>\n",
              "    <tr>\n",
              "      <th>3</th>\n",
              "      <td>1/4/2019</td>\n",
              "      <td>154.581940</td>\n",
              "    </tr>\n",
              "    <tr>\n",
              "      <th>4</th>\n",
              "      <td>1/5/2019</td>\n",
              "      <td>155.638596</td>\n",
              "    </tr>\n",
              "  </tbody>\n",
              "</table>\n",
              "</div>\n",
              "      <button class=\"colab-df-convert\" onclick=\"convertToInteractive('df-18e9e709-4868-420a-a365-454bbbf95280')\"\n",
              "              title=\"Convert this dataframe to an interactive table.\"\n",
              "              style=\"display:none;\">\n",
              "        \n",
              "  <svg xmlns=\"http://www.w3.org/2000/svg\" height=\"24px\"viewBox=\"0 0 24 24\"\n",
              "       width=\"24px\">\n",
              "    <path d=\"M0 0h24v24H0V0z\" fill=\"none\"/>\n",
              "    <path d=\"M18.56 5.44l.94 2.06.94-2.06 2.06-.94-2.06-.94-.94-2.06-.94 2.06-2.06.94zm-11 1L8.5 8.5l.94-2.06 2.06-.94-2.06-.94L8.5 2.5l-.94 2.06-2.06.94zm10 10l.94 2.06.94-2.06 2.06-.94-2.06-.94-.94-2.06-.94 2.06-2.06.94z\"/><path d=\"M17.41 7.96l-1.37-1.37c-.4-.4-.92-.59-1.43-.59-.52 0-1.04.2-1.43.59L10.3 9.45l-7.72 7.72c-.78.78-.78 2.05 0 2.83L4 21.41c.39.39.9.59 1.41.59.51 0 1.02-.2 1.41-.59l7.78-7.78 2.81-2.81c.8-.78.8-2.07 0-2.86zM5.41 20L4 18.59l7.72-7.72 1.47 1.35L5.41 20z\"/>\n",
              "  </svg>\n",
              "      </button>\n",
              "      \n",
              "  <style>\n",
              "    .colab-df-container {\n",
              "      display:flex;\n",
              "      flex-wrap:wrap;\n",
              "      gap: 12px;\n",
              "    }\n",
              "\n",
              "    .colab-df-convert {\n",
              "      background-color: #E8F0FE;\n",
              "      border: none;\n",
              "      border-radius: 50%;\n",
              "      cursor: pointer;\n",
              "      display: none;\n",
              "      fill: #1967D2;\n",
              "      height: 32px;\n",
              "      padding: 0 0 0 0;\n",
              "      width: 32px;\n",
              "    }\n",
              "\n",
              "    .colab-df-convert:hover {\n",
              "      background-color: #E2EBFA;\n",
              "      box-shadow: 0px 1px 2px rgba(60, 64, 67, 0.3), 0px 1px 3px 1px rgba(60, 64, 67, 0.15);\n",
              "      fill: #174EA6;\n",
              "    }\n",
              "\n",
              "    [theme=dark] .colab-df-convert {\n",
              "      background-color: #3B4455;\n",
              "      fill: #D2E3FC;\n",
              "    }\n",
              "\n",
              "    [theme=dark] .colab-df-convert:hover {\n",
              "      background-color: #434B5C;\n",
              "      box-shadow: 0px 1px 3px 1px rgba(0, 0, 0, 0.15);\n",
              "      filter: drop-shadow(0px 1px 2px rgba(0, 0, 0, 0.3));\n",
              "      fill: #FFFFFF;\n",
              "    }\n",
              "  </style>\n",
              "\n",
              "      <script>\n",
              "        const buttonEl =\n",
              "          document.querySelector('#df-18e9e709-4868-420a-a365-454bbbf95280 button.colab-df-convert');\n",
              "        buttonEl.style.display =\n",
              "          google.colab.kernel.accessAllowed ? 'block' : 'none';\n",
              "\n",
              "        async function convertToInteractive(key) {\n",
              "          const element = document.querySelector('#df-18e9e709-4868-420a-a365-454bbbf95280');\n",
              "          const dataTable =\n",
              "            await google.colab.kernel.invokeFunction('convertToInteractive',\n",
              "                                                     [key], {});\n",
              "          if (!dataTable) return;\n",
              "\n",
              "          const docLinkHtml = 'Like what you see? Visit the ' +\n",
              "            '<a target=\"_blank\" href=https://colab.research.google.com/notebooks/data_table.ipynb>data table notebook</a>'\n",
              "            + ' to learn more about interactive tables.';\n",
              "          element.innerHTML = '';\n",
              "          dataTable['output_type'] = 'display_data';\n",
              "          await google.colab.output.renderOutput(dataTable, element);\n",
              "          const docLink = document.createElement('div');\n",
              "          docLink.innerHTML = docLinkHtml;\n",
              "          element.appendChild(docLink);\n",
              "        }\n",
              "      </script>\n",
              "    </div>\n",
              "  </div>\n",
              "  "
            ]
          },
          "metadata": {},
          "execution_count": 13
        }
      ]
    },
    {
      "cell_type": "markdown",
      "source": [
        "Kết hợp dữ liệu BTC và ETH"
      ],
      "metadata": {
        "id": "Zv__VwdN3DAo"
      }
    },
    {
      "cell_type": "code",
      "source": [
        "data = pd.merge(btc_data, eth_data, on='Date')\n",
        "data.head()"
      ],
      "metadata": {
        "colab": {
          "base_uri": "https://localhost:8080/",
          "height": 206
        },
        "id": "sCn7WWO_3BUn",
        "outputId": "372ecac3-a192-4c84-c191-bc6e3f853e10"
      },
      "execution_count": 14,
      "outputs": [
        {
          "output_type": "execute_result",
          "data": {
            "text/plain": [
              "       Date         Open         High          Low        Close    Adj Close  \\\n",
              "0  1/1/2019  3746.713379  3850.913818  3707.231201  3843.520020  3843.520020   \n",
              "1  1/2/2019  3849.216309  3947.981201  3817.409424  3943.409424  3943.409424   \n",
              "2  1/3/2019  3931.048584  3935.685059  3826.222900  3836.741211  3836.741211   \n",
              "3  1/4/2019  3832.040039  3865.934570  3783.853760  3857.717529  3857.717529   \n",
              "4  1/5/2019  3851.973877  3904.903076  3836.900146  3845.194580  3845.194580   \n",
              "\n",
              "         Volume   Close-ETH  \n",
              "0  4.324201e+09  140.819412  \n",
              "1  5.244857e+09  155.047684  \n",
              "2  4.530215e+09  149.135010  \n",
              "3  4.847965e+09  154.581940  \n",
              "4  5.137610e+09  155.638596  "
            ],
            "text/html": [
              "\n",
              "  <div id=\"df-20ca9ee4-5578-4296-a308-14eed9e104c8\">\n",
              "    <div class=\"colab-df-container\">\n",
              "      <div>\n",
              "<style scoped>\n",
              "    .dataframe tbody tr th:only-of-type {\n",
              "        vertical-align: middle;\n",
              "    }\n",
              "\n",
              "    .dataframe tbody tr th {\n",
              "        vertical-align: top;\n",
              "    }\n",
              "\n",
              "    .dataframe thead th {\n",
              "        text-align: right;\n",
              "    }\n",
              "</style>\n",
              "<table border=\"1\" class=\"dataframe\">\n",
              "  <thead>\n",
              "    <tr style=\"text-align: right;\">\n",
              "      <th></th>\n",
              "      <th>Date</th>\n",
              "      <th>Open</th>\n",
              "      <th>High</th>\n",
              "      <th>Low</th>\n",
              "      <th>Close</th>\n",
              "      <th>Adj Close</th>\n",
              "      <th>Volume</th>\n",
              "      <th>Close-ETH</th>\n",
              "    </tr>\n",
              "  </thead>\n",
              "  <tbody>\n",
              "    <tr>\n",
              "      <th>0</th>\n",
              "      <td>1/1/2019</td>\n",
              "      <td>3746.713379</td>\n",
              "      <td>3850.913818</td>\n",
              "      <td>3707.231201</td>\n",
              "      <td>3843.520020</td>\n",
              "      <td>3843.520020</td>\n",
              "      <td>4.324201e+09</td>\n",
              "      <td>140.819412</td>\n",
              "    </tr>\n",
              "    <tr>\n",
              "      <th>1</th>\n",
              "      <td>1/2/2019</td>\n",
              "      <td>3849.216309</td>\n",
              "      <td>3947.981201</td>\n",
              "      <td>3817.409424</td>\n",
              "      <td>3943.409424</td>\n",
              "      <td>3943.409424</td>\n",
              "      <td>5.244857e+09</td>\n",
              "      <td>155.047684</td>\n",
              "    </tr>\n",
              "    <tr>\n",
              "      <th>2</th>\n",
              "      <td>1/3/2019</td>\n",
              "      <td>3931.048584</td>\n",
              "      <td>3935.685059</td>\n",
              "      <td>3826.222900</td>\n",
              "      <td>3836.741211</td>\n",
              "      <td>3836.741211</td>\n",
              "      <td>4.530215e+09</td>\n",
              "      <td>149.135010</td>\n",
              "    </tr>\n",
              "    <tr>\n",
              "      <th>3</th>\n",
              "      <td>1/4/2019</td>\n",
              "      <td>3832.040039</td>\n",
              "      <td>3865.934570</td>\n",
              "      <td>3783.853760</td>\n",
              "      <td>3857.717529</td>\n",
              "      <td>3857.717529</td>\n",
              "      <td>4.847965e+09</td>\n",
              "      <td>154.581940</td>\n",
              "    </tr>\n",
              "    <tr>\n",
              "      <th>4</th>\n",
              "      <td>1/5/2019</td>\n",
              "      <td>3851.973877</td>\n",
              "      <td>3904.903076</td>\n",
              "      <td>3836.900146</td>\n",
              "      <td>3845.194580</td>\n",
              "      <td>3845.194580</td>\n",
              "      <td>5.137610e+09</td>\n",
              "      <td>155.638596</td>\n",
              "    </tr>\n",
              "  </tbody>\n",
              "</table>\n",
              "</div>\n",
              "      <button class=\"colab-df-convert\" onclick=\"convertToInteractive('df-20ca9ee4-5578-4296-a308-14eed9e104c8')\"\n",
              "              title=\"Convert this dataframe to an interactive table.\"\n",
              "              style=\"display:none;\">\n",
              "        \n",
              "  <svg xmlns=\"http://www.w3.org/2000/svg\" height=\"24px\"viewBox=\"0 0 24 24\"\n",
              "       width=\"24px\">\n",
              "    <path d=\"M0 0h24v24H0V0z\" fill=\"none\"/>\n",
              "    <path d=\"M18.56 5.44l.94 2.06.94-2.06 2.06-.94-2.06-.94-.94-2.06-.94 2.06-2.06.94zm-11 1L8.5 8.5l.94-2.06 2.06-.94-2.06-.94L8.5 2.5l-.94 2.06-2.06.94zm10 10l.94 2.06.94-2.06 2.06-.94-2.06-.94-.94-2.06-.94 2.06-2.06.94z\"/><path d=\"M17.41 7.96l-1.37-1.37c-.4-.4-.92-.59-1.43-.59-.52 0-1.04.2-1.43.59L10.3 9.45l-7.72 7.72c-.78.78-.78 2.05 0 2.83L4 21.41c.39.39.9.59 1.41.59.51 0 1.02-.2 1.41-.59l7.78-7.78 2.81-2.81c.8-.78.8-2.07 0-2.86zM5.41 20L4 18.59l7.72-7.72 1.47 1.35L5.41 20z\"/>\n",
              "  </svg>\n",
              "      </button>\n",
              "      \n",
              "  <style>\n",
              "    .colab-df-container {\n",
              "      display:flex;\n",
              "      flex-wrap:wrap;\n",
              "      gap: 12px;\n",
              "    }\n",
              "\n",
              "    .colab-df-convert {\n",
              "      background-color: #E8F0FE;\n",
              "      border: none;\n",
              "      border-radius: 50%;\n",
              "      cursor: pointer;\n",
              "      display: none;\n",
              "      fill: #1967D2;\n",
              "      height: 32px;\n",
              "      padding: 0 0 0 0;\n",
              "      width: 32px;\n",
              "    }\n",
              "\n",
              "    .colab-df-convert:hover {\n",
              "      background-color: #E2EBFA;\n",
              "      box-shadow: 0px 1px 2px rgba(60, 64, 67, 0.3), 0px 1px 3px 1px rgba(60, 64, 67, 0.15);\n",
              "      fill: #174EA6;\n",
              "    }\n",
              "\n",
              "    [theme=dark] .colab-df-convert {\n",
              "      background-color: #3B4455;\n",
              "      fill: #D2E3FC;\n",
              "    }\n",
              "\n",
              "    [theme=dark] .colab-df-convert:hover {\n",
              "      background-color: #434B5C;\n",
              "      box-shadow: 0px 1px 3px 1px rgba(0, 0, 0, 0.15);\n",
              "      filter: drop-shadow(0px 1px 2px rgba(0, 0, 0, 0.3));\n",
              "      fill: #FFFFFF;\n",
              "    }\n",
              "  </style>\n",
              "\n",
              "      <script>\n",
              "        const buttonEl =\n",
              "          document.querySelector('#df-20ca9ee4-5578-4296-a308-14eed9e104c8 button.colab-df-convert');\n",
              "        buttonEl.style.display =\n",
              "          google.colab.kernel.accessAllowed ? 'block' : 'none';\n",
              "\n",
              "        async function convertToInteractive(key) {\n",
              "          const element = document.querySelector('#df-20ca9ee4-5578-4296-a308-14eed9e104c8');\n",
              "          const dataTable =\n",
              "            await google.colab.kernel.invokeFunction('convertToInteractive',\n",
              "                                                     [key], {});\n",
              "          if (!dataTable) return;\n",
              "\n",
              "          const docLinkHtml = 'Like what you see? Visit the ' +\n",
              "            '<a target=\"_blank\" href=https://colab.research.google.com/notebooks/data_table.ipynb>data table notebook</a>'\n",
              "            + ' to learn more about interactive tables.';\n",
              "          element.innerHTML = '';\n",
              "          dataTable['output_type'] = 'display_data';\n",
              "          await google.colab.output.renderOutput(dataTable, element);\n",
              "          const docLink = document.createElement('div');\n",
              "          docLink.innerHTML = docLinkHtml;\n",
              "          element.appendChild(docLink);\n",
              "        }\n",
              "      </script>\n",
              "    </div>\n",
              "  </div>\n",
              "  "
            ]
          },
          "metadata": {},
          "execution_count": 14
        }
      ]
    },
    {
      "cell_type": "markdown",
      "source": [
        "**Dự đoán 30 ngày cho ETH bằng ARIMA**"
      ],
      "metadata": {
        "id": "hF0JBksbR8Y1"
      }
    },
    {
      "cell_type": "code",
      "source": [
        "!pip install pmdarima"
      ],
      "metadata": {
        "colab": {
          "base_uri": "https://localhost:8080/"
        },
        "id": "bj_ek1nASFRd",
        "outputId": "45457b78-87c1-4f76-f917-77e7cd38a642"
      },
      "execution_count": 15,
      "outputs": [
        {
          "output_type": "stream",
          "name": "stdout",
          "text": [
            "Looking in indexes: https://pypi.org/simple, https://us-python.pkg.dev/colab-wheels/public/simple/\n",
            "Requirement already satisfied: pmdarima in /usr/local/lib/python3.10/dist-packages (2.0.3)\n",
            "Requirement already satisfied: joblib>=0.11 in /usr/local/lib/python3.10/dist-packages (from pmdarima) (1.2.0)\n",
            "Requirement already satisfied: Cython!=0.29.18,!=0.29.31,>=0.29 in /usr/local/lib/python3.10/dist-packages (from pmdarima) (0.29.34)\n",
            "Requirement already satisfied: numpy>=1.21.2 in /usr/local/lib/python3.10/dist-packages (from pmdarima) (1.22.4)\n",
            "Requirement already satisfied: pandas>=0.19 in /usr/local/lib/python3.10/dist-packages (from pmdarima) (1.5.3)\n",
            "Requirement already satisfied: scikit-learn>=0.22 in /usr/local/lib/python3.10/dist-packages (from pmdarima) (1.2.2)\n",
            "Requirement already satisfied: scipy>=1.3.2 in /usr/local/lib/python3.10/dist-packages (from pmdarima) (1.10.1)\n",
            "Requirement already satisfied: statsmodels>=0.13.2 in /usr/local/lib/python3.10/dist-packages (from pmdarima) (0.13.5)\n",
            "Requirement already satisfied: urllib3 in /usr/local/lib/python3.10/dist-packages (from pmdarima) (1.26.15)\n",
            "Requirement already satisfied: setuptools!=50.0.0,>=38.6.0 in /usr/local/lib/python3.10/dist-packages (from pmdarima) (67.7.2)\n",
            "Requirement already satisfied: python-dateutil>=2.8.1 in /usr/local/lib/python3.10/dist-packages (from pandas>=0.19->pmdarima) (2.8.2)\n",
            "Requirement already satisfied: pytz>=2020.1 in /usr/local/lib/python3.10/dist-packages (from pandas>=0.19->pmdarima) (2022.7.1)\n",
            "Requirement already satisfied: threadpoolctl>=2.0.0 in /usr/local/lib/python3.10/dist-packages (from scikit-learn>=0.22->pmdarima) (3.1.0)\n",
            "Requirement already satisfied: patsy>=0.5.2 in /usr/local/lib/python3.10/dist-packages (from statsmodels>=0.13.2->pmdarima) (0.5.3)\n",
            "Requirement already satisfied: packaging>=21.3 in /usr/local/lib/python3.10/dist-packages (from statsmodels>=0.13.2->pmdarima) (23.1)\n",
            "Requirement already satisfied: six in /usr/local/lib/python3.10/dist-packages (from patsy>=0.5.2->statsmodels>=0.13.2->pmdarima) (1.16.0)\n"
          ]
        }
      ]
    },
    {
      "cell_type": "code",
      "source": [
        "eth_data = eth_data[['Date', 'Close-ETH']]\n",
        "eth_data = eth_data.dropna() # Drop missing values\n",
        "# eth_data = eth_data.reset_index(drop=True) # Reset the index\n",
        "eth_data['Date'] = pd.to_datetime(eth_data['Date'])\n",
        "eth_data.set_index('Date', inplace=True)\n",
        "\n",
        "# Split the data into training, testing, and validation sets\n",
        "train_size = int(0.6 * len(eth_data))\n",
        "test_size = int(0.3 * len(eth_data))\n",
        "val_size = len(eth_data) - train_size - test_size\n",
        "\n",
        "train_data = eth_data[:train_size]\n",
        "test_data = eth_data[train_size:train_size+test_size]\n",
        "val_data = eth_data[train_size+test_size:]\n",
        "print(eth_data)"
      ],
      "metadata": {
        "colab": {
          "base_uri": "https://localhost:8080/"
        },
        "id": "bxcisYgHSPV6",
        "outputId": "cb5c9bfe-319b-492c-c50b-55c1abcbb7c9"
      },
      "execution_count": 16,
      "outputs": [
        {
          "output_type": "stream",
          "name": "stdout",
          "text": [
            "              Close-ETH\n",
            "Date                   \n",
            "2019-01-01   140.819412\n",
            "2019-01-02   155.047684\n",
            "2019-01-03   149.135010\n",
            "2019-01-04   154.581940\n",
            "2019-01-05   155.638596\n",
            "...                 ...\n",
            "2023-03-27  1715.460815\n",
            "2023-03-28  1772.785645\n",
            "2023-03-29  1793.001831\n",
            "2023-03-30  1792.737183\n",
            "2023-03-31  1822.022095\n",
            "\n",
            "[1551 rows x 1 columns]\n"
          ]
        }
      ]
    },
    {
      "cell_type": "code",
      "source": [
        "# 3. Quá trình Training\n",
        "x_train = np.array(train_data.index).reshape(-1, 1)\n",
        "y_train = np.array(train_data['Close-ETH'])\n",
        "\n",
        "# Find the best ARIMA model using auto_arima\n",
        "from pmdarima.arima import auto_arima\n",
        "model = auto_arima(y_train, trace=True, error_action='ignore', suppress_warnings=True)\n",
        "\n",
        "# Fit the model\n",
        "model.fit(y_train)"
      ],
      "metadata": {
        "colab": {
          "base_uri": "https://localhost:8080/",
          "height": 456
        },
        "id": "VKaScGhFSHyc",
        "outputId": "8da1e16d-328e-42cc-eae7-56b86c5a5197"
      },
      "execution_count": 17,
      "outputs": [
        {
          "output_type": "stream",
          "name": "stdout",
          "text": [
            "Performing stepwise search to minimize aic\n",
            " ARIMA(2,1,2)(0,0,0)[0] intercept   : AIC=10493.298, Time=1.30 sec\n",
            " ARIMA(0,1,0)(0,0,0)[0] intercept   : AIC=10534.801, Time=0.04 sec\n",
            " ARIMA(1,1,0)(0,0,0)[0] intercept   : AIC=10507.649, Time=0.09 sec\n",
            " ARIMA(0,1,1)(0,0,0)[0] intercept   : AIC=10513.967, Time=0.32 sec\n",
            " ARIMA(0,1,0)(0,0,0)[0]             : AIC=10533.477, Time=0.03 sec\n",
            " ARIMA(1,1,2)(0,0,0)[0] intercept   : AIC=10493.148, Time=1.77 sec\n",
            " ARIMA(0,1,2)(0,0,0)[0] intercept   : AIC=10494.871, Time=0.85 sec\n",
            " ARIMA(1,1,1)(0,0,0)[0] intercept   : AIC=10491.305, Time=2.02 sec\n",
            " ARIMA(2,1,1)(0,0,0)[0] intercept   : AIC=10495.902, Time=2.69 sec\n",
            " ARIMA(2,1,0)(0,0,0)[0] intercept   : AIC=10495.552, Time=0.50 sec\n",
            " ARIMA(1,1,1)(0,0,0)[0]             : AIC=10490.133, Time=0.79 sec\n",
            " ARIMA(0,1,1)(0,0,0)[0]             : AIC=10512.896, Time=0.28 sec\n",
            " ARIMA(1,1,0)(0,0,0)[0]             : AIC=10506.611, Time=0.10 sec\n",
            " ARIMA(2,1,1)(0,0,0)[0]             : AIC=10494.531, Time=0.75 sec\n",
            " ARIMA(1,1,2)(0,0,0)[0]             : AIC=10491.996, Time=0.73 sec\n",
            " ARIMA(0,1,2)(0,0,0)[0]             : AIC=10493.591, Time=0.44 sec\n",
            " ARIMA(2,1,0)(0,0,0)[0]             : AIC=10494.305, Time=0.14 sec\n",
            " ARIMA(2,1,2)(0,0,0)[0]             : AIC=10491.941, Time=1.59 sec\n",
            "\n",
            "Best model:  ARIMA(1,1,1)(0,0,0)[0]          \n",
            "Total fit time: 14.457 seconds\n"
          ]
        },
        {
          "output_type": "execute_result",
          "data": {
            "text/plain": [
              "ARIMA(order=(1, 1, 1), scoring_args={}, suppress_warnings=True,\n",
              "      with_intercept=False)"
            ],
            "text/html": [
              "<style>#sk-container-id-2 {color: black;background-color: white;}#sk-container-id-2 pre{padding: 0;}#sk-container-id-2 div.sk-toggleable {background-color: white;}#sk-container-id-2 label.sk-toggleable__label {cursor: pointer;display: block;width: 100%;margin-bottom: 0;padding: 0.3em;box-sizing: border-box;text-align: center;}#sk-container-id-2 label.sk-toggleable__label-arrow:before {content: \"▸\";float: left;margin-right: 0.25em;color: #696969;}#sk-container-id-2 label.sk-toggleable__label-arrow:hover:before {color: black;}#sk-container-id-2 div.sk-estimator:hover label.sk-toggleable__label-arrow:before {color: black;}#sk-container-id-2 div.sk-toggleable__content {max-height: 0;max-width: 0;overflow: hidden;text-align: left;background-color: #f0f8ff;}#sk-container-id-2 div.sk-toggleable__content pre {margin: 0.2em;color: black;border-radius: 0.25em;background-color: #f0f8ff;}#sk-container-id-2 input.sk-toggleable__control:checked~div.sk-toggleable__content {max-height: 200px;max-width: 100%;overflow: auto;}#sk-container-id-2 input.sk-toggleable__control:checked~label.sk-toggleable__label-arrow:before {content: \"▾\";}#sk-container-id-2 div.sk-estimator input.sk-toggleable__control:checked~label.sk-toggleable__label {background-color: #d4ebff;}#sk-container-id-2 div.sk-label input.sk-toggleable__control:checked~label.sk-toggleable__label {background-color: #d4ebff;}#sk-container-id-2 input.sk-hidden--visually {border: 0;clip: rect(1px 1px 1px 1px);clip: rect(1px, 1px, 1px, 1px);height: 1px;margin: -1px;overflow: hidden;padding: 0;position: absolute;width: 1px;}#sk-container-id-2 div.sk-estimator {font-family: monospace;background-color: #f0f8ff;border: 1px dotted black;border-radius: 0.25em;box-sizing: border-box;margin-bottom: 0.5em;}#sk-container-id-2 div.sk-estimator:hover {background-color: #d4ebff;}#sk-container-id-2 div.sk-parallel-item::after {content: \"\";width: 100%;border-bottom: 1px solid gray;flex-grow: 1;}#sk-container-id-2 div.sk-label:hover label.sk-toggleable__label {background-color: #d4ebff;}#sk-container-id-2 div.sk-serial::before {content: \"\";position: absolute;border-left: 1px solid gray;box-sizing: border-box;top: 0;bottom: 0;left: 50%;z-index: 0;}#sk-container-id-2 div.sk-serial {display: flex;flex-direction: column;align-items: center;background-color: white;padding-right: 0.2em;padding-left: 0.2em;position: relative;}#sk-container-id-2 div.sk-item {position: relative;z-index: 1;}#sk-container-id-2 div.sk-parallel {display: flex;align-items: stretch;justify-content: center;background-color: white;position: relative;}#sk-container-id-2 div.sk-item::before, #sk-container-id-2 div.sk-parallel-item::before {content: \"\";position: absolute;border-left: 1px solid gray;box-sizing: border-box;top: 0;bottom: 0;left: 50%;z-index: -1;}#sk-container-id-2 div.sk-parallel-item {display: flex;flex-direction: column;z-index: 1;position: relative;background-color: white;}#sk-container-id-2 div.sk-parallel-item:first-child::after {align-self: flex-end;width: 50%;}#sk-container-id-2 div.sk-parallel-item:last-child::after {align-self: flex-start;width: 50%;}#sk-container-id-2 div.sk-parallel-item:only-child::after {width: 0;}#sk-container-id-2 div.sk-dashed-wrapped {border: 1px dashed gray;margin: 0 0.4em 0.5em 0.4em;box-sizing: border-box;padding-bottom: 0.4em;background-color: white;}#sk-container-id-2 div.sk-label label {font-family: monospace;font-weight: bold;display: inline-block;line-height: 1.2em;}#sk-container-id-2 div.sk-label-container {text-align: center;}#sk-container-id-2 div.sk-container {/* jupyter's `normalize.less` sets `[hidden] { display: none; }` but bootstrap.min.css set `[hidden] { display: none !important; }` so we also need the `!important` here to be able to override the default hidden behavior on the sphinx rendered scikit-learn.org. See: https://github.com/scikit-learn/scikit-learn/issues/21755 */display: inline-block !important;position: relative;}#sk-container-id-2 div.sk-text-repr-fallback {display: none;}</style><div id=\"sk-container-id-2\" class=\"sk-top-container\"><div class=\"sk-text-repr-fallback\"><pre> ARIMA(1,1,1)(0,0,0)[0]          </pre><b>In a Jupyter environment, please rerun this cell to show the HTML representation or trust the notebook. <br />On GitHub, the HTML representation is unable to render, please try loading this page with nbviewer.org.</b></div><div class=\"sk-container\" hidden><div class=\"sk-item\"><div class=\"sk-estimator sk-toggleable\"><input class=\"sk-toggleable__control sk-hidden--visually\" id=\"sk-estimator-id-2\" type=\"checkbox\" checked><label for=\"sk-estimator-id-2\" class=\"sk-toggleable__label sk-toggleable__label-arrow\">ARIMA</label><div class=\"sk-toggleable__content\"><pre> ARIMA(1,1,1)(0,0,0)[0]          </pre></div></div></div></div></div>"
            ]
          },
          "metadata": {},
          "execution_count": 17
        }
      ]
    },
    {
      "cell_type": "code",
      "source": [
        "# 4. Quá trình testing \n",
        "x_test = np.array(test_data.index).reshape(-1, 1)\n",
        "y_test = np.array(test_data['Close-ETH'])\n",
        "y_pred = model.predict(n_periods=len(y_test))\n",
        "\n",
        "# 5. Quá trình Validate\n",
        "x_val= np.array(val_data.index).reshape(-1, 1)\n",
        "y_val = np.array(val_data['Close-ETH'])\n",
        "y_pred_val =  model.predict(n_periods=len(y_val))"
      ],
      "metadata": {
        "id": "lBh8whurS0ZB"
      },
      "execution_count": 18,
      "outputs": []
    },
    {
      "cell_type": "code",
      "source": [
        "import datetime\n",
        "# 6. Quá trình tạo index predict 30 ngày tiếp theo\n",
        "last_index =  eth_data.index[-1]\n",
        "print(last_index)\n",
        "next_30_days_index_eth = pd.date_range(start=last_index + datetime.timedelta(days=1), periods=30, freq='D')\n",
        "print(next_30_days_index_eth)\n",
        "# Create an array of 30 consecutive integers starting from last_index\n",
        "x_next_30_days_eth = np.array(next_30_days_index_eth).reshape(-1, 1)\n",
        "\n",
        "# Predict the closing prices for the next 30 days\n",
        "y_next_30_days_eth = model.predict(n_periods=len(x_next_30_days_eth)) \n",
        "\n",
        "# Print the predicted closing prices for the next 30 days\n",
        "print('Predicted closing prices for the next 30 days:')\n",
        "print(y_next_30_days_eth)"
      ],
      "metadata": {
        "colab": {
          "base_uri": "https://localhost:8080/"
        },
        "id": "bnERcRAHR7o4",
        "outputId": "e4d967c3-b77d-443f-e886-5b333943477d"
      },
      "execution_count": 19,
      "outputs": [
        {
          "output_type": "stream",
          "name": "stdout",
          "text": [
            "2023-03-31 00:00:00\n",
            "DatetimeIndex(['2023-04-01', '2023-04-02', '2023-04-03', '2023-04-04',\n",
            "               '2023-04-05', '2023-04-06', '2023-04-07', '2023-04-08',\n",
            "               '2023-04-09', '2023-04-10', '2023-04-11', '2023-04-12',\n",
            "               '2023-04-13', '2023-04-14', '2023-04-15', '2023-04-16',\n",
            "               '2023-04-17', '2023-04-18', '2023-04-19', '2023-04-20',\n",
            "               '2023-04-21', '2023-04-22', '2023-04-23', '2023-04-24',\n",
            "               '2023-04-25', '2023-04-26', '2023-04-27', '2023-04-28',\n",
            "               '2023-04-29', '2023-04-30'],\n",
            "              dtype='datetime64[ns]', freq='D')\n",
            "Predicted closing prices for the next 30 days:\n",
            "[1894.84424578 1895.41543379 1894.95454132 1895.32643615 1895.02635365\n",
            " 1895.26849068 1895.07310994 1895.23076295 1895.1035525  1895.20619881\n",
            " 1895.12337335 1895.19020534 1895.1362785  1895.17979215 1895.14468092\n",
            " 1895.17301222 1895.15015165 1895.16859788 1895.15371359 1895.16572375\n",
            " 1895.15603273 1895.16385243 1895.1575427  1895.16263403 1895.15852583\n",
            " 1895.16184074 1895.15916594 1895.16132424 1895.1595827  1895.16098795]\n"
          ]
        }
      ]
    },
    {
      "cell_type": "code",
      "source": [
        "# 8. Tính RMSE\n",
        "valid_rmse = np.sqrt(np.mean((y_pred_val - y_val)**2))\n",
        "test_rmse = np.sqrt(np.mean((y_pred - y_test)**2))\n",
        "valid_mape = np.mean(np.abs(y_pred_val - y_val)/np.abs(y_val))  # MAPE\n",
        "test_mape = np.mean(np.abs(y_pred - y_test)/np.abs(y_test))  # MAPE\n",
        "print('Validation RMSE:', valid_rmse)\n",
        "print('Testing RMSE:', test_rmse)\n",
        "print('Validation MAPE:', valid_mape)\n",
        "print('Testing MAPE:', test_mape)\n",
        "# 9.Vẽ hình\n",
        "plt.figure(figsize=(12,5), dpi=100)\n",
        "plt.ylabel('Close');\n",
        "plt.xlabel('Date');\n",
        "plt.title('ARIMA Train, Test, Predict')\n",
        "plt.plot(train_data.index, train_data['Close-ETH'])\n",
        "plt.plot(test_data.index, test_data['Close-ETH'])\n",
        "plt.plot(test_data.index, y_pred)\n",
        "plt.plot(val_data.index, y_pred_val)\n",
        "# plt.plot(last_data,y_next_30_days)\n",
        "plt.plot(next_30_days_index_eth,y_next_30_days_eth)\n",
        "\n",
        "plt.legend(['Train', 'Test', 'Predictions','Validate','Next30Day'])\n",
        "plt.show()"
      ],
      "metadata": {
        "colab": {
          "base_uri": "https://localhost:8080/",
          "height": 556
        },
        "id": "pdegy8xUTLIx",
        "outputId": "ef1c0a04-e76f-43b2-d049-3885dacbf4c6"
      },
      "execution_count": 20,
      "outputs": [
        {
          "output_type": "stream",
          "name": "stdout",
          "text": [
            "Validation RMSE: 480.23068148897323\n",
            "Testing RMSE: 1285.5123604738685\n",
            "Validation MAPE: 0.3236041340909358\n",
            "Testing MAPE: 0.37153034119591216\n"
          ]
        },
        {
          "output_type": "display_data",
          "data": {
            "text/plain": [
              "<Figure size 1200x500 with 1 Axes>"
            ],
            "image/png": "[encoded data removed]"
          },
          "metadata": {}
        }
      ]
    },
    {
      "cell_type": "markdown",
      "source": [
        "**<h3>Dự đoán ARIMAX 6-3-1</h3>**"
      ],
      "metadata": {
        "id": "N0wIsXKj3HnI"
      }
    },
    {
      "cell_type": "code",
      "source": [
        "\n",
        "# data = data.reset_index(drop=True) # Reset the index\n",
        "data['Date'] = pd.to_datetime(data['Date'])\n",
        "data.set_index('Date', inplace=True)\n",
        "data = data[['Close', 'Close-ETH']]\n",
        "data = data.dropna() # Drop missing values\n",
        "\n",
        "# Split the data into training, testing, and validation sets\n",
        "train_size = int(0.6 * len(data))\n",
        "test_size = int(0.3 * len(data))\n",
        "val_size = len(data) - train_size - test_size\n",
        "\n",
        "train_data = data[:train_size]\n",
        "test_data = data[train_size:train_size+test_size]\n",
        "val_data = data[train_size+test_size:]\n",
        "print(len(train_data))\n",
        "print(len(test_data))\n",
        "print(len(val_data))"
      ],
      "metadata": {
        "colab": {
          "base_uri": "https://localhost:8080/"
        },
        "id": "GO0MijOG3KkY",
        "outputId": "ff9f6495-259b-4c4b-e696-94f6e7d0ccd8"
      },
      "execution_count": 21,
      "outputs": [
        {
          "output_type": "stream",
          "name": "stdout",
          "text": [
            "930\n",
            "465\n",
            "156\n"
          ]
        }
      ]
    },
    {
      "cell_type": "code",
      "source": [
        "from pmdarima.arima import auto_arima\n",
        "train_exog = train_data[[\"Close-ETH\"]]\n",
        "model = auto_arima(train_data.Close, \n",
        "                      test='adf',       # use adftest to find      \n",
        "                      trace=True,\n",
        "                      error_action='ignore',  \n",
        "                      suppress_warnings=True,  \n",
        "                      stepwise=True,\n",
        "                      exogenous= train_exog)\n",
        "print(model.summary())"
      ],
      "metadata": {
        "colab": {
          "base_uri": "https://localhost:8080/"
        },
        "id": "RYOVvXSkiEBa",
        "outputId": "1b396561-3284-48ae-b906-382d4a1dfee2"
      },
      "execution_count": 22,
      "outputs": [
        {
          "output_type": "stream",
          "name": "stdout",
          "text": [
            "Performing stepwise search to minimize aic\n",
            " ARIMA(2,1,2)(0,0,0)[0] intercept   : AIC=15463.160, Time=0.70 sec\n",
            " ARIMA(0,1,0)(0,0,0)[0] intercept   : AIC=15470.836, Time=0.05 sec\n",
            " ARIMA(1,1,0)(0,0,0)[0] intercept   : AIC=15465.152, Time=0.10 sec\n",
            " ARIMA(0,1,1)(0,0,0)[0] intercept   : AIC=15466.259, Time=0.12 sec\n",
            " ARIMA(0,1,0)(0,0,0)[0]             : AIC=15469.681, Time=0.03 sec\n",
            " ARIMA(1,1,2)(0,0,0)[0] intercept   : AIC=15461.203, Time=0.34 sec\n",
            " ARIMA(0,1,2)(0,0,0)[0] intercept   : AIC=15461.041, Time=0.17 sec\n",
            " ARIMA(0,1,3)(0,0,0)[0] intercept   : AIC=15461.745, Time=0.20 sec\n",
            " ARIMA(1,1,1)(0,0,0)[0] intercept   : AIC=15464.148, Time=0.34 sec\n",
            " ARIMA(1,1,3)(0,0,0)[0] intercept   : AIC=15463.203, Time=1.16 sec\n",
            " ARIMA(0,1,2)(0,0,0)[0]             : AIC=15459.907, Time=0.08 sec\n",
            " ARIMA(0,1,1)(0,0,0)[0]             : AIC=15465.258, Time=0.06 sec\n",
            " ARIMA(1,1,2)(0,0,0)[0]             : AIC=15459.475, Time=0.19 sec\n",
            " ARIMA(1,1,1)(0,0,0)[0]             : AIC=15463.029, Time=0.14 sec\n",
            " ARIMA(2,1,2)(0,0,0)[0]             : AIC=15461.471, Time=0.32 sec\n",
            " ARIMA(1,1,3)(0,0,0)[0]             : AIC=15461.515, Time=0.73 sec\n",
            " ARIMA(0,1,3)(0,0,0)[0]             : AIC=15460.553, Time=0.26 sec\n",
            " ARIMA(2,1,1)(0,0,0)[0]             : AIC=15459.646, Time=0.44 sec\n",
            " ARIMA(2,1,3)(0,0,0)[0]             : AIC=15463.224, Time=1.17 sec\n",
            "\n",
            "Best model:  ARIMA(1,1,2)(0,0,0)[0]          \n",
            "Total fit time: 6.653 seconds\n",
            "                               SARIMAX Results                                \n",
            "==============================================================================\n",
            "Dep. Variable:                      y   No. Observations:                  930\n",
            "Model:               SARIMAX(1, 1, 2)   Log Likelihood               -7725.738\n",
            "Date:                Sun, 04 Jun 2023   AIC                          15459.475\n",
            "Time:                        03:13:20   BIC                          15478.812\n",
            "Sample:                    01-01-2019   HQIC                         15466.851\n",
            "                         - 07-18-2021                                         \n",
            "Covariance Type:                  opg                                         \n",
            "==============================================================================\n",
            "                 coef    std err          z      P>|z|      [0.025      0.975]\n",
            "------------------------------------------------------------------------------\n",
            "ar.L1          0.5231      0.128      4.085      0.000       0.272       0.774\n",
            "ma.L1         -0.6114      0.125     -4.876      0.000      -0.857      -0.366\n",
            "ma.L2          0.1302      0.017      7.820      0.000       0.098       0.163\n",
            "sigma2      9.889e+05   1.75e+04     56.373      0.000    9.55e+05    1.02e+06\n",
            "===================================================================================\n",
            "Ljung-Box (L1) (Q):                   0.00   Jarque-Bera (JB):              6761.15\n",
            "Prob(Q):                              0.96   Prob(JB):                         0.00\n",
            "Heteroskedasticity (H):              24.41   Skew:                            -0.24\n",
            "Prob(H) (two-sided):                  0.00   Kurtosis:                        16.21\n",
            "===================================================================================\n",
            "\n",
            "Warnings:\n",
            "[1] Covariance matrix calculated using the outer product of gradients (complex-step).\n"
          ]
        }
      ]
    },
    {
      "cell_type": "code",
      "source": [
        "from statsmodels.tsa.statespace.sarimax import SARIMAX\n",
        "model= SARIMAX(train_data.Close, \n",
        " exog=train_exog,\n",
        " order=(2,1,2),\n",
        " enforce_invertibility=False, enforce_stationarity=False)"
      ],
      "metadata": {
        "colab": {
          "base_uri": "https://localhost:8080/"
        },
        "id": "i73A1r-TCPnc",
        "outputId": "dc25e933-8482-4751-9c26-226d4cce8c00"
      },
      "execution_count": 23,
      "outputs": [
        {
          "output_type": "stream",
          "name": "stderr",
          "text": [
            "/usr/local/lib/python3.10/dist-packages/statsmodels/tsa/base/tsa_model.py:471: ValueWarning: No frequency information was provided, so inferred frequency D will be used.\n",
            "  self._init_dates(dates, freq)\n",
            "/usr/local/lib/python3.10/dist-packages/statsmodels/tsa/base/tsa_model.py:471: ValueWarning: No frequency information was provided, so inferred frequency D will be used.\n",
            "  self._init_dates(dates, freq)\n"
          ]
        }
      ]
    },
    {
      "cell_type": "code",
      "source": [
        "# 4. Quá trình testing \n",
        "x_test = np.array(test_data.index).reshape(-1, 1)\n",
        "y_test = np.array(test_data['Close'])\n",
        "test_exog = test_data[['Close-ETH']]\n",
        "model_fit = model.fit()\n",
        "# y_pred = model.predict(n_periods=len(y_test))\n",
        "y_pred = model_fit.forecast(steps=len(y_test), exog=test_exog)\n",
        "print(y_pred)\n",
        "\n",
        "# 5. Quá trình Validate\n",
        "x_val= np.array(val_data.index).reshape(-1, 1)\n",
        "y_val = np.array(val_data['Close'])\n",
        "val_exog = val_data[['Close-ETH']]\n",
        "print(val_exog)\n",
        "y_pred_val =  model_fit.forecast(steps=len(y_val), exog=val_exog)\n",
        "print(y_pred_val)"
      ],
      "metadata": {
        "colab": {
          "base_uri": "https://localhost:8080/"
        },
        "id": "cjSOYgRelzsk",
        "outputId": "83ff5480-465c-468a-b17c-1da62a29e89d"
      },
      "execution_count": 24,
      "outputs": [
        {
          "output_type": "stream",
          "name": "stdout",
          "text": [
            "2021-07-19    31018.801187\n",
            "2021-07-20    30741.519200\n",
            "2021-07-21    32752.499035\n",
            "2021-07-22    33102.019158\n",
            "2021-07-23    34088.847704\n",
            "                  ...     \n",
            "2022-10-22    26163.705888\n",
            "2022-10-23    26649.313318\n",
            "2022-10-24    26467.032179\n",
            "2022-10-25    27619.764710\n",
            "2022-10-26    28656.246427\n",
            "Freq: D, Name: predicted_mean, Length: 465, dtype: float64\n",
            "              Close-ETH\n",
            "Date                   \n",
            "2022-10-27  1514.374878\n",
            "2022-10-28  1555.477905\n",
            "2022-10-29  1619.698486\n",
            "2022-10-30  1590.783325\n",
            "2022-10-31  1572.714478\n",
            "...                 ...\n",
            "2023-03-27  1715.460815\n",
            "2023-03-28  1772.785645\n",
            "2023-03-29  1793.001831\n",
            "2023-03-30  1792.737183\n",
            "2023-03-31  1822.022095\n",
            "\n",
            "[156 rows x 1 columns]\n",
            "2021-07-19    28025.768469\n",
            "2021-07-20    28448.907771\n",
            "2021-07-21    29084.125117\n",
            "2021-07-22    28809.717378\n",
            "2021-07-23    28634.171669\n",
            "                  ...     \n",
            "2021-12-17    30127.400633\n",
            "2021-12-18    30693.801445\n",
            "2021-12-19    30893.548536\n",
            "2021-12-20    30890.933769\n",
            "2021-12-21    31180.284822\n",
            "Freq: D, Name: predicted_mean, Length: 156, dtype: float64\n"
          ]
        }
      ]
    },
    {
      "cell_type": "code",
      "source": [
        "import datetime\n",
        "# 6. Quá trình tạo index predict 30 ngày tiếp theo\n",
        "last_index =  data.index[-1]\n",
        "print(last_index)\n",
        "# last_data = pd.RangeIndex(start=last_index, stop=last_index+30, step=1)\n",
        "next_30_days_index = pd.date_range(start=last_index + datetime.timedelta(days=1), periods=30, freq='D')\n",
        "print(next_30_days_index)\n",
        "# Create an array of 30 consecutive integers starting from last_index\n",
        "# x_next_30_days = np.array(range(last_index+1, last_index+31)).reshape(-1, 1)\n",
        "x_next_30_days = np.array(next_30_days_index).reshape(-1, 1)\n",
        "\n",
        "\n",
        "\n",
        "# Predict the closing prices for the next 30 days\n",
        "y_next_30_days = model_fit.forecast(steps=len(x_next_30_days), exog = y_next_30_days_eth) \n",
        "\n",
        "# Print the predicted closing prices for the next 30 days\n",
        "print('Predicted closing prices for the next 30 days:')\n",
        "print(y_next_30_days)"
      ],
      "metadata": {
        "colab": {
          "base_uri": "https://localhost:8080/"
        },
        "id": "p2WNLBfBngms",
        "outputId": "843aae68-ecfc-4e18-9f55-9d972364b9ff"
      },
      "execution_count": 25,
      "outputs": [
        {
          "output_type": "stream",
          "name": "stdout",
          "text": [
            "2023-03-31 00:00:00\n",
            "DatetimeIndex(['2023-04-01', '2023-04-02', '2023-04-03', '2023-04-04',\n",
            "               '2023-04-05', '2023-04-06', '2023-04-07', '2023-04-08',\n",
            "               '2023-04-09', '2023-04-10', '2023-04-11', '2023-04-12',\n",
            "               '2023-04-13', '2023-04-14', '2023-04-15', '2023-04-16',\n",
            "               '2023-04-17', '2023-04-18', '2023-04-19', '2023-04-20',\n",
            "               '2023-04-21', '2023-04-22', '2023-04-23', '2023-04-24',\n",
            "               '2023-04-25', '2023-04-26', '2023-04-27', '2023-04-28',\n",
            "               '2023-04-29', '2023-04-30'],\n",
            "              dtype='datetime64[ns]', freq='D')\n",
            "Predicted closing prices for the next 30 days:\n",
            "2021-07-19    31785.014066\n",
            "2021-07-20    31807.676615\n",
            "2021-07-21    31803.805600\n",
            "2021-07-22    31818.770003\n",
            "2021-07-23    31818.789412\n",
            "2021-07-24    31829.240227\n",
            "2021-07-25    31831.073839\n",
            "2021-07-26    31838.750599\n",
            "2021-07-27    31841.332080\n",
            "2021-07-28    31847.213051\n",
            "2021-07-29    31850.000233\n",
            "2021-07-30    31854.655560\n",
            "2021-07-31    31857.379968\n",
            "2021-08-01    31861.156156\n",
            "2021-08-02    31863.692742\n",
            "2021-08-03    31866.810413\n",
            "2021-08-04    31869.109195\n",
            "2021-08-05    31871.715797\n",
            "2021-08-06    31873.765658\n",
            "2021-08-07    31875.964495\n",
            "2021-08-08    31877.773860\n",
            "2021-08-09    31879.640493\n",
            "2021-08-10    31881.226958\n",
            "2021-08-11    31882.818740\n",
            "2021-08-12    31884.203523\n",
            "2021-08-13    31885.565321\n",
            "2021-08-14    31886.770315\n",
            "2021-08-15    31887.938086\n",
            "2021-08-16    31888.984346\n",
            "2021-08-17    31889.987442\n",
            "Freq: D, Name: predicted_mean, dtype: float64\n"
          ]
        }
      ]
    },
    {
      "cell_type": "code",
      "source": [
        "# 8. Tính RMSE\n",
        "valid_rmse = np.sqrt(np.mean((y_pred_val - y_val)**2))\n",
        "test_rmse = np.sqrt(np.mean((y_pred - y_test)**2))\n",
        "valid_mape = np.mean(np.abs(y_pred_val - y_val)/np.abs(y_val))  # MAPE\n",
        "test_mape = np.mean(np.abs(y_pred - y_test)/np.abs(y_test))  # MAPE\n",
        "print('Validation RMSE:', valid_rmse)\n",
        "print('Testing RMSE:', test_rmse)\n",
        "print('Validation MAPE:', valid_mape)\n",
        "print('Testing MAPE:', test_mape)\n",
        "\n",
        "\n",
        "\n",
        "# 9.Vẽ hình\n",
        "plt.figure(figsize=(12,5), dpi=100)\n",
        "plt.ylabel('Close');\n",
        "plt.xlabel('Date');\n",
        "plt.title('ARIMAX Train, Test, Predict')\n",
        "plt.plot(train_data.index, train_data['Close'])\n",
        "plt.plot(test_data.index, test_data['Close'])\n",
        "plt.plot(test_data.index, y_pred)\n",
        "plt.plot(val_data.index, y_pred_val)\n",
        "# plt.plot(last_data,y_next_30_days)\n",
        "plt.plot(next_30_days_index,y_next_30_days)\n",
        "\n",
        "plt.legend(['Train', 'Test', 'Predictions','Validate','Next30Day'])\n",
        "plt.show()"
      ],
      "metadata": {
        "colab": {
          "base_uri": "https://localhost:8080/",
          "height": 556
        },
        "id": "CXpz3-oGrqpV",
        "outputId": "ed195ad3-1f5b-4431-f28d-85bf6ab6a58e"
      },
      "execution_count": 26,
      "outputs": [
        {
          "output_type": "stream",
          "name": "stdout",
          "text": [
            "Validation RMSE: 7219.256342572458\n",
            "Testing RMSE: 4625.047628471628\n",
            "Validation MAPE: 0.3640180025247486\n",
            "Testing MAPE: 0.1299707655672918\n"
          ]
        },
        {
          "output_type": "display_data",
          "data": {
            "text/plain": [
              "<Figure size 1200x500 with 1 Axes>"
            ],
            "image/png": "[encoded data removed]"
          },
          "metadata": {}
        }
      ]
    },
    {
      "cell_type": "code",
      "source": [],
      "metadata": {
        "id": "cx_LclX0ZUVN"
      },
      "execution_count": null,
      "outputs": []
    }
  ]
}