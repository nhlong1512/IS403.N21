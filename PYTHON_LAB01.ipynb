{
  "cells": [
    {
      "cell_type": "markdown",
      "metadata": {
        "id": "view-in-github",
        "colab_type": "text"
      },
      "source": [
        "<a href=\"https://colab.research.google.com/github/nhlong1512/IS403.N21/blob/main/PYTHON_LAB01.ipynb\" target=\"_parent\"><img src=\"https://colab.research.google.com/assets/colab-badge.svg\" alt=\"Open In Colab\"/></a>"
      ]
    },
    {
      "cell_type": "code",
      "execution_count": null,
      "id": "b126873d",
      "metadata": {
        "id": "b126873d"
      },
      "outputs": [],
      "source": [
        "import numpy as np\n",
        "import pandas as pd\n",
        "import statistics as st\n",
        "import matplotlib.pyplot as plt\n",
        "from scipy.stats import skew\n",
        "from scipy.stats import kurtosis"
      ]
    },
    {
      "cell_type": "code",
      "execution_count": null,
      "id": "a9069c7e",
      "metadata": {
        "id": "a9069c7e",
        "outputId": "c13a5ec1-51ba-4fae-d02d-ba581dd4954b"
      },
      "outputs": [
        {
          "data": {
            "text/html": [
              "<div>\n",
              "<style scoped>\n",
              "    .dataframe tbody tr th:only-of-type {\n",
              "        vertical-align: middle;\n",
              "    }\n",
              "\n",
              "    .dataframe tbody tr th {\n",
              "        vertical-align: top;\n",
              "    }\n",
              "\n",
              "    .dataframe thead th {\n",
              "        text-align: right;\n",
              "    }\n",
              "</style>\n",
              "<table border=\"1\" class=\"dataframe\">\n",
              "  <thead>\n",
              "    <tr style=\"text-align: right;\">\n",
              "      <th></th>\n",
              "      <th>Year</th>\n",
              "      <th>GDP</th>\n",
              "    </tr>\n",
              "  </thead>\n",
              "  <tbody>\n",
              "    <tr>\n",
              "      <th>0</th>\n",
              "      <td>1991</td>\n",
              "      <td>14.0</td>\n",
              "    </tr>\n",
              "    <tr>\n",
              "      <th>1</th>\n",
              "      <td>1992</td>\n",
              "      <td>44.0</td>\n",
              "    </tr>\n",
              "    <tr>\n",
              "      <th>2</th>\n",
              "      <td>1993</td>\n",
              "      <td>89.0</td>\n",
              "    </tr>\n",
              "    <tr>\n",
              "      <th>3</th>\n",
              "      <td>1994</td>\n",
              "      <td>130.0</td>\n",
              "    </tr>\n",
              "    <tr>\n",
              "      <th>4</th>\n",
              "      <td>1995</td>\n",
              "      <td>188.0</td>\n",
              "    </tr>\n",
              "    <tr>\n",
              "      <th>5</th>\n",
              "      <td>1996</td>\n",
              "      <td>237.0</td>\n",
              "    </tr>\n",
              "    <tr>\n",
              "      <th>6</th>\n",
              "      <td>1997</td>\n",
              "      <td>261.0</td>\n",
              "    </tr>\n",
              "    <tr>\n",
              "      <th>7</th>\n",
              "      <td>1998</td>\n",
              "      <td>261.0</td>\n",
              "    </tr>\n",
              "    <tr>\n",
              "      <th>8</th>\n",
              "      <td>1999</td>\n",
              "      <td>274.0</td>\n",
              "    </tr>\n",
              "    <tr>\n",
              "      <th>9</th>\n",
              "      <td>2000</td>\n",
              "      <td>302.0</td>\n",
              "    </tr>\n",
              "    <tr>\n",
              "      <th>10</th>\n",
              "      <td>2001</td>\n",
              "      <td>315.0</td>\n",
              "    </tr>\n",
              "    <tr>\n",
              "      <th>11</th>\n",
              "      <td>2002</td>\n",
              "      <td>340.0</td>\n",
              "    </tr>\n",
              "    <tr>\n",
              "      <th>12</th>\n",
              "      <td>2003</td>\n",
              "      <td>389.0</td>\n",
              "    </tr>\n",
              "    <tr>\n",
              "      <th>13</th>\n",
              "      <td>2004</td>\n",
              "      <td>453.0</td>\n",
              "    </tr>\n",
              "    <tr>\n",
              "      <th>14</th>\n",
              "      <td>2005</td>\n",
              "      <td>537.0</td>\n",
              "    </tr>\n",
              "    <tr>\n",
              "      <th>15</th>\n",
              "      <td>2006</td>\n",
              "      <td>624.0</td>\n",
              "    </tr>\n",
              "    <tr>\n",
              "      <th>16</th>\n",
              "      <td>2007</td>\n",
              "      <td>730.0</td>\n",
              "    </tr>\n",
              "    <tr>\n",
              "      <th>17</th>\n",
              "      <td>2008</td>\n",
              "      <td>1065.0</td>\n",
              "    </tr>\n",
              "    <tr>\n",
              "      <th>18</th>\n",
              "      <td>2009</td>\n",
              "      <td>1132.0</td>\n",
              "    </tr>\n",
              "    <tr>\n",
              "      <th>19</th>\n",
              "      <td>2010</td>\n",
              "      <td>1234.0</td>\n",
              "    </tr>\n",
              "    <tr>\n",
              "      <th>20</th>\n",
              "      <td>2011</td>\n",
              "      <td>1443.0</td>\n",
              "    </tr>\n",
              "    <tr>\n",
              "      <th>21</th>\n",
              "      <td>2012</td>\n",
              "      <td>1655.0</td>\n",
              "    </tr>\n",
              "    <tr>\n",
              "      <th>22</th>\n",
              "      <td>2013</td>\n",
              "      <td>1811.0</td>\n",
              "    </tr>\n",
              "    <tr>\n",
              "      <th>23</th>\n",
              "      <td>2014</td>\n",
              "      <td>1952.0</td>\n",
              "    </tr>\n",
              "    <tr>\n",
              "      <th>24</th>\n",
              "      <td>2015</td>\n",
              "      <td>2009.0</td>\n",
              "    </tr>\n",
              "    <tr>\n",
              "      <th>25</th>\n",
              "      <td>2016</td>\n",
              "      <td>2115.0</td>\n",
              "    </tr>\n",
              "    <tr>\n",
              "      <th>26</th>\n",
              "      <td>2017</td>\n",
              "      <td>2289.0</td>\n",
              "    </tr>\n",
              "    <tr>\n",
              "      <th>27</th>\n",
              "      <td>2018</td>\n",
              "      <td>2490.0</td>\n",
              "    </tr>\n",
              "    <tr>\n",
              "      <th>28</th>\n",
              "      <td>2019</td>\n",
              "      <td>2615.0</td>\n",
              "    </tr>\n",
              "    <tr>\n",
              "      <th>29</th>\n",
              "      <td>2020</td>\n",
              "      <td>2679.0</td>\n",
              "    </tr>\n",
              "  </tbody>\n",
              "</table>\n",
              "</div>"
            ],
            "text/plain": [
              "    Year     GDP\n",
              "0   1991    14.0\n",
              "1   1992    44.0\n",
              "2   1993    89.0\n",
              "3   1994   130.0\n",
              "4   1995   188.0\n",
              "5   1996   237.0\n",
              "6   1997   261.0\n",
              "7   1998   261.0\n",
              "8   1999   274.0\n",
              "9   2000   302.0\n",
              "10  2001   315.0\n",
              "11  2002   340.0\n",
              "12  2003   389.0\n",
              "13  2004   453.0\n",
              "14  2005   537.0\n",
              "15  2006   624.0\n",
              "16  2007   730.0\n",
              "17  2008  1065.0\n",
              "18  2009  1132.0\n",
              "19  2010  1234.0\n",
              "20  2011  1443.0\n",
              "21  2012  1655.0\n",
              "22  2013  1811.0\n",
              "23  2014  1952.0\n",
              "24  2015  2009.0\n",
              "25  2016  2115.0\n",
              "26  2017  2289.0\n",
              "27  2018  2490.0\n",
              "28  2019  2615.0\n",
              "29  2020  2679.0"
            ]
          },
          "execution_count": 3,
          "metadata": {},
          "output_type": "execute_result"
        }
      ],
      "source": [
        "gdp_lab= pd.read_csv(\"GDP_232022.csv\")\n",
        "gdp_lab"
      ]
    },
    {
      "cell_type": "code",
      "execution_count": null,
      "id": "4fea37d6",
      "metadata": {
        "id": "4fea37d6",
        "outputId": "3f411e7c-565b-4249-cbbc-9df9408d453c"
      },
      "outputs": [
        {
          "data": {
            "text/plain": [
              "30"
            ]
          },
          "execution_count": 4,
          "metadata": {},
          "output_type": "execute_result"
        }
      ],
      "source": [
        "#Hàm lấy số lượng mẫu\n",
        "len(gdp_lab)"
      ]
    },
    {
      "cell_type": "code",
      "execution_count": null,
      "id": "d63b60a3",
      "metadata": {
        "id": "d63b60a3",
        "outputId": "7b11ee44-3436-4193-a22b-24d7186a2808"
      },
      "outputs": [
        {
          "data": {
            "text/plain": [
              "14.0"
            ]
          },
          "execution_count": 5,
          "metadata": {},
          "output_type": "execute_result"
        }
      ],
      "source": [
        "#Hàm tìm lớn nhất\n",
        "min(gdp_lab.GDP)"
      ]
    },
    {
      "cell_type": "code",
      "execution_count": null,
      "id": "a2a46819",
      "metadata": {
        "id": "a2a46819",
        "outputId": "0bfe5d83-2a99-4ee2-b2c0-faf2d2cab934"
      },
      "outputs": [
        {
          "data": {
            "text/plain": [
              "2679.0"
            ]
          },
          "execution_count": 6,
          "metadata": {},
          "output_type": "execute_result"
        }
      ],
      "source": [
        "#Hàm tìm nhỏ nhất\n",
        "max(gdp_lab.GDP)"
      ]
    },
    {
      "cell_type": "code",
      "execution_count": null,
      "id": "22918b97",
      "metadata": {
        "id": "22918b97",
        "outputId": "ea7cccfd-8eee-41e5-82a2-e949515c594e"
      },
      "outputs": [
        {
          "data": {
            "text/plain": [
              "1952.0"
            ]
          },
          "execution_count": 7,
          "metadata": {},
          "output_type": "execute_result"
        }
      ],
      "source": [
        "#Tính trung bình\n",
        "st.mean(gdp_lab.GDP)"
      ]
    },
    {
      "cell_type": "code",
      "execution_count": null,
      "id": "f4efa26b",
      "metadata": {
        "id": "f4efa26b",
        "outputId": "02127c62-5d61-4b65-a399-691624410be7"
      },
      "outputs": [
        {
          "data": {
            "text/plain": [
              "1980.5"
            ]
          },
          "execution_count": 11,
          "metadata": {},
          "output_type": "execute_result"
        }
      ],
      "source": [
        "#Tính Trung Vị\n",
        "st.median(gdp_lab.GDP)"
      ]
    },
    {
      "cell_type": "code",
      "execution_count": null,
      "id": "54d9a3a5",
      "metadata": {
        "id": "54d9a3a5",
        "outputId": "1dd68372-69e5-4613-ee3e-299a8c020296"
      },
      "outputs": [
        {
          "data": {
            "text/plain": [
              "268729.45454545453"
            ]
          },
          "execution_count": 12,
          "metadata": {},
          "output_type": "execute_result"
        }
      ],
      "source": [
        "#Tính Phương sai\n",
        "st.variance(gdp_lab.GDP)"
      ]
    },
    {
      "cell_type": "code",
      "execution_count": null,
      "id": "662a03dd",
      "metadata": {
        "id": "662a03dd",
        "outputId": "83bc6b9c-f3ff-49f1-977c-bff784c534aa"
      },
      "outputs": [
        {
          "data": {
            "text/plain": [
              "518.3912176584925"
            ]
          },
          "execution_count": 13,
          "metadata": {},
          "output_type": "execute_result"
        }
      ],
      "source": [
        "#Tính độ lệnh chuẩn\n",
        "st.stdev(gdp_lab.GDP)"
      ]
    },
    {
      "cell_type": "code",
      "execution_count": null,
      "id": "3295b2eb",
      "metadata": {
        "id": "3295b2eb",
        "outputId": "79a24290-a68e-479f-c8e1-69316e81a994"
      },
      "outputs": [
        {
          "data": {
            "text/plain": [
              "0.2655692713414408"
            ]
          },
          "execution_count": 14,
          "metadata": {},
          "output_type": "execute_result"
        }
      ],
      "source": [
        "#Tính CV\n",
        "cv = st.stdev(gdp_lab.GDP)/st.mean(gdp_lab.GDP)\n",
        "cv"
      ]
    },
    {
      "cell_type": "code",
      "execution_count": null,
      "id": "adbaee16",
      "metadata": {
        "id": "adbaee16",
        "outputId": "3644ebe7-4241-4186-9c67-b69483230a39"
      },
      "outputs": [
        {
          "data": {
            "text/plain": [
              "-0.14191111857131028"
            ]
          },
          "execution_count": 8,
          "metadata": {},
          "output_type": "execute_result"
        }
      ],
      "source": [
        "skew(gdp_lab.GDP)"
      ]
    },
    {
      "cell_type": "code",
      "execution_count": null,
      "id": "54e8c796",
      "metadata": {
        "id": "54e8c796",
        "outputId": "b219af62-d3a7-4f31-8326-030346eefdc1"
      },
      "outputs": [
        {
          "data": {
            "text/plain": [
              "-1.127997700241863"
            ]
          },
          "execution_count": 9,
          "metadata": {},
          "output_type": "execute_result"
        }
      ],
      "source": [
        "kurtosis(gdp_lab.GDP)"
      ]
    },
    {
      "cell_type": "code",
      "execution_count": null,
      "id": "1aebe7c7",
      "metadata": {
        "id": "1aebe7c7",
        "outputId": "ade45bc8-de5b-477d-d215-9bc2c4108629"
      },
      "outputs": [
        {
          "data": {
            "text/plain": [
              "264.25"
            ]
          },
          "execution_count": 7,
          "metadata": {},
          "output_type": "execute_result"
        }
      ],
      "source": [
        "np.quantile(gdp_lab.GDP,0.25)"
      ]
    },
    {
      "cell_type": "code",
      "execution_count": null,
      "id": "b742418d",
      "metadata": {
        "id": "b742418d"
      },
      "outputs": [],
      "source": [
        "import matplotlib.pyplot as plt"
      ]
    },
    {
      "cell_type": "code",
      "execution_count": null,
      "id": "6af9cc83",
      "metadata": {
        "id": "6af9cc83",
        "outputId": "a59aa1fe-3143-41e0-d285-19f13b220c4f"
      },
      "outputs": [
        {
          "data": {
            "image/png": "[encoded data removed]",
            "text/plain": [
              "<Figure size 432x288 with 1 Axes>"
            ]
          },
          "metadata": {
            "needs_background": "light"
          },
          "output_type": "display_data"
        }
      ],
      "source": [
        "# Creating plot\n",
        "plt.boxplot(gdp_lab.GDP)\n",
        " \n",
        "# show plot\n",
        "plt.show()"
      ]
    },
    {
      "cell_type": "code",
      "execution_count": null,
      "id": "4492aa09",
      "metadata": {
        "id": "4492aa09",
        "outputId": "877870db-9970-4f5e-d0da-5f7959625dc5"
      },
      "outputs": [
        {
          "data": {
            "image/png": "[encoded data removed]",
            "text/plain": [
              "<Figure size 432x288 with 1 Axes>"
            ]
          },
          "metadata": {
            "needs_background": "light"
          },
          "output_type": "display_data"
        }
      ],
      "source": [
        "# Creating plot\n",
        "plt.hist(gdp_lab.GDP)\n",
        " \n",
        "# show plot\n",
        "plt.show()"
      ]
    },
    {
      "cell_type": "code",
      "execution_count": null,
      "id": "ddbc96e2",
      "metadata": {
        "id": "ddbc96e2"
      },
      "outputs": [],
      "source": []
    }
  ],
  "metadata": {
    "kernelspec": {
      "display_name": "Python 3 (ipykernel)",
      "language": "python",
      "name": "python3"
    },
    "language_info": {
      "codemirror_mode": {
        "name": "ipython",
        "version": 3
      },
      "file_extension": ".py",
      "mimetype": "text/x-python",
      "name": "python",
      "nbconvert_exporter": "python",
      "pygments_lexer": "ipython3",
      "version": "3.9.9"
    },
    "colab": {
      "provenance": [],
      "include_colab_link": true
    }
  },
  "nbformat": 4,
  "nbformat_minor": 5
}