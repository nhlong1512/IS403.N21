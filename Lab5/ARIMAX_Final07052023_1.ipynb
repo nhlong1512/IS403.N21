{
  "nbformat": 4,
  "nbformat_minor": 0,
  "metadata": {
    "colab": {
      "provenance": [],
      "authorship_tag": "ABX9TyPk/GWwzBDNgO0z+BL+v1/v",
      "include_colab_link": true
    },
    "kernelspec": {
      "name": "python3",
      "display_name": "Python 3"
    },
    "language_info": {
      "name": "python"
    }
  },
  "cells": [
    {
      "cell_type": "markdown",
      "metadata": {
        "id": "view-in-github",
        "colab_type": "text"
      },
      "source": [
        "<a href=\"https://colab.research.google.com/github/nhlong1512/IS403.N21/blob/main/Lab5/ARIMAX_Final07052023_1.ipynb\" target=\"_parent\"><img src=\"https://colab.research.google.com/assets/colab-badge.svg\" alt=\"Open In Colab\"/></a>"
      ]
    },
    {
      "cell_type": "code",
      "execution_count": 47,
      "metadata": {
        "id": "NIJ_X3Mr2ZaE"
      },
      "outputs": [],
      "source": [
        "import numpy as np # linear algebra\n",
        "import pandas as pd # data processing, CSV file I/O (e.g. pd.read_csv)\n",
        "from statsmodels.tsa.arima.model import ARIMA\n",
        "from statsmodels.tsa.statespace.sarimax import SARIMAX\n",
        "import matplotlib.pyplot as plt\n",
        "from sklearn.metrics import mean_squared_error"
      ]
    },
    {
      "cell_type": "markdown",
      "source": [
        "Đọc dữ liệu"
      ],
      "metadata": {
        "id": "rQ9VeiuD2o6m"
      }
    },
    {
      "cell_type": "code",
      "source": [
        "dff = pd.read_excel('VCB.xlsx')\n",
        "vcb_data = dff.loc[::-1].reset_index(drop=True)\n",
        "print(vcb_data)\n",
        "dff = pd.read_excel('VNIndex.xlsx')\n",
        "vnindex_data = dff.loc[::-1].reset_index(drop=True)\n",
        "print(vnindex_data)"
      ],
      "metadata": {
        "id": "PM12i09v2nvr",
        "colab": {
          "base_uri": "https://localhost:8080/"
        },
        "outputId": "9ab5db9f-7bda-4a83-d56f-4f7e6268c04f"
      },
      "execution_count": 48,
      "outputs": [
        {
          "output_type": "stream",
          "name": "stdout",
          "text": [
            "                    Ngày  Lần cuối     Mở    Cao   Thấp       KL  % Thay đổi\n",
            "0    2022-04-01 00:00:00     79000  79000  79400  78000    1.13M      0.0025\n",
            "1    2022-05-01 00:00:00     78000  79000  80400  78000    1.60M     -0.0127\n",
            "2    2022-06-01 00:00:00     79100  78600  79900  77900    1.22M      0.0141\n",
            "3    2022-07-01 00:00:00     79800  79600  79900  78200  966.20K      0.0088\n",
            "4    2022-10-01 00:00:00     79500  79700  79900  78500    1.10M     -0.0038\n",
            "..                   ...       ...    ...    ...    ...      ...         ...\n",
            "333  2023-11-05 00:00:00     90800  92000  92300  90800  460.90K     -0.0077\n",
            "334  2023-12-05 00:00:00     93000  91500  93000  90800  602.90K      0.0242\n",
            "335           15/05/2023     91300  92800  93000  91200  419.60K     -0.0183\n",
            "336           16/05/2023     93000  92000  93100  91100  647.70K      0.0186\n",
            "337           17/05/2023     92600  92600  93000  92100  501.50K     -0.0043\n",
            "\n",
            "[338 rows x 7 columns]\n",
            "                    Ngày  Mở-VNINDEX\n",
            "0    2022-04-01 00:00:00     1508.55\n",
            "1    2022-05-01 00:00:00     1525.58\n",
            "2    2022-06-01 00:00:00     1522.50\n",
            "3    2022-07-01 00:00:00     1534.10\n",
            "4    2022-10-01 00:00:00     1528.48\n",
            "..                   ...         ...\n",
            "333  2023-11-05 00:00:00     1058.26\n",
            "334  2023-12-05 00:00:00     1057.12\n",
            "335           15/05/2023     1066.90\n",
            "336           16/05/2023     1065.71\n",
            "337           17/05/2023     1065.91\n",
            "\n",
            "[338 rows x 2 columns]\n"
          ]
        }
      ]
    },
    {
      "cell_type": "markdown",
      "source": [
        "Dữ liệu BTC-USD"
      ],
      "metadata": {
        "id": "uguaZ0tu21Sg"
      }
    },
    {
      "cell_type": "code",
      "source": [
        "vcb_data.head()"
      ],
      "metadata": {
        "colab": {
          "base_uri": "https://localhost:8080/",
          "height": 206
        },
        "id": "KDFVJyIE2qI8",
        "outputId": "9d768795-bb46-4168-b0f3-98a93d1a1419"
      },
      "execution_count": 49,
      "outputs": [
        {
          "output_type": "execute_result",
          "data": {
            "text/plain": [
              "                  Ngày  Lần cuối     Mở    Cao   Thấp       KL  % Thay đổi\n",
              "0  2022-04-01 00:00:00     79000  79000  79400  78000    1.13M      0.0025\n",
              "1  2022-05-01 00:00:00     78000  79000  80400  78000    1.60M     -0.0127\n",
              "2  2022-06-01 00:00:00     79100  78600  79900  77900    1.22M      0.0141\n",
              "3  2022-07-01 00:00:00     79800  79600  79900  78200  966.20K      0.0088\n",
              "4  2022-10-01 00:00:00     79500  79700  79900  78500    1.10M     -0.0038"
            ],
            "text/html": [
              "\n",
              "  <div id=\"df-f5fe78a0-579d-4e88-b4e2-30abd00b51af\">\n",
              "    <div class=\"colab-df-container\">\n",
              "      <div>\n",
              "<style scoped>\n",
              "    .dataframe tbody tr th:only-of-type {\n",
              "        vertical-align: middle;\n",
              "    }\n",
              "\n",
              "    .dataframe tbody tr th {\n",
              "        vertical-align: top;\n",
              "    }\n",
              "\n",
              "    .dataframe thead th {\n",
              "        text-align: right;\n",
              "    }\n",
              "</style>\n",
              "<table border=\"1\" class=\"dataframe\">\n",
              "  <thead>\n",
              "    <tr style=\"text-align: right;\">\n",
              "      <th></th>\n",
              "      <th>Ngày</th>\n",
              "      <th>Lần cuối</th>\n",
              "      <th>Mở</th>\n",
              "      <th>Cao</th>\n",
              "      <th>Thấp</th>\n",
              "      <th>KL</th>\n",
              "      <th>% Thay đổi</th>\n",
              "    </tr>\n",
              "  </thead>\n",
              "  <tbody>\n",
              "    <tr>\n",
              "      <th>0</th>\n",
              "      <td>2022-04-01 00:00:00</td>\n",
              "      <td>79000</td>\n",
              "      <td>79000</td>\n",
              "      <td>79400</td>\n",
              "      <td>78000</td>\n",
              "      <td>1.13M</td>\n",
              "      <td>0.0025</td>\n",
              "    </tr>\n",
              "    <tr>\n",
              "      <th>1</th>\n",
              "      <td>2022-05-01 00:00:00</td>\n",
              "      <td>78000</td>\n",
              "      <td>79000</td>\n",
              "      <td>80400</td>\n",
              "      <td>78000</td>\n",
              "      <td>1.60M</td>\n",
              "      <td>-0.0127</td>\n",
              "    </tr>\n",
              "    <tr>\n",
              "      <th>2</th>\n",
              "      <td>2022-06-01 00:00:00</td>\n",
              "      <td>79100</td>\n",
              "      <td>78600</td>\n",
              "      <td>79900</td>\n",
              "      <td>77900</td>\n",
              "      <td>1.22M</td>\n",
              "      <td>0.0141</td>\n",
              "    </tr>\n",
              "    <tr>\n",
              "      <th>3</th>\n",
              "      <td>2022-07-01 00:00:00</td>\n",
              "      <td>79800</td>\n",
              "      <td>79600</td>\n",
              "      <td>79900</td>\n",
              "      <td>78200</td>\n",
              "      <td>966.20K</td>\n",
              "      <td>0.0088</td>\n",
              "    </tr>\n",
              "    <tr>\n",
              "      <th>4</th>\n",
              "      <td>2022-10-01 00:00:00</td>\n",
              "      <td>79500</td>\n",
              "      <td>79700</td>\n",
              "      <td>79900</td>\n",
              "      <td>78500</td>\n",
              "      <td>1.10M</td>\n",
              "      <td>-0.0038</td>\n",
              "    </tr>\n",
              "  </tbody>\n",
              "</table>\n",
              "</div>\n",
              "      <button class=\"colab-df-convert\" onclick=\"convertToInteractive('df-f5fe78a0-579d-4e88-b4e2-30abd00b51af')\"\n",
              "              title=\"Convert this dataframe to an interactive table.\"\n",
              "              style=\"display:none;\">\n",
              "        \n",
              "  <svg xmlns=\"http://www.w3.org/2000/svg\" height=\"24px\"viewBox=\"0 0 24 24\"\n",
              "       width=\"24px\">\n",
              "    <path d=\"M0 0h24v24H0V0z\" fill=\"none\"/>\n",
              "    <path d=\"M18.56 5.44l.94 2.06.94-2.06 2.06-.94-2.06-.94-.94-2.06-.94 2.06-2.06.94zm-11 1L8.5 8.5l.94-2.06 2.06-.94-2.06-.94L8.5 2.5l-.94 2.06-2.06.94zm10 10l.94 2.06.94-2.06 2.06-.94-2.06-.94-.94-2.06-.94 2.06-2.06.94z\"/><path d=\"M17.41 7.96l-1.37-1.37c-.4-.4-.92-.59-1.43-.59-.52 0-1.04.2-1.43.59L10.3 9.45l-7.72 7.72c-.78.78-.78 2.05 0 2.83L4 21.41c.39.39.9.59 1.41.59.51 0 1.02-.2 1.41-.59l7.78-7.78 2.81-2.81c.8-.78.8-2.07 0-2.86zM5.41 20L4 18.59l7.72-7.72 1.47 1.35L5.41 20z\"/>\n",
              "  </svg>\n",
              "      </button>\n",
              "      \n",
              "  <style>\n",
              "    .colab-df-container {\n",
              "      display:flex;\n",
              "      flex-wrap:wrap;\n",
              "      gap: 12px;\n",
              "    }\n",
              "\n",
              "    .colab-df-convert {\n",
              "      background-color: #E8F0FE;\n",
              "      border: none;\n",
              "      border-radius: 50%;\n",
              "      cursor: pointer;\n",
              "      display: none;\n",
              "      fill: #1967D2;\n",
              "      height: 32px;\n",
              "      padding: 0 0 0 0;\n",
              "      width: 32px;\n",
              "    }\n",
              "\n",
              "    .colab-df-convert:hover {\n",
              "      background-color: #E2EBFA;\n",
              "      box-shadow: 0px 1px 2px rgba(60, 64, 67, 0.3), 0px 1px 3px 1px rgba(60, 64, 67, 0.15);\n",
              "      fill: #174EA6;\n",
              "    }\n",
              "\n",
              "    [theme=dark] .colab-df-convert {\n",
              "      background-color: #3B4455;\n",
              "      fill: #D2E3FC;\n",
              "    }\n",
              "\n",
              "    [theme=dark] .colab-df-convert:hover {\n",
              "      background-color: #434B5C;\n",
              "      box-shadow: 0px 1px 3px 1px rgba(0, 0, 0, 0.15);\n",
              "      filter: drop-shadow(0px 1px 2px rgba(0, 0, 0, 0.3));\n",
              "      fill: #FFFFFF;\n",
              "    }\n",
              "  </style>\n",
              "\n",
              "      <script>\n",
              "        const buttonEl =\n",
              "          document.querySelector('#df-f5fe78a0-579d-4e88-b4e2-30abd00b51af button.colab-df-convert');\n",
              "        buttonEl.style.display =\n",
              "          google.colab.kernel.accessAllowed ? 'block' : 'none';\n",
              "\n",
              "        async function convertToInteractive(key) {\n",
              "          const element = document.querySelector('#df-f5fe78a0-579d-4e88-b4e2-30abd00b51af');\n",
              "          const dataTable =\n",
              "            await google.colab.kernel.invokeFunction('convertToInteractive',\n",
              "                                                     [key], {});\n",
              "          if (!dataTable) return;\n",
              "\n",
              "          const docLinkHtml = 'Like what you see? Visit the ' +\n",
              "            '<a target=\"_blank\" href=https://colab.research.google.com/notebooks/data_table.ipynb>data table notebook</a>'\n",
              "            + ' to learn more about interactive tables.';\n",
              "          element.innerHTML = '';\n",
              "          dataTable['output_type'] = 'display_data';\n",
              "          await google.colab.output.renderOutput(dataTable, element);\n",
              "          const docLink = document.createElement('div');\n",
              "          docLink.innerHTML = docLinkHtml;\n",
              "          element.appendChild(docLink);\n",
              "        }\n",
              "      </script>\n",
              "    </div>\n",
              "  </div>\n",
              "  "
            ]
          },
          "metadata": {},
          "execution_count": 49
        }
      ]
    },
    {
      "cell_type": "markdown",
      "source": [
        "Dữ liệu ETH-USD"
      ],
      "metadata": {
        "id": "IyH8kBFy23C5"
      }
    },
    {
      "cell_type": "code",
      "source": [
        "vnindex_data.head()"
      ],
      "metadata": {
        "colab": {
          "base_uri": "https://localhost:8080/",
          "height": 206
        },
        "id": "4PEpq8p42y5Q",
        "outputId": "ee140a21-8b23-40b2-fd40-83f989d8befe"
      },
      "execution_count": 50,
      "outputs": [
        {
          "output_type": "execute_result",
          "data": {
            "text/plain": [
              "                  Ngày  Mở-VNINDEX\n",
              "0  2022-04-01 00:00:00     1508.55\n",
              "1  2022-05-01 00:00:00     1525.58\n",
              "2  2022-06-01 00:00:00     1522.50\n",
              "3  2022-07-01 00:00:00     1534.10\n",
              "4  2022-10-01 00:00:00     1528.48"
            ],
            "text/html": [
              "\n",
              "  <div id=\"df-b5b0e257-e9df-4ecd-80cc-b6c2d5121b40\">\n",
              "    <div class=\"colab-df-container\">\n",
              "      <div>\n",
              "<style scoped>\n",
              "    .dataframe tbody tr th:only-of-type {\n",
              "        vertical-align: middle;\n",
              "    }\n",
              "\n",
              "    .dataframe tbody tr th {\n",
              "        vertical-align: top;\n",
              "    }\n",
              "\n",
              "    .dataframe thead th {\n",
              "        text-align: right;\n",
              "    }\n",
              "</style>\n",
              "<table border=\"1\" class=\"dataframe\">\n",
              "  <thead>\n",
              "    <tr style=\"text-align: right;\">\n",
              "      <th></th>\n",
              "      <th>Ngày</th>\n",
              "      <th>Mở-VNINDEX</th>\n",
              "    </tr>\n",
              "  </thead>\n",
              "  <tbody>\n",
              "    <tr>\n",
              "      <th>0</th>\n",
              "      <td>2022-04-01 00:00:00</td>\n",
              "      <td>1508.55</td>\n",
              "    </tr>\n",
              "    <tr>\n",
              "      <th>1</th>\n",
              "      <td>2022-05-01 00:00:00</td>\n",
              "      <td>1525.58</td>\n",
              "    </tr>\n",
              "    <tr>\n",
              "      <th>2</th>\n",
              "      <td>2022-06-01 00:00:00</td>\n",
              "      <td>1522.50</td>\n",
              "    </tr>\n",
              "    <tr>\n",
              "      <th>3</th>\n",
              "      <td>2022-07-01 00:00:00</td>\n",
              "      <td>1534.10</td>\n",
              "    </tr>\n",
              "    <tr>\n",
              "      <th>4</th>\n",
              "      <td>2022-10-01 00:00:00</td>\n",
              "      <td>1528.48</td>\n",
              "    </tr>\n",
              "  </tbody>\n",
              "</table>\n",
              "</div>\n",
              "      <button class=\"colab-df-convert\" onclick=\"convertToInteractive('df-b5b0e257-e9df-4ecd-80cc-b6c2d5121b40')\"\n",
              "              title=\"Convert this dataframe to an interactive table.\"\n",
              "              style=\"display:none;\">\n",
              "        \n",
              "  <svg xmlns=\"http://www.w3.org/2000/svg\" height=\"24px\"viewBox=\"0 0 24 24\"\n",
              "       width=\"24px\">\n",
              "    <path d=\"M0 0h24v24H0V0z\" fill=\"none\"/>\n",
              "    <path d=\"M18.56 5.44l.94 2.06.94-2.06 2.06-.94-2.06-.94-.94-2.06-.94 2.06-2.06.94zm-11 1L8.5 8.5l.94-2.06 2.06-.94-2.06-.94L8.5 2.5l-.94 2.06-2.06.94zm10 10l.94 2.06.94-2.06 2.06-.94-2.06-.94-.94-2.06-.94 2.06-2.06.94z\"/><path d=\"M17.41 7.96l-1.37-1.37c-.4-.4-.92-.59-1.43-.59-.52 0-1.04.2-1.43.59L10.3 9.45l-7.72 7.72c-.78.78-.78 2.05 0 2.83L4 21.41c.39.39.9.59 1.41.59.51 0 1.02-.2 1.41-.59l7.78-7.78 2.81-2.81c.8-.78.8-2.07 0-2.86zM5.41 20L4 18.59l7.72-7.72 1.47 1.35L5.41 20z\"/>\n",
              "  </svg>\n",
              "      </button>\n",
              "      \n",
              "  <style>\n",
              "    .colab-df-container {\n",
              "      display:flex;\n",
              "      flex-wrap:wrap;\n",
              "      gap: 12px;\n",
              "    }\n",
              "\n",
              "    .colab-df-convert {\n",
              "      background-color: #E8F0FE;\n",
              "      border: none;\n",
              "      border-radius: 50%;\n",
              "      cursor: pointer;\n",
              "      display: none;\n",
              "      fill: #1967D2;\n",
              "      height: 32px;\n",
              "      padding: 0 0 0 0;\n",
              "      width: 32px;\n",
              "    }\n",
              "\n",
              "    .colab-df-convert:hover {\n",
              "      background-color: #E2EBFA;\n",
              "      box-shadow: 0px 1px 2px rgba(60, 64, 67, 0.3), 0px 1px 3px 1px rgba(60, 64, 67, 0.15);\n",
              "      fill: #174EA6;\n",
              "    }\n",
              "\n",
              "    [theme=dark] .colab-df-convert {\n",
              "      background-color: #3B4455;\n",
              "      fill: #D2E3FC;\n",
              "    }\n",
              "\n",
              "    [theme=dark] .colab-df-convert:hover {\n",
              "      background-color: #434B5C;\n",
              "      box-shadow: 0px 1px 3px 1px rgba(0, 0, 0, 0.15);\n",
              "      filter: drop-shadow(0px 1px 2px rgba(0, 0, 0, 0.3));\n",
              "      fill: #FFFFFF;\n",
              "    }\n",
              "  </style>\n",
              "\n",
              "      <script>\n",
              "        const buttonEl =\n",
              "          document.querySelector('#df-b5b0e257-e9df-4ecd-80cc-b6c2d5121b40 button.colab-df-convert');\n",
              "        buttonEl.style.display =\n",
              "          google.colab.kernel.accessAllowed ? 'block' : 'none';\n",
              "\n",
              "        async function convertToInteractive(key) {\n",
              "          const element = document.querySelector('#df-b5b0e257-e9df-4ecd-80cc-b6c2d5121b40');\n",
              "          const dataTable =\n",
              "            await google.colab.kernel.invokeFunction('convertToInteractive',\n",
              "                                                     [key], {});\n",
              "          if (!dataTable) return;\n",
              "\n",
              "          const docLinkHtml = 'Like what you see? Visit the ' +\n",
              "            '<a target=\"_blank\" href=https://colab.research.google.com/notebooks/data_table.ipynb>data table notebook</a>'\n",
              "            + ' to learn more about interactive tables.';\n",
              "          element.innerHTML = '';\n",
              "          dataTable['output_type'] = 'display_data';\n",
              "          await google.colab.output.renderOutput(dataTable, element);\n",
              "          const docLink = document.createElement('div');\n",
              "          docLink.innerHTML = docLinkHtml;\n",
              "          element.appendChild(docLink);\n",
              "        }\n",
              "      </script>\n",
              "    </div>\n",
              "  </div>\n",
              "  "
            ]
          },
          "metadata": {},
          "execution_count": 50
        }
      ]
    },
    {
      "cell_type": "markdown",
      "source": [
        "Kết hợp dữ liệu BTC và ETH"
      ],
      "metadata": {
        "id": "Zv__VwdN3DAo"
      }
    },
    {
      "cell_type": "code",
      "source": [
        "data = pd.merge(vcb_data, vnindex_data, on='Ngày')\n",
        "data.head()"
      ],
      "metadata": {
        "colab": {
          "base_uri": "https://localhost:8080/",
          "height": 206
        },
        "id": "sCn7WWO_3BUn",
        "outputId": "0b43bf80-355d-4e8d-b788-c8a09fc7cd10"
      },
      "execution_count": 51,
      "outputs": [
        {
          "output_type": "execute_result",
          "data": {
            "text/plain": [
              "                  Ngày  Lần cuối     Mở    Cao   Thấp       KL  % Thay đổi  \\\n",
              "0  2022-04-01 00:00:00     79000  79000  79400  78000    1.13M      0.0025   \n",
              "1  2022-05-01 00:00:00     78000  79000  80400  78000    1.60M     -0.0127   \n",
              "2  2022-06-01 00:00:00     79100  78600  79900  77900    1.22M      0.0141   \n",
              "3  2022-07-01 00:00:00     79800  79600  79900  78200  966.20K      0.0088   \n",
              "4  2022-10-01 00:00:00     79500  79700  79900  78500    1.10M     -0.0038   \n",
              "\n",
              "   Mở-VNINDEX  \n",
              "0     1508.55  \n",
              "1     1525.58  \n",
              "2     1522.50  \n",
              "3     1534.10  \n",
              "4     1528.48  "
            ],
            "text/html": [
              "\n",
              "  <div id=\"df-cff7e983-6a93-4bd0-adab-154dda313583\">\n",
              "    <div class=\"colab-df-container\">\n",
              "      <div>\n",
              "<style scoped>\n",
              "    .dataframe tbody tr th:only-of-type {\n",
              "        vertical-align: middle;\n",
              "    }\n",
              "\n",
              "    .dataframe tbody tr th {\n",
              "        vertical-align: top;\n",
              "    }\n",
              "\n",
              "    .dataframe thead th {\n",
              "        text-align: right;\n",
              "    }\n",
              "</style>\n",
              "<table border=\"1\" class=\"dataframe\">\n",
              "  <thead>\n",
              "    <tr style=\"text-align: right;\">\n",
              "      <th></th>\n",
              "      <th>Ngày</th>\n",
              "      <th>Lần cuối</th>\n",
              "      <th>Mở</th>\n",
              "      <th>Cao</th>\n",
              "      <th>Thấp</th>\n",
              "      <th>KL</th>\n",
              "      <th>% Thay đổi</th>\n",
              "      <th>Mở-VNINDEX</th>\n",
              "    </tr>\n",
              "  </thead>\n",
              "  <tbody>\n",
              "    <tr>\n",
              "      <th>0</th>\n",
              "      <td>2022-04-01 00:00:00</td>\n",
              "      <td>79000</td>\n",
              "      <td>79000</td>\n",
              "      <td>79400</td>\n",
              "      <td>78000</td>\n",
              "      <td>1.13M</td>\n",
              "      <td>0.0025</td>\n",
              "      <td>1508.55</td>\n",
              "    </tr>\n",
              "    <tr>\n",
              "      <th>1</th>\n",
              "      <td>2022-05-01 00:00:00</td>\n",
              "      <td>78000</td>\n",
              "      <td>79000</td>\n",
              "      <td>80400</td>\n",
              "      <td>78000</td>\n",
              "      <td>1.60M</td>\n",
              "      <td>-0.0127</td>\n",
              "      <td>1525.58</td>\n",
              "    </tr>\n",
              "    <tr>\n",
              "      <th>2</th>\n",
              "      <td>2022-06-01 00:00:00</td>\n",
              "      <td>79100</td>\n",
              "      <td>78600</td>\n",
              "      <td>79900</td>\n",
              "      <td>77900</td>\n",
              "      <td>1.22M</td>\n",
              "      <td>0.0141</td>\n",
              "      <td>1522.50</td>\n",
              "    </tr>\n",
              "    <tr>\n",
              "      <th>3</th>\n",
              "      <td>2022-07-01 00:00:00</td>\n",
              "      <td>79800</td>\n",
              "      <td>79600</td>\n",
              "      <td>79900</td>\n",
              "      <td>78200</td>\n",
              "      <td>966.20K</td>\n",
              "      <td>0.0088</td>\n",
              "      <td>1534.10</td>\n",
              "    </tr>\n",
              "    <tr>\n",
              "      <th>4</th>\n",
              "      <td>2022-10-01 00:00:00</td>\n",
              "      <td>79500</td>\n",
              "      <td>79700</td>\n",
              "      <td>79900</td>\n",
              "      <td>78500</td>\n",
              "      <td>1.10M</td>\n",
              "      <td>-0.0038</td>\n",
              "      <td>1528.48</td>\n",
              "    </tr>\n",
              "  </tbody>\n",
              "</table>\n",
              "</div>\n",
              "      <button class=\"colab-df-convert\" onclick=\"convertToInteractive('df-cff7e983-6a93-4bd0-adab-154dda313583')\"\n",
              "              title=\"Convert this dataframe to an interactive table.\"\n",
              "              style=\"display:none;\">\n",
              "        \n",
              "  <svg xmlns=\"http://www.w3.org/2000/svg\" height=\"24px\"viewBox=\"0 0 24 24\"\n",
              "       width=\"24px\">\n",
              "    <path d=\"M0 0h24v24H0V0z\" fill=\"none\"/>\n",
              "    <path d=\"M18.56 5.44l.94 2.06.94-2.06 2.06-.94-2.06-.94-.94-2.06-.94 2.06-2.06.94zm-11 1L8.5 8.5l.94-2.06 2.06-.94-2.06-.94L8.5 2.5l-.94 2.06-2.06.94zm10 10l.94 2.06.94-2.06 2.06-.94-2.06-.94-.94-2.06-.94 2.06-2.06.94z\"/><path d=\"M17.41 7.96l-1.37-1.37c-.4-.4-.92-.59-1.43-.59-.52 0-1.04.2-1.43.59L10.3 9.45l-7.72 7.72c-.78.78-.78 2.05 0 2.83L4 21.41c.39.39.9.59 1.41.59.51 0 1.02-.2 1.41-.59l7.78-7.78 2.81-2.81c.8-.78.8-2.07 0-2.86zM5.41 20L4 18.59l7.72-7.72 1.47 1.35L5.41 20z\"/>\n",
              "  </svg>\n",
              "      </button>\n",
              "      \n",
              "  <style>\n",
              "    .colab-df-container {\n",
              "      display:flex;\n",
              "      flex-wrap:wrap;\n",
              "      gap: 12px;\n",
              "    }\n",
              "\n",
              "    .colab-df-convert {\n",
              "      background-color: #E8F0FE;\n",
              "      border: none;\n",
              "      border-radius: 50%;\n",
              "      cursor: pointer;\n",
              "      display: none;\n",
              "      fill: #1967D2;\n",
              "      height: 32px;\n",
              "      padding: 0 0 0 0;\n",
              "      width: 32px;\n",
              "    }\n",
              "\n",
              "    .colab-df-convert:hover {\n",
              "      background-color: #E2EBFA;\n",
              "      box-shadow: 0px 1px 2px rgba(60, 64, 67, 0.3), 0px 1px 3px 1px rgba(60, 64, 67, 0.15);\n",
              "      fill: #174EA6;\n",
              "    }\n",
              "\n",
              "    [theme=dark] .colab-df-convert {\n",
              "      background-color: #3B4455;\n",
              "      fill: #D2E3FC;\n",
              "    }\n",
              "\n",
              "    [theme=dark] .colab-df-convert:hover {\n",
              "      background-color: #434B5C;\n",
              "      box-shadow: 0px 1px 3px 1px rgba(0, 0, 0, 0.15);\n",
              "      filter: drop-shadow(0px 1px 2px rgba(0, 0, 0, 0.3));\n",
              "      fill: #FFFFFF;\n",
              "    }\n",
              "  </style>\n",
              "\n",
              "      <script>\n",
              "        const buttonEl =\n",
              "          document.querySelector('#df-cff7e983-6a93-4bd0-adab-154dda313583 button.colab-df-convert');\n",
              "        buttonEl.style.display =\n",
              "          google.colab.kernel.accessAllowed ? 'block' : 'none';\n",
              "\n",
              "        async function convertToInteractive(key) {\n",
              "          const element = document.querySelector('#df-cff7e983-6a93-4bd0-adab-154dda313583');\n",
              "          const dataTable =\n",
              "            await google.colab.kernel.invokeFunction('convertToInteractive',\n",
              "                                                     [key], {});\n",
              "          if (!dataTable) return;\n",
              "\n",
              "          const docLinkHtml = 'Like what you see? Visit the ' +\n",
              "            '<a target=\"_blank\" href=https://colab.research.google.com/notebooks/data_table.ipynb>data table notebook</a>'\n",
              "            + ' to learn more about interactive tables.';\n",
              "          element.innerHTML = '';\n",
              "          dataTable['output_type'] = 'display_data';\n",
              "          await google.colab.output.renderOutput(dataTable, element);\n",
              "          const docLink = document.createElement('div');\n",
              "          docLink.innerHTML = docLinkHtml;\n",
              "          element.appendChild(docLink);\n",
              "        }\n",
              "      </script>\n",
              "    </div>\n",
              "  </div>\n",
              "  "
            ]
          },
          "metadata": {},
          "execution_count": 51
        }
      ]
    },
    {
      "cell_type": "markdown",
      "source": [
        "**<h3>Dự đoán ARIMAX 7-2-1</h3>**"
      ],
      "metadata": {
        "id": "N0wIsXKj3HnI"
      }
    },
    {
      "cell_type": "code",
      "source": [
        "\n",
        "# data = data.reset_index(drop=True) # Reset the index\n",
        "data['Ngày'] = pd.to_datetime(data['Ngày'])\n",
        "# data.set_index('Ngày', inplace=True)\n",
        "data = data[['Mở', 'Mở-VNINDEX']]\n",
        "data = data.dropna() # Drop missing values\n",
        "\n",
        "# Split the data into training, testing, and validation sets\n",
        "train_size = int(0.7 * len(data))\n",
        "test_size = int(0.2 * len(data))\n",
        "val_size = len(data) - train_size - test_size\n",
        "\n",
        "train_data = data[:train_size]\n",
        "test_data = data[train_size:train_size+test_size]\n",
        "val_data = data[train_size+test_size:]\n",
        "print(len(train_data))\n",
        "print(len(test_data))\n",
        "print(len(val_data))"
      ],
      "metadata": {
        "colab": {
          "base_uri": "https://localhost:8080/"
        },
        "id": "GO0MijOG3KkY",
        "outputId": "4e43b8d8-d013-4ed9-ce00-913c3baf1902"
      },
      "execution_count": 52,
      "outputs": [
        {
          "output_type": "stream",
          "name": "stdout",
          "text": [
            "236\n",
            "67\n",
            "35\n"
          ]
        },
        {
          "output_type": "stream",
          "name": "stderr",
          "text": [
            "<ipython-input-52-8fe7da18c3ce>:2: UserWarning: Parsing dates in DD/MM/YYYY format when dayfirst=False (the default) was specified. This may lead to inconsistently parsed dates! Specify a format to ensure consistent parsing.\n",
            "  data['Ngày'] = pd.to_datetime(data['Ngày'])\n"
          ]
        }
      ]
    },
    {
      "cell_type": "code",
      "source": [
        "!pip install pmdarima"
      ],
      "metadata": {
        "colab": {
          "base_uri": "https://localhost:8080/"
        },
        "id": "5xgk6Hvtv879",
        "outputId": "91174ced-a865-4720-c245-ae7882393c1f"
      },
      "execution_count": 53,
      "outputs": [
        {
          "output_type": "stream",
          "name": "stdout",
          "text": [
            "Looking in indexes: https://pypi.org/simple, https://us-python.pkg.dev/colab-wheels/public/simple/\n",
            "Requirement already satisfied: pmdarima in /usr/local/lib/python3.10/dist-packages (2.0.3)\n",
            "Requirement already satisfied: joblib>=0.11 in /usr/local/lib/python3.10/dist-packages (from pmdarima) (1.2.0)\n",
            "Requirement already satisfied: Cython!=0.29.18,!=0.29.31,>=0.29 in /usr/local/lib/python3.10/dist-packages (from pmdarima) (0.29.34)\n",
            "Requirement already satisfied: numpy>=1.21.2 in /usr/local/lib/python3.10/dist-packages (from pmdarima) (1.22.4)\n",
            "Requirement already satisfied: pandas>=0.19 in /usr/local/lib/python3.10/dist-packages (from pmdarima) (1.5.3)\n",
            "Requirement already satisfied: scikit-learn>=0.22 in /usr/local/lib/python3.10/dist-packages (from pmdarima) (1.2.2)\n",
            "Requirement already satisfied: scipy>=1.3.2 in /usr/local/lib/python3.10/dist-packages (from pmdarima) (1.10.1)\n",
            "Requirement already satisfied: statsmodels>=0.13.2 in /usr/local/lib/python3.10/dist-packages (from pmdarima) (0.13.5)\n",
            "Requirement already satisfied: urllib3 in /usr/local/lib/python3.10/dist-packages (from pmdarima) (1.26.15)\n",
            "Requirement already satisfied: setuptools!=50.0.0,>=38.6.0 in /usr/local/lib/python3.10/dist-packages (from pmdarima) (67.7.2)\n",
            "Requirement already satisfied: python-dateutil>=2.8.1 in /usr/local/lib/python3.10/dist-packages (from pandas>=0.19->pmdarima) (2.8.2)\n",
            "Requirement already satisfied: pytz>=2020.1 in /usr/local/lib/python3.10/dist-packages (from pandas>=0.19->pmdarima) (2022.7.1)\n",
            "Requirement already satisfied: threadpoolctl>=2.0.0 in /usr/local/lib/python3.10/dist-packages (from scikit-learn>=0.22->pmdarima) (3.1.0)\n",
            "Requirement already satisfied: patsy>=0.5.2 in /usr/local/lib/python3.10/dist-packages (from statsmodels>=0.13.2->pmdarima) (0.5.3)\n",
            "Requirement already satisfied: packaging>=21.3 in /usr/local/lib/python3.10/dist-packages (from statsmodels>=0.13.2->pmdarima) (23.1)\n",
            "Requirement already satisfied: six in /usr/local/lib/python3.10/dist-packages (from patsy>=0.5.2->statsmodels>=0.13.2->pmdarima) (1.16.0)\n"
          ]
        }
      ]
    },
    {
      "cell_type": "code",
      "source": [
        "from pmdarima.arima import auto_arima\n",
        "train_exog = train_data[[\"Mở-VNINDEX\"]]\n",
        "model = auto_arima(train_data['Mở'], \n",
        "                      test='adf',       # use adftest to find      \n",
        "                      trace=True,\n",
        "                      error_action='ignore',  \n",
        "                      suppress_warnings=True,  \n",
        "                      stepwise=True,\n",
        "                      exogenous= train_exog)\n",
        "print(model.summary())"
      ],
      "metadata": {
        "colab": {
          "base_uri": "https://localhost:8080/"
        },
        "id": "RYOVvXSkiEBa",
        "outputId": "313c23bc-e7af-488f-902f-52f4b2d35612"
      },
      "execution_count": 54,
      "outputs": [
        {
          "output_type": "stream",
          "name": "stdout",
          "text": [
            "Performing stepwise search to minimize aic\n",
            " ARIMA(2,1,2)(0,0,0)[0] intercept   : AIC=4142.808, Time=0.52 sec\n",
            " ARIMA(0,1,0)(0,0,0)[0] intercept   : AIC=4136.008, Time=0.02 sec\n",
            " ARIMA(1,1,0)(0,0,0)[0] intercept   : AIC=4137.630, Time=0.05 sec\n",
            " ARIMA(0,1,1)(0,0,0)[0] intercept   : AIC=4137.628, Time=0.05 sec\n",
            " ARIMA(0,1,0)(0,0,0)[0]             : AIC=4134.012, Time=0.02 sec\n",
            " ARIMA(1,1,1)(0,0,0)[0] intercept   : AIC=4139.587, Time=0.10 sec\n",
            "\n",
            "Best model:  ARIMA(0,1,0)(0,0,0)[0]          \n",
            "Total fit time: 0.790 seconds\n",
            "                               SARIMAX Results                                \n",
            "==============================================================================\n",
            "Dep. Variable:                      y   No. Observations:                  236\n",
            "Model:               SARIMAX(0, 1, 0)   Log Likelihood               -2066.006\n",
            "Date:                Wed, 17 May 2023   AIC                           4134.012\n",
            "Time:                        07:49:12   BIC                           4137.471\n",
            "Sample:                             0   HQIC                          4135.406\n",
            "                                - 236                                         \n",
            "Covariance Type:                  opg                                         \n",
            "==============================================================================\n",
            "                 coef    std err          z      P>|z|      [0.025      0.975]\n",
            "------------------------------------------------------------------------------\n",
            "sigma2      2.523e+06   1.89e+05     13.357      0.000    2.15e+06    2.89e+06\n",
            "===================================================================================\n",
            "Ljung-Box (L1) (Q):                   2.47   Jarque-Bera (JB):                12.10\n",
            "Prob(Q):                              0.12   Prob(JB):                         0.00\n",
            "Heteroskedasticity (H):               2.01   Skew:                             0.23\n",
            "Prob(H) (two-sided):                  0.00   Kurtosis:                         4.01\n",
            "===================================================================================\n",
            "\n",
            "Warnings:\n",
            "[1] Covariance matrix calculated using the outer product of gradients (complex-step).\n"
          ]
        }
      ]
    },
    {
      "cell_type": "code",
      "source": [
        "from statsmodels.tsa.statespace.sarimax import SARIMAX\n",
        "model= SARIMAX(train_data['Mở'], \n",
        " exog=train_exog,\n",
        " order=(2,1,2),\n",
        " enforce_invertibility=False, enforce_stationarity=False)"
      ],
      "metadata": {
        "id": "i73A1r-TCPnc"
      },
      "execution_count": 55,
      "outputs": []
    },
    {
      "cell_type": "code",
      "source": [
        "# 4. Quá trình testing \n",
        "x_test = np.array(test_data.index).reshape(-1, 1)\n",
        "y_test = np.array(test_data['Mở'])\n",
        "test_exog = test_data[['Mở-VNINDEX']]\n",
        "model_fit = model.fit()\n",
        "# y_pred = model.predict(n_periods=len(y_test))\n",
        "y_pred = model_fit.forecast(steps=len(y_test), exog=test_exog)\n",
        "print(y_pred)\n",
        "\n",
        "# 5. Quá trình Validate\n",
        "x_val= np.array(val_data.index).reshape(-1, 1)\n",
        "y_val = np.array(val_data['Mở'])\n",
        "val_exog = val_data[['Mở-VNINDEX']]\n",
        "print(val_exog)\n",
        "y_pred_val =  model_fit.forecast(steps=len(y_val), exog=val_exog)\n",
        "print(y_pred_val)"
      ],
      "metadata": {
        "colab": {
          "base_uri": "https://localhost:8080/"
        },
        "id": "cjSOYgRelzsk",
        "outputId": "c2274254-7b41-479a-bba3-9390cd5b06b1"
      },
      "execution_count": 56,
      "outputs": [
        {
          "output_type": "stream",
          "name": "stdout",
          "text": [
            "236    78741.796664\n",
            "237    78787.621538\n",
            "238    79033.889947\n",
            "239    78896.702362\n",
            "240    78287.588164\n",
            "           ...     \n",
            "298    78477.476598\n",
            "299    77544.109394\n",
            "300    77939.216580\n",
            "301    78282.659130\n",
            "302    78475.764872\n",
            "Name: predicted_mean, Length: 67, dtype: float64\n",
            "     Mở-VNINDEX\n",
            "303     1047.78\n",
            "304     1052.25\n",
            "305     1054.29\n",
            "306     1056.33\n",
            "307     1059.44\n",
            "308     1064.64\n",
            "309     1079.28\n",
            "310     1078.45\n",
            "311     1080.86\n",
            "312     1070.91\n",
            "313     1073.86\n",
            "314     1065.35\n",
            "315     1071.61\n",
            "316     1069.45\n",
            "317     1064.30\n",
            "318     1052.89\n",
            "319     1053.81\n",
            "320     1055.02\n",
            "321     1048.98\n",
            "322     1049.25\n",
            "323     1042.91\n",
            "324     1045.87\n",
            "325     1034.85\n",
            "326     1040.80\n",
            "327     1043.17\n",
            "328     1049.12\n",
            "329     1040.61\n",
            "330     1040.31\n",
            "331     1055.42\n",
            "332     1055.62\n",
            "333     1058.26\n",
            "334     1057.12\n",
            "335     1066.90\n",
            "336     1065.71\n",
            "337     1065.91\n",
            "236    78755.771682\n",
            "237    78918.478529\n",
            "238    78990.270950\n",
            "239    79059.744244\n",
            "240    79178.601461\n",
            "241    79386.627922\n",
            "242    79996.385378\n",
            "243    79952.070092\n",
            "244    80046.204644\n",
            "245    79617.848557\n",
            "246    79736.680346\n",
            "247    79370.944944\n",
            "248    79631.367751\n",
            "249    79535.795130\n",
            "250    79314.111271\n",
            "251    78827.771195\n",
            "252    78863.979690\n",
            "253    78912.811313\n",
            "254    78654.915726\n",
            "255    78664.501789\n",
            "256    78394.393780\n",
            "257    78518.328391\n",
            "258    78050.406592\n",
            "259    78301.293806\n",
            "260    78400.708342\n",
            "261    78651.848956\n",
            "262    78290.733263\n",
            "263    78277.389802\n",
            "264    78916.716788\n",
            "265    78924.696590\n",
            "266    79036.067742\n",
            "267    78987.414748\n",
            "268    79401.254523\n",
            "269    79350.571706\n",
            "270    79358.789174\n",
            "Name: predicted_mean, dtype: float64\n"
          ]
        }
      ]
    },
    {
      "cell_type": "code",
      "source": [
        "import datetime\n",
        "\n",
        "# 6. Quá trình tạo index predict 6 ngày tiếp theo\n",
        "last_index =  data.index[-1]\n",
        "print(last_index)\n",
        "# last_data = pd.RangeIndex(start=last_index, stop=last_index+6, step=1)\n",
        "next_6_days_index = pd.RangeIndex(start=last_index,stop=last_index+6,step=1)\n",
        "\n",
        "\n",
        "print(next_6_days_index)\n",
        "x_next_6_days = np.array(next_6_days_index).reshape(-1, 1)\n",
        "\n",
        "prev_6_days_exog = data[len(data)-6:]\n",
        "prev_6_days_exog = prev_6_days_exog['Mở-VNINDEX']\n",
        "\n",
        "\n",
        "# Predict the closing prices for the next 6 days\n",
        "# y_next_6_days = model.predict(n_periods=len(x_next_6_days)) \n",
        "y_next_6_days = model_fit.forecast(steps=len(x_next_6_days), exog = prev_6_days_exog) \n",
        "\n",
        "# Print the predicted closing prices for the next 6 days\n",
        "print('Predicted closing prices for the next 6 days:')\n",
        "print(y_next_6_days)"
      ],
      "metadata": {
        "colab": {
          "base_uri": "https://localhost:8080/"
        },
        "id": "p2WNLBfBngms",
        "outputId": "a86bed75-1e24-42a3-e3d5-e0cbf60d73ff"
      },
      "execution_count": 58,
      "outputs": [
        {
          "output_type": "stream",
          "name": "stdout",
          "text": [
            "337\n",
            "RangeIndex(start=337, stop=343, step=1)\n",
            "Predicted closing prices for the next 6 days:\n",
            "236    79087.784241\n",
            "237    79172.993259\n",
            "238    79110.117320\n",
            "239    79507.368319\n",
            "240    79444.126811\n",
            "241    79440.410568\n",
            "Name: predicted_mean, dtype: float64\n"
          ]
        }
      ]
    },
    {
      "cell_type": "code",
      "source": [
        "# 8. Tính RMSE\n",
        "valid_rmse = np.sqrt(np.mean((y_pred_val - y_val)**2))\n",
        "test_rmse = np.sqrt(np.mean((y_pred - y_test)**2))\n",
        "valid_mape = np.mean(np.abs(y_pred_val - y_val)/np.abs(y_val))  # MAPE\n",
        "test_mape = np.mean(np.abs(y_pred - y_test)/np.abs(y_test))  # MAPE\n",
        "print('Validation RMSE:', valid_rmse)\n",
        "print('Testing RMSE:', test_rmse)\n",
        "print('Validation MAPE:', valid_mape)\n",
        "print('Testing MAPE:', test_mape)\n",
        "\n",
        "\n",
        "\n",
        "# 9.Vẽ hình\n",
        "plt.figure(figsize=(12,5), dpi=100)\n",
        "plt.ylabel('Mở');\n",
        "plt.xlabel('Ngày');\n",
        "plt.title('ARIMAX Train, Test, Predict')\n",
        "plt.plot(train_data.index, train_data['Mở'])\n",
        "plt.plot(test_data.index, test_data['Mở'])\n",
        "plt.plot(test_data.index, y_pred)\n",
        "plt.plot(val_data.index, y_pred_val)\n",
        "# plt.plot(last_data,y_next_6_days)\n",
        "plt.plot(next_6_days_index,y_next_6_days)\n",
        "\n",
        "plt.legend(['Train', 'Test', 'Predictions','Validate','Next6Day'])\n",
        "plt.show()"
      ],
      "metadata": {
        "colab": {
          "base_uri": "https://localhost:8080/",
          "height": 561
        },
        "id": "CXpz3-oGrqpV",
        "outputId": "08fa5aff-22c5-4a22-a071-85ac3dacf4af"
      },
      "execution_count": 59,
      "outputs": [
        {
          "output_type": "stream",
          "name": "stdout",
          "text": [
            "Validation RMSE: 11349.5558571484\n",
            "Testing RMSE: 10730.534428523435\n",
            "Validation MAPE: 0.12413326924084872\n",
            "Testing MAPE: 0.10653160833366314\n"
          ]
        },
        {
          "output_type": "display_data",
          "data": {
            "text/plain": [
              "<Figure size 1200x500 with 1 Axes>"
            ],
            "image/png": "[encoded data removed]"
          },
          "metadata": {}
        }
      ]
    },
    {
      "cell_type": "code",
      "source": [],
      "metadata": {
        "id": "4nNOjy0rsRJn"
      },
      "execution_count": null,
      "outputs": []
    }
  ]
}