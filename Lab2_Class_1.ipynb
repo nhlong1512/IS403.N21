{
  "nbformat": 4,
  "nbformat_minor": 0,
  "metadata": {
    "colab": {
      "provenance": [],
      "authorship_tag": "ABX9TyNiu9CwWwdV2jsItcqOR3ti",
      "include_colab_link": true
    },
    "kernelspec": {
      "name": "python3",
      "display_name": "Python 3"
    },
    "language_info": {
      "name": "python"
    }
  },
  "cells": [
    {
      "cell_type": "markdown",
      "metadata": {
        "id": "view-in-github",
        "colab_type": "text"
      },
      "source": [
        "<a href=\"https://colab.research.google.com/github/nhlong1512/IS403.N21/blob/main/Lab2_Class_1.ipynb\" target=\"_parent\"><img src=\"https://colab.research.google.com/assets/colab-badge.svg\" alt=\"Open In Colab\"/></a>"
      ]
    },
    {
      "cell_type": "code",
      "execution_count": null,
      "metadata": {
        "id": "rvw_6wB-GT99"
      },
      "outputs": [],
      "source": [
        "import pandas as pd "
      ]
    },
    {
      "cell_type": "code",
      "source": [
        "lab2 = pd.read_csv(\"Lab2_1.csv\")\n",
        "lab2"
      ],
      "metadata": {
        "colab": {
          "base_uri": "https://localhost:8080/",
          "height": 802
        },
        "id": "XRPJByV-Hamd",
        "outputId": "382eb367-885d-4d73-a627-7d83785fdb32"
      },
      "execution_count": null,
      "outputs": [
        {
          "output_type": "execute_result",
          "data": {
            "text/plain": [
              "    Age Gender         Education Marital Status  Years Employed  Satisfaction  \\\n",
              "0    36      F      Some college       Divorced               4             4   \n",
              "1    55      F      Some college       Divorced               2             1   \n",
              "2    61      M   Graduate degree        Widowed              26             3   \n",
              "3    65      F      Some college        Married               9             4   \n",
              "4    53      F   Graduate degree        Married               6             4   \n",
              "5    50      F   Graduate degree        Married              10             5   \n",
              "6    28      F  College graduate        Married               4             5   \n",
              "7    62      F  College graduate       Divorced               9             3   \n",
              "8    48      M   Graduate degree        Married               6             5   \n",
              "9    31      M   Graduate degree        Married               1             5   \n",
              "10   57      F  College graduate        Married               4             5   \n",
              "11   44      M  College graduate        Married               2             3   \n",
              "12   38      M      Some college        Married               3             2   \n",
              "13   27      M      Some college        Married               2             3   \n",
              "14   56      M   Graduate degree        Married               4             4   \n",
              "15   43      F  College graduate        Married               5             3   \n",
              "16   45      M  College graduate        Married              15             3   \n",
              "17   42      F  College graduate        Married              12             3   \n",
              "18   29      M   Graduate degree         Single              10             5   \n",
              "19   28      F      Some college        Married               3             4   \n",
              "20   36      M      Some college       Divorced              15             4   \n",
              "21   49      F   Graduate degree        Married               2             5   \n",
              "22   46      F  College graduate       Divorced              20             4   \n",
              "23   52      F  College graduate        Married              18             2   \n",
              "\n",
              "   Premium/Deductible  \n",
              "0                   N  \n",
              "1                   N  \n",
              "2                   N  \n",
              "3                   N  \n",
              "4                   N  \n",
              "5                   N  \n",
              "6                   N  \n",
              "7                   N  \n",
              "8                   N  \n",
              "9                   N  \n",
              "10                  N  \n",
              "11                  N  \n",
              "12                  N  \n",
              "13                  N  \n",
              "14                  Y  \n",
              "15                  Y  \n",
              "16                  Y  \n",
              "17                  Y  \n",
              "18                  N  \n",
              "19                  Y  \n",
              "20                  Y  \n",
              "21                  N  \n",
              "22                  N  \n",
              "23                  N  "
            ],
            "text/html": [
              "\n",
              "  <div id=\"df-925e02ba-565c-490f-9e54-9ba43923963b\">\n",
              "    <div class=\"colab-df-container\">\n",
              "      <div>\n",
              "<style scoped>\n",
              "    .dataframe tbody tr th:only-of-type {\n",
              "        vertical-align: middle;\n",
              "    }\n",
              "\n",
              "    .dataframe tbody tr th {\n",
              "        vertical-align: top;\n",
              "    }\n",
              "\n",
              "    .dataframe thead th {\n",
              "        text-align: right;\n",
              "    }\n",
              "</style>\n",
              "<table border=\"1\" class=\"dataframe\">\n",
              "  <thead>\n",
              "    <tr style=\"text-align: right;\">\n",
              "      <th></th>\n",
              "      <th>Age</th>\n",
              "      <th>Gender</th>\n",
              "      <th>Education</th>\n",
              "      <th>Marital Status</th>\n",
              "      <th>Years Employed</th>\n",
              "      <th>Satisfaction</th>\n",
              "      <th>Premium/Deductible</th>\n",
              "    </tr>\n",
              "  </thead>\n",
              "  <tbody>\n",
              "    <tr>\n",
              "      <th>0</th>\n",
              "      <td>36</td>\n",
              "      <td>F</td>\n",
              "      <td>Some college</td>\n",
              "      <td>Divorced</td>\n",
              "      <td>4</td>\n",
              "      <td>4</td>\n",
              "      <td>N</td>\n",
              "    </tr>\n",
              "    <tr>\n",
              "      <th>1</th>\n",
              "      <td>55</td>\n",
              "      <td>F</td>\n",
              "      <td>Some college</td>\n",
              "      <td>Divorced</td>\n",
              "      <td>2</td>\n",
              "      <td>1</td>\n",
              "      <td>N</td>\n",
              "    </tr>\n",
              "    <tr>\n",
              "      <th>2</th>\n",
              "      <td>61</td>\n",
              "      <td>M</td>\n",
              "      <td>Graduate degree</td>\n",
              "      <td>Widowed</td>\n",
              "      <td>26</td>\n",
              "      <td>3</td>\n",
              "      <td>N</td>\n",
              "    </tr>\n",
              "    <tr>\n",
              "      <th>3</th>\n",
              "      <td>65</td>\n",
              "      <td>F</td>\n",
              "      <td>Some college</td>\n",
              "      <td>Married</td>\n",
              "      <td>9</td>\n",
              "      <td>4</td>\n",
              "      <td>N</td>\n",
              "    </tr>\n",
              "    <tr>\n",
              "      <th>4</th>\n",
              "      <td>53</td>\n",
              "      <td>F</td>\n",
              "      <td>Graduate degree</td>\n",
              "      <td>Married</td>\n",
              "      <td>6</td>\n",
              "      <td>4</td>\n",
              "      <td>N</td>\n",
              "    </tr>\n",
              "    <tr>\n",
              "      <th>5</th>\n",
              "      <td>50</td>\n",
              "      <td>F</td>\n",
              "      <td>Graduate degree</td>\n",
              "      <td>Married</td>\n",
              "      <td>10</td>\n",
              "      <td>5</td>\n",
              "      <td>N</td>\n",
              "    </tr>\n",
              "    <tr>\n",
              "      <th>6</th>\n",
              "      <td>28</td>\n",
              "      <td>F</td>\n",
              "      <td>College graduate</td>\n",
              "      <td>Married</td>\n",
              "      <td>4</td>\n",
              "      <td>5</td>\n",
              "      <td>N</td>\n",
              "    </tr>\n",
              "    <tr>\n",
              "      <th>7</th>\n",
              "      <td>62</td>\n",
              "      <td>F</td>\n",
              "      <td>College graduate</td>\n",
              "      <td>Divorced</td>\n",
              "      <td>9</td>\n",
              "      <td>3</td>\n",
              "      <td>N</td>\n",
              "    </tr>\n",
              "    <tr>\n",
              "      <th>8</th>\n",
              "      <td>48</td>\n",
              "      <td>M</td>\n",
              "      <td>Graduate degree</td>\n",
              "      <td>Married</td>\n",
              "      <td>6</td>\n",
              "      <td>5</td>\n",
              "      <td>N</td>\n",
              "    </tr>\n",
              "    <tr>\n",
              "      <th>9</th>\n",
              "      <td>31</td>\n",
              "      <td>M</td>\n",
              "      <td>Graduate degree</td>\n",
              "      <td>Married</td>\n",
              "      <td>1</td>\n",
              "      <td>5</td>\n",
              "      <td>N</td>\n",
              "    </tr>\n",
              "    <tr>\n",
              "      <th>10</th>\n",
              "      <td>57</td>\n",
              "      <td>F</td>\n",
              "      <td>College graduate</td>\n",
              "      <td>Married</td>\n",
              "      <td>4</td>\n",
              "      <td>5</td>\n",
              "      <td>N</td>\n",
              "    </tr>\n",
              "    <tr>\n",
              "      <th>11</th>\n",
              "      <td>44</td>\n",
              "      <td>M</td>\n",
              "      <td>College graduate</td>\n",
              "      <td>Married</td>\n",
              "      <td>2</td>\n",
              "      <td>3</td>\n",
              "      <td>N</td>\n",
              "    </tr>\n",
              "    <tr>\n",
              "      <th>12</th>\n",
              "      <td>38</td>\n",
              "      <td>M</td>\n",
              "      <td>Some college</td>\n",
              "      <td>Married</td>\n",
              "      <td>3</td>\n",
              "      <td>2</td>\n",
              "      <td>N</td>\n",
              "    </tr>\n",
              "    <tr>\n",
              "      <th>13</th>\n",
              "      <td>27</td>\n",
              "      <td>M</td>\n",
              "      <td>Some college</td>\n",
              "      <td>Married</td>\n",
              "      <td>2</td>\n",
              "      <td>3</td>\n",
              "      <td>N</td>\n",
              "    </tr>\n",
              "    <tr>\n",
              "      <th>14</th>\n",
              "      <td>56</td>\n",
              "      <td>M</td>\n",
              "      <td>Graduate degree</td>\n",
              "      <td>Married</td>\n",
              "      <td>4</td>\n",
              "      <td>4</td>\n",
              "      <td>Y</td>\n",
              "    </tr>\n",
              "    <tr>\n",
              "      <th>15</th>\n",
              "      <td>43</td>\n",
              "      <td>F</td>\n",
              "      <td>College graduate</td>\n",
              "      <td>Married</td>\n",
              "      <td>5</td>\n",
              "      <td>3</td>\n",
              "      <td>Y</td>\n",
              "    </tr>\n",
              "    <tr>\n",
              "      <th>16</th>\n",
              "      <td>45</td>\n",
              "      <td>M</td>\n",
              "      <td>College graduate</td>\n",
              "      <td>Married</td>\n",
              "      <td>15</td>\n",
              "      <td>3</td>\n",
              "      <td>Y</td>\n",
              "    </tr>\n",
              "    <tr>\n",
              "      <th>17</th>\n",
              "      <td>42</td>\n",
              "      <td>F</td>\n",
              "      <td>College graduate</td>\n",
              "      <td>Married</td>\n",
              "      <td>12</td>\n",
              "      <td>3</td>\n",
              "      <td>Y</td>\n",
              "    </tr>\n",
              "    <tr>\n",
              "      <th>18</th>\n",
              "      <td>29</td>\n",
              "      <td>M</td>\n",
              "      <td>Graduate degree</td>\n",
              "      <td>Single</td>\n",
              "      <td>10</td>\n",
              "      <td>5</td>\n",
              "      <td>N</td>\n",
              "    </tr>\n",
              "    <tr>\n",
              "      <th>19</th>\n",
              "      <td>28</td>\n",
              "      <td>F</td>\n",
              "      <td>Some college</td>\n",
              "      <td>Married</td>\n",
              "      <td>3</td>\n",
              "      <td>4</td>\n",
              "      <td>Y</td>\n",
              "    </tr>\n",
              "    <tr>\n",
              "      <th>20</th>\n",
              "      <td>36</td>\n",
              "      <td>M</td>\n",
              "      <td>Some college</td>\n",
              "      <td>Divorced</td>\n",
              "      <td>15</td>\n",
              "      <td>4</td>\n",
              "      <td>Y</td>\n",
              "    </tr>\n",
              "    <tr>\n",
              "      <th>21</th>\n",
              "      <td>49</td>\n",
              "      <td>F</td>\n",
              "      <td>Graduate degree</td>\n",
              "      <td>Married</td>\n",
              "      <td>2</td>\n",
              "      <td>5</td>\n",
              "      <td>N</td>\n",
              "    </tr>\n",
              "    <tr>\n",
              "      <th>22</th>\n",
              "      <td>46</td>\n",
              "      <td>F</td>\n",
              "      <td>College graduate</td>\n",
              "      <td>Divorced</td>\n",
              "      <td>20</td>\n",
              "      <td>4</td>\n",
              "      <td>N</td>\n",
              "    </tr>\n",
              "    <tr>\n",
              "      <th>23</th>\n",
              "      <td>52</td>\n",
              "      <td>F</td>\n",
              "      <td>College graduate</td>\n",
              "      <td>Married</td>\n",
              "      <td>18</td>\n",
              "      <td>2</td>\n",
              "      <td>N</td>\n",
              "    </tr>\n",
              "  </tbody>\n",
              "</table>\n",
              "</div>\n",
              "      <button class=\"colab-df-convert\" onclick=\"convertToInteractive('df-925e02ba-565c-490f-9e54-9ba43923963b')\"\n",
              "              title=\"Convert this dataframe to an interactive table.\"\n",
              "              style=\"display:none;\">\n",
              "        \n",
              "  <svg xmlns=\"http://www.w3.org/2000/svg\" height=\"24px\"viewBox=\"0 0 24 24\"\n",
              "       width=\"24px\">\n",
              "    <path d=\"M0 0h24v24H0V0z\" fill=\"none\"/>\n",
              "    <path d=\"M18.56 5.44l.94 2.06.94-2.06 2.06-.94-2.06-.94-.94-2.06-.94 2.06-2.06.94zm-11 1L8.5 8.5l.94-2.06 2.06-.94-2.06-.94L8.5 2.5l-.94 2.06-2.06.94zm10 10l.94 2.06.94-2.06 2.06-.94-2.06-.94-.94-2.06-.94 2.06-2.06.94z\"/><path d=\"M17.41 7.96l-1.37-1.37c-.4-.4-.92-.59-1.43-.59-.52 0-1.04.2-1.43.59L10.3 9.45l-7.72 7.72c-.78.78-.78 2.05 0 2.83L4 21.41c.39.39.9.59 1.41.59.51 0 1.02-.2 1.41-.59l7.78-7.78 2.81-2.81c.8-.78.8-2.07 0-2.86zM5.41 20L4 18.59l7.72-7.72 1.47 1.35L5.41 20z\"/>\n",
              "  </svg>\n",
              "      </button>\n",
              "      \n",
              "  <style>\n",
              "    .colab-df-container {\n",
              "      display:flex;\n",
              "      flex-wrap:wrap;\n",
              "      gap: 12px;\n",
              "    }\n",
              "\n",
              "    .colab-df-convert {\n",
              "      background-color: #E8F0FE;\n",
              "      border: none;\n",
              "      border-radius: 50%;\n",
              "      cursor: pointer;\n",
              "      display: none;\n",
              "      fill: #1967D2;\n",
              "      height: 32px;\n",
              "      padding: 0 0 0 0;\n",
              "      width: 32px;\n",
              "    }\n",
              "\n",
              "    .colab-df-convert:hover {\n",
              "      background-color: #E2EBFA;\n",
              "      box-shadow: 0px 1px 2px rgba(60, 64, 67, 0.3), 0px 1px 3px 1px rgba(60, 64, 67, 0.15);\n",
              "      fill: #174EA6;\n",
              "    }\n",
              "\n",
              "    [theme=dark] .colab-df-convert {\n",
              "      background-color: #3B4455;\n",
              "      fill: #D2E3FC;\n",
              "    }\n",
              "\n",
              "    [theme=dark] .colab-df-convert:hover {\n",
              "      background-color: #434B5C;\n",
              "      box-shadow: 0px 1px 3px 1px rgba(0, 0, 0, 0.15);\n",
              "      filter: drop-shadow(0px 1px 2px rgba(0, 0, 0, 0.3));\n",
              "      fill: #FFFFFF;\n",
              "    }\n",
              "  </style>\n",
              "\n",
              "      <script>\n",
              "        const buttonEl =\n",
              "          document.querySelector('#df-925e02ba-565c-490f-9e54-9ba43923963b button.colab-df-convert');\n",
              "        buttonEl.style.display =\n",
              "          google.colab.kernel.accessAllowed ? 'block' : 'none';\n",
              "\n",
              "        async function convertToInteractive(key) {\n",
              "          const element = document.querySelector('#df-925e02ba-565c-490f-9e54-9ba43923963b');\n",
              "          const dataTable =\n",
              "            await google.colab.kernel.invokeFunction('convertToInteractive',\n",
              "                                                     [key], {});\n",
              "          if (!dataTable) return;\n",
              "\n",
              "          const docLinkHtml = 'Like what you see? Visit the ' +\n",
              "            '<a target=\"_blank\" href=https://colab.research.google.com/notebooks/data_table.ipynb>data table notebook</a>'\n",
              "            + ' to learn more about interactive tables.';\n",
              "          element.innerHTML = '';\n",
              "          dataTable['output_type'] = 'display_data';\n",
              "          await google.colab.output.renderOutput(dataTable, element);\n",
              "          const docLink = document.createElement('div');\n",
              "          docLink.innerHTML = docLinkHtml;\n",
              "          element.appendChild(docLink);\n",
              "        }\n",
              "      </script>\n",
              "    </div>\n",
              "  </div>\n",
              "  "
            ]
          },
          "metadata": {},
          "execution_count": 4
        }
      ]
    },
    {
      "cell_type": "code",
      "source": [
        "Education = lab2.Education\n",
        "Satisfaction = lab2.Satisfaction"
      ],
      "metadata": {
        "id": "V1KtirI_Hiaj"
      },
      "execution_count": null,
      "outputs": []
    },
    {
      "cell_type": "code",
      "source": [
        "sep = lab2.groupby('Education')['Satisfaction'].apply(list)"
      ],
      "metadata": {
        "id": "QVqDdWZlIqRT"
      },
      "execution_count": null,
      "outputs": []
    },
    {
      "cell_type": "code",
      "source": [
        "sep"
      ],
      "metadata": {
        "colab": {
          "base_uri": "https://localhost:8080/"
        },
        "id": "k3ZUnprLJRUn",
        "outputId": "bb61949e-5a5a-4b73-942c-713b3a756405"
      },
      "execution_count": null,
      "outputs": [
        {
          "output_type": "execute_result",
          "data": {
            "text/plain": [
              "Education\n",
              "College graduate    [5, 3, 5, 3, 3, 3, 3, 4, 2]\n",
              "Graduate degree        [3, 4, 5, 5, 5, 4, 5, 5]\n",
              "Some college              [4, 1, 4, 2, 3, 4, 4]\n",
              "Name: Satisfaction, dtype: object"
            ]
          },
          "metadata": {},
          "execution_count": 7
        }
      ]
    },
    {
      "cell_type": "code",
      "source": [
        "from scipy.stats import levene"
      ],
      "metadata": {
        "id": "zhihegFdMAXU"
      },
      "execution_count": null,
      "outputs": []
    },
    {
      "cell_type": "code",
      "source": [
        "stat, p = levene(*sep,center = 'mean')"
      ],
      "metadata": {
        "id": "QnOPpiBnME2N"
      },
      "execution_count": null,
      "outputs": []
    },
    {
      "cell_type": "code",
      "source": [
        "print(stat,p)"
      ],
      "metadata": {
        "colab": {
          "base_uri": "https://localhost:8080/"
        },
        "id": "n7VVaaNsMIJV",
        "outputId": "98eed673-5963-465b-95b6-71fc45122389"
      },
      "execution_count": null,
      "outputs": [
        {
          "output_type": "stream",
          "name": "stdout",
          "text": [
            "0.9433580072525427 0.40520616699352924\n"
          ]
        }
      ]
    },
    {
      "cell_type": "code",
      "source": [
        "from scipy.stats import stats\n",
        "fvalue, pvalue= stats.f_oneway(*sep)\n",
        "print(fvalue,pvalue)"
      ],
      "metadata": {
        "colab": {
          "base_uri": "https://localhost:8080/"
        },
        "id": "VA2P2uXcMPCl",
        "outputId": "562c4d67-2b4f-4245-904c-d2705a1971a9"
      },
      "execution_count": null,
      "outputs": [
        {
          "output_type": "stream",
          "name": "stdout",
          "text": [
            "3.9246517319277117 0.03563539756488997\n"
          ]
        },
        {
          "output_type": "stream",
          "name": "stderr",
          "text": [
            "<ipython-input-15-4c46ed95e15b>:2: DeprecationWarning: Please use `f_oneway` from the `scipy.stats` namespace, the `scipy.stats.stats` namespace is deprecated.\n",
            "  fvalue, pvalue= stats.f_oneway(*sep)\n"
          ]
        }
      ]
    },
    {
      "cell_type": "code",
      "source": [
        "from statsmodels.stats.multicomp import pairwise_tukeyhsd"
      ],
      "metadata": {
        "id": "YzvHWbnXQmjY"
      },
      "execution_count": null,
      "outputs": []
    },
    {
      "cell_type": "code",
      "source": [
        "tukey = pairwise_tukeyhsd(endog=lab2['Satisfaction'],groups=Education,alpha=0.05)\n",
        "print(tukey)"
      ],
      "metadata": {
        "colab": {
          "base_uri": "https://localhost:8080/"
        },
        "id": "jmoCUbccSQmt",
        "outputId": "7c603c34-e70f-4664-884d-cab8f21d3857"
      },
      "execution_count": null,
      "outputs": [
        {
          "output_type": "stream",
          "name": "stdout",
          "text": [
            "          Multiple Comparison of Means - Tukey HSD, FWER=0.05          \n",
            "=======================================================================\n",
            "     group1           group2     meandiff p-adj   lower   upper  reject\n",
            "-----------------------------------------------------------------------\n",
            "College graduate Graduate degree   1.0556 0.1003 -0.1715  2.2826  False\n",
            "College graduate    Some college  -0.3016 0.8231 -1.5742  0.9711  False\n",
            " Graduate degree    Some college  -1.3571 0.0409 -2.6641 -0.0502   True\n",
            "-----------------------------------------------------------------------\n"
          ]
        }
      ]
    },
    {
      "cell_type": "code",
      "source": [
        "from scipy.stats import f\n"
      ],
      "metadata": {
        "id": "UXDKel_6S5o3"
      },
      "execution_count": null,
      "outputs": []
    },
    {
      "cell_type": "code",
      "source": [
        "alpha = 0.05\n",
        "df1, df2 = 3-1, 24-3\n",
        "f_crit = f.ppf(q=1-alpha, dfn=df1, dfd=df2)\n",
        "print(f_crit)"
      ],
      "metadata": {
        "colab": {
          "base_uri": "https://localhost:8080/"
        },
        "id": "bCl6SdtsWD78",
        "outputId": "52d0a7b1-2714-4cfb-9557-dd2257eb7083"
      },
      "execution_count": null,
      "outputs": [
        {
          "output_type": "stream",
          "name": "stdout",
          "text": [
            "3.4668001115424154\n"
          ]
        }
      ]
    },
    {
      "cell_type": "code",
      "source": [],
      "metadata": {
        "id": "14JfsZm8WNGT"
      },
      "execution_count": null,
      "outputs": []
    }
  ]
}