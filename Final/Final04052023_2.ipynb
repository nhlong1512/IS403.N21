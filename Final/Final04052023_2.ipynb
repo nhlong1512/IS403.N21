{
  "nbformat": 4,
  "nbformat_minor": 0,
  "metadata": {
    "colab": {
      "provenance": [],
      "authorship_tag": "ABX9TyOWJQAM228hyp4d4wxRtR2o",
      "include_colab_link": true
    },
    "kernelspec": {
      "name": "python3",
      "display_name": "Python 3"
    },
    "language_info": {
      "name": "python"
    }
  },
  "cells": [
    {
      "cell_type": "markdown",
      "metadata": {
        "id": "view-in-github",
        "colab_type": "text"
      },
      "source": [
        "<a href=\"https://colab.research.google.com/github/nhlong1512/IS403.N21/blob/main/Final/Final04052023_2.ipynb\" target=\"_parent\"><img src=\"https://colab.research.google.com/assets/colab-badge.svg\" alt=\"Open In Colab\"/></a>"
      ]
    },
    {
      "cell_type": "code",
      "execution_count": 2,
      "metadata": {
        "id": "GNgr2FeN9l1r"
      },
      "outputs": [],
      "source": [
        "import numpy as np # linear algebra\n",
        "import pandas as pd # data processing, CSV file I/O (e.g. pd.read_csv)"
      ]
    },
    {
      "cell_type": "code",
      "source": [
        "path = 'BTC-USD.csv'\n",
        "\n",
        "df = pd.read_csv(path)\n",
        "df = df[['Date','Close']]\n",
        "\n",
        "df.head()"
      ],
      "metadata": {
        "colab": {
          "base_uri": "https://localhost:8080/",
          "height": 206
        },
        "id": "IweBIY_A9qbw",
        "outputId": "2008b8e2-d28b-4e0f-a414-a71f6a5f4f5f"
      },
      "execution_count": 3,
      "outputs": [
        {
          "output_type": "execute_result",
          "data": {
            "text/plain": [
              "       Date        Close\n",
              "0  1/1/2019  3843.520020\n",
              "1  1/2/2019  3943.409424\n",
              "2  1/3/2019  3836.741211\n",
              "3  1/4/2019  3857.717529\n",
              "4  1/5/2019  3845.194580"
            ],
            "text/html": [
              "\n",
              "  <div id=\"df-7a0d0604-f671-4498-ab1a-a0d9c808aaea\">\n",
              "    <div class=\"colab-df-container\">\n",
              "      <div>\n",
              "<style scoped>\n",
              "    .dataframe tbody tr th:only-of-type {\n",
              "        vertical-align: middle;\n",
              "    }\n",
              "\n",
              "    .dataframe tbody tr th {\n",
              "        vertical-align: top;\n",
              "    }\n",
              "\n",
              "    .dataframe thead th {\n",
              "        text-align: right;\n",
              "    }\n",
              "</style>\n",
              "<table border=\"1\" class=\"dataframe\">\n",
              "  <thead>\n",
              "    <tr style=\"text-align: right;\">\n",
              "      <th></th>\n",
              "      <th>Date</th>\n",
              "      <th>Close</th>\n",
              "    </tr>\n",
              "  </thead>\n",
              "  <tbody>\n",
              "    <tr>\n",
              "      <th>0</th>\n",
              "      <td>1/1/2019</td>\n",
              "      <td>3843.520020</td>\n",
              "    </tr>\n",
              "    <tr>\n",
              "      <th>1</th>\n",
              "      <td>1/2/2019</td>\n",
              "      <td>3943.409424</td>\n",
              "    </tr>\n",
              "    <tr>\n",
              "      <th>2</th>\n",
              "      <td>1/3/2019</td>\n",
              "      <td>3836.741211</td>\n",
              "    </tr>\n",
              "    <tr>\n",
              "      <th>3</th>\n",
              "      <td>1/4/2019</td>\n",
              "      <td>3857.717529</td>\n",
              "    </tr>\n",
              "    <tr>\n",
              "      <th>4</th>\n",
              "      <td>1/5/2019</td>\n",
              "      <td>3845.194580</td>\n",
              "    </tr>\n",
              "  </tbody>\n",
              "</table>\n",
              "</div>\n",
              "      <button class=\"colab-df-convert\" onclick=\"convertToInteractive('df-7a0d0604-f671-4498-ab1a-a0d9c808aaea')\"\n",
              "              title=\"Convert this dataframe to an interactive table.\"\n",
              "              style=\"display:none;\">\n",
              "        \n",
              "  <svg xmlns=\"http://www.w3.org/2000/svg\" height=\"24px\"viewBox=\"0 0 24 24\"\n",
              "       width=\"24px\">\n",
              "    <path d=\"M0 0h24v24H0V0z\" fill=\"none\"/>\n",
              "    <path d=\"M18.56 5.44l.94 2.06.94-2.06 2.06-.94-2.06-.94-.94-2.06-.94 2.06-2.06.94zm-11 1L8.5 8.5l.94-2.06 2.06-.94-2.06-.94L8.5 2.5l-.94 2.06-2.06.94zm10 10l.94 2.06.94-2.06 2.06-.94-2.06-.94-.94-2.06-.94 2.06-2.06.94z\"/><path d=\"M17.41 7.96l-1.37-1.37c-.4-.4-.92-.59-1.43-.59-.52 0-1.04.2-1.43.59L10.3 9.45l-7.72 7.72c-.78.78-.78 2.05 0 2.83L4 21.41c.39.39.9.59 1.41.59.51 0 1.02-.2 1.41-.59l7.78-7.78 2.81-2.81c.8-.78.8-2.07 0-2.86zM5.41 20L4 18.59l7.72-7.72 1.47 1.35L5.41 20z\"/>\n",
              "  </svg>\n",
              "      </button>\n",
              "      \n",
              "  <style>\n",
              "    .colab-df-container {\n",
              "      display:flex;\n",
              "      flex-wrap:wrap;\n",
              "      gap: 12px;\n",
              "    }\n",
              "\n",
              "    .colab-df-convert {\n",
              "      background-color: #E8F0FE;\n",
              "      border: none;\n",
              "      border-radius: 50%;\n",
              "      cursor: pointer;\n",
              "      display: none;\n",
              "      fill: #1967D2;\n",
              "      height: 32px;\n",
              "      padding: 0 0 0 0;\n",
              "      width: 32px;\n",
              "    }\n",
              "\n",
              "    .colab-df-convert:hover {\n",
              "      background-color: #E2EBFA;\n",
              "      box-shadow: 0px 1px 2px rgba(60, 64, 67, 0.3), 0px 1px 3px 1px rgba(60, 64, 67, 0.15);\n",
              "      fill: #174EA6;\n",
              "    }\n",
              "\n",
              "    [theme=dark] .colab-df-convert {\n",
              "      background-color: #3B4455;\n",
              "      fill: #D2E3FC;\n",
              "    }\n",
              "\n",
              "    [theme=dark] .colab-df-convert:hover {\n",
              "      background-color: #434B5C;\n",
              "      box-shadow: 0px 1px 3px 1px rgba(0, 0, 0, 0.15);\n",
              "      filter: drop-shadow(0px 1px 2px rgba(0, 0, 0, 0.3));\n",
              "      fill: #FFFFFF;\n",
              "    }\n",
              "  </style>\n",
              "\n",
              "      <script>\n",
              "        const buttonEl =\n",
              "          document.querySelector('#df-7a0d0604-f671-4498-ab1a-a0d9c808aaea button.colab-df-convert');\n",
              "        buttonEl.style.display =\n",
              "          google.colab.kernel.accessAllowed ? 'block' : 'none';\n",
              "\n",
              "        async function convertToInteractive(key) {\n",
              "          const element = document.querySelector('#df-7a0d0604-f671-4498-ab1a-a0d9c808aaea');\n",
              "          const dataTable =\n",
              "            await google.colab.kernel.invokeFunction('convertToInteractive',\n",
              "                                                     [key], {});\n",
              "          if (!dataTable) return;\n",
              "\n",
              "          const docLinkHtml = 'Like what you see? Visit the ' +\n",
              "            '<a target=\"_blank\" href=https://colab.research.google.com/notebooks/data_table.ipynb>data table notebook</a>'\n",
              "            + ' to learn more about interactive tables.';\n",
              "          element.innerHTML = '';\n",
              "          dataTable['output_type'] = 'display_data';\n",
              "          await google.colab.output.renderOutput(dataTable, element);\n",
              "          const docLink = document.createElement('div');\n",
              "          docLink.innerHTML = docLinkHtml;\n",
              "          element.appendChild(docLink);\n",
              "        }\n",
              "      </script>\n",
              "    </div>\n",
              "  </div>\n",
              "  "
            ]
          },
          "metadata": {},
          "execution_count": 3
        }
      ]
    },
    {
      "cell_type": "code",
      "source": [
        "!pip install pmdarima"
      ],
      "metadata": {
        "colab": {
          "base_uri": "https://localhost:8080/"
        },
        "id": "n_WrMJhN9y6y",
        "outputId": "8ebcf811-af1d-4e3c-d489-aa9dc300207f"
      },
      "execution_count": 4,
      "outputs": [
        {
          "output_type": "stream",
          "name": "stdout",
          "text": [
            "Looking in indexes: https://pypi.org/simple, https://us-python.pkg.dev/colab-wheels/public/simple/\n",
            "Collecting pmdarima\n",
            "  Downloading pmdarima-2.0.3-cp310-cp310-manylinux_2_17_x86_64.manylinux2014_x86_64.manylinux_2_28_x86_64.whl (1.8 MB)\n",
            "\u001b[2K     \u001b[90m━━━━━━━━━━━━━━━━━━━━━━━━━━━━━━━━━━━━━━━━\u001b[0m \u001b[32m1.8/1.8 MB\u001b[0m \u001b[31m16.1 MB/s\u001b[0m eta \u001b[36m0:00:00\u001b[0m\n",
            "\u001b[?25hRequirement already satisfied: scikit-learn>=0.22 in /usr/local/lib/python3.10/dist-packages (from pmdarima) (1.2.2)\n",
            "Requirement already satisfied: numpy>=1.21.2 in /usr/local/lib/python3.10/dist-packages (from pmdarima) (1.22.4)\n",
            "Requirement already satisfied: joblib>=0.11 in /usr/local/lib/python3.10/dist-packages (from pmdarima) (1.2.0)\n",
            "Requirement already satisfied: setuptools!=50.0.0,>=38.6.0 in /usr/local/lib/python3.10/dist-packages (from pmdarima) (67.7.2)\n",
            "Requirement already satisfied: statsmodels>=0.13.2 in /usr/local/lib/python3.10/dist-packages (from pmdarima) (0.13.5)\n",
            "Requirement already satisfied: pandas>=0.19 in /usr/local/lib/python3.10/dist-packages (from pmdarima) (1.5.3)\n",
            "Requirement already satisfied: Cython!=0.29.18,!=0.29.31,>=0.29 in /usr/local/lib/python3.10/dist-packages (from pmdarima) (0.29.34)\n",
            "Requirement already satisfied: urllib3 in /usr/local/lib/python3.10/dist-packages (from pmdarima) (1.26.15)\n",
            "Requirement already satisfied: scipy>=1.3.2 in /usr/local/lib/python3.10/dist-packages (from pmdarima) (1.10.1)\n",
            "Requirement already satisfied: python-dateutil>=2.8.1 in /usr/local/lib/python3.10/dist-packages (from pandas>=0.19->pmdarima) (2.8.2)\n",
            "Requirement already satisfied: pytz>=2020.1 in /usr/local/lib/python3.10/dist-packages (from pandas>=0.19->pmdarima) (2022.7.1)\n",
            "Requirement already satisfied: threadpoolctl>=2.0.0 in /usr/local/lib/python3.10/dist-packages (from scikit-learn>=0.22->pmdarima) (3.1.0)\n",
            "Requirement already satisfied: packaging>=21.3 in /usr/local/lib/python3.10/dist-packages (from statsmodels>=0.13.2->pmdarima) (23.1)\n",
            "Requirement already satisfied: patsy>=0.5.2 in /usr/local/lib/python3.10/dist-packages (from statsmodels>=0.13.2->pmdarima) (0.5.3)\n",
            "Requirement already satisfied: six in /usr/local/lib/python3.10/dist-packages (from patsy>=0.5.2->statsmodels>=0.13.2->pmdarima) (1.16.0)\n",
            "Installing collected packages: pmdarima\n",
            "Successfully installed pmdarima-2.0.3\n"
          ]
        }
      ]
    },
    {
      "cell_type": "code",
      "source": [
        "from statsmodels.tsa.arima_model import ARIMA\n",
        "\n",
        "import pmdarima as pm\n",
        "model = pm.auto_arima(df.Close, start_p=0, \n",
        "                      start_q=0,max_p=5, max_q=5, \n",
        "                      m=12,start_P=0, seasonal=False,\n",
        "                      d=0, D=0, trace=True,error_action='ignore',\n",
        "                      suppress_warnings=True, stepwise=True)\n",
        "\n",
        "print(model.aic())"
      ],
      "metadata": {
        "colab": {
          "base_uri": "https://localhost:8080/"
        },
        "id": "HHaKYw-c98bz",
        "outputId": "ec065592-f022-4742-ca94-11ca19171ea0"
      },
      "execution_count": 5,
      "outputs": [
        {
          "output_type": "stream",
          "name": "stderr",
          "text": [
            "/usr/local/lib/python3.10/dist-packages/pmdarima/arima/_validation.py:62: UserWarning: m (12) set for non-seasonal fit. Setting to 0\n",
            "  warnings.warn(\"m (%i) set for non-seasonal fit. Setting to 0\" % m)\n"
          ]
        },
        {
          "output_type": "stream",
          "name": "stdout",
          "text": [
            "Performing stepwise search to minimize aic\n",
            " ARIMA(0,0,0)(0,0,0)[0]             : AIC=36279.536, Time=0.09 sec\n",
            " ARIMA(1,0,0)(0,0,0)[0]             : AIC=inf, Time=0.37 sec\n",
            " ARIMA(0,0,1)(0,0,0)[0]             : AIC=34218.160, Time=1.35 sec\n",
            " ARIMA(1,0,1)(0,0,0)[0]             : AIC=26107.157, Time=0.09 sec\n",
            " ARIMA(2,0,1)(0,0,0)[0]             : AIC=26108.642, Time=0.53 sec\n",
            " ARIMA(1,0,2)(0,0,0)[0]             : AIC=26109.006, Time=0.12 sec\n",
            " ARIMA(0,0,2)(0,0,0)[0]             : AIC=inf, Time=2.43 sec\n",
            " ARIMA(2,0,0)(0,0,0)[0]             : AIC=inf, Time=0.21 sec\n",
            " ARIMA(2,0,2)(0,0,0)[0]             : AIC=26110.589, Time=1.37 sec\n",
            " ARIMA(1,0,1)(0,0,0)[0] intercept   : AIC=26107.301, Time=1.54 sec\n",
            "\n",
            "Best model:  ARIMA(1,0,1)(0,0,0)[0]          \n",
            "Total fit time: 8.163 seconds\n",
            "26107.156666437244\n"
          ]
        }
      ]
    },
    {
      "cell_type": "markdown",
      "source": [
        "Vậy ARIMA(1,0,1) là phù hợp nhất\n"
      ],
      "metadata": {
        "id": "OzoZFsEa-DhB"
      }
    },
    {
      "cell_type": "markdown",
      "source": [
        "**<h3>Xây dựng mô hình ARIMA</h3>**"
      ],
      "metadata": {
        "id": "Qvkk26uO-P8y"
      }
    },
    {
      "cell_type": "code",
      "source": [
        "from statsmodels.tsa.arima.model import ARIMA\n",
        "\n",
        "# 1,0,1 ARIMA Model\n",
        "model = ARIMA(df.Close, order=(1,0,1))\n",
        "model_fit = model.fit()\n",
        "print(model_fit.summary())"
      ],
      "metadata": {
        "colab": {
          "base_uri": "https://localhost:8080/"
        },
        "id": "K2q7CYWQ9_wF",
        "outputId": "e68bf63a-aa00-40a4-fe3a-8e81ca0d3785"
      },
      "execution_count": 6,
      "outputs": [
        {
          "output_type": "stream",
          "name": "stdout",
          "text": [
            "                               SARIMAX Results                                \n",
            "==============================================================================\n",
            "Dep. Variable:                  Close   No. Observations:                 1551\n",
            "Model:                 ARIMA(1, 0, 1)   Log Likelihood              -13049.426\n",
            "Date:                Fri, 05 May 2023   AIC                          26106.853\n",
            "Time:                        04:13:18   BIC                          26128.239\n",
            "Sample:                             0   HQIC                         26114.807\n",
            "                               - 1551                                         \n",
            "Covariance Type:                  opg                                         \n",
            "==============================================================================\n",
            "                 coef    std err          z      P>|z|      [0.025      0.975]\n",
            "------------------------------------------------------------------------------\n",
            "const       2.349e+04   9727.840      2.415      0.016    4424.076    4.26e+04\n",
            "ar.L1          0.9977      0.001    759.636      0.000       0.995       1.000\n",
            "ma.L1         -0.0278      0.018     -1.534      0.125      -0.063       0.008\n",
            "sigma2      1.187e+06   1.93e+04     61.511      0.000    1.15e+06    1.23e+06\n",
            "===================================================================================\n",
            "Ljung-Box (L1) (Q):                   0.00   Jarque-Bera (JB):              4016.46\n",
            "Prob(Q):                              0.97   Prob(JB):                         0.00\n",
            "Heteroskedasticity (H):              10.11   Skew:                            -0.09\n",
            "Prob(H) (two-sided):                  0.00   Kurtosis:                        10.88\n",
            "===================================================================================\n",
            "\n",
            "Warnings:\n",
            "[1] Covariance matrix calculated using the outer product of gradients (complex-step).\n"
          ]
        }
      ]
    },
    {
      "cell_type": "markdown",
      "source": [
        "**<h3>Dự báo</h3>**"
      ],
      "metadata": {
        "id": "gCs66nqPEhN8"
      }
    },
    {
      "cell_type": "markdown",
      "source": [
        "**<h3>Dự đoán trên bộ dữ liệu với Train-Test là 7-3</h3>**"
      ],
      "metadata": {
        "id": "lb2HORs-bGEg"
      }
    },
    {
      "cell_type": "code",
      "source": [
        "from sklearn.model_selection import train_test_split\n",
        "from statsmodels.tsa.stattools import acf\n",
        "\n",
        "# Chia dữ liệu train-test theo tỷ lệ 7-3\n",
        "train, test = train_test_split(df, test_size=0.3, shuffle=False)\n",
        "\n",
        "# Hiển thị kích thước của tập train và tập test\n",
        "print(len(train))\n",
        "print(len(test))\n",
        "# train = df.Close[:len(train)]\n",
        "# test = df.Close[len(train):]"
      ],
      "metadata": {
        "colab": {
          "base_uri": "https://localhost:8080/"
        },
        "id": "ZWfx3B-C-Xvw",
        "outputId": "d45aa22e-885c-4965-d73e-6de2b0191134"
      },
      "execution_count": 25,
      "outputs": [
        {
          "output_type": "stream",
          "name": "stdout",
          "text": [
            "1085\n",
            "466\n"
          ]
        }
      ]
    },
    {
      "cell_type": "code",
      "source": [
        "print(test.iloc[0],test.iloc[-1])"
      ],
      "metadata": {
        "colab": {
          "base_uri": "https://localhost:8080/"
        },
        "id": "LNufvjfxWvfO",
        "outputId": "e908e3f6-86fc-4e41-966b-73bbb82956c6"
      },
      "execution_count": 26,
      "outputs": [
        {
          "output_type": "stream",
          "name": "stdout",
          "text": [
            "Close    48936.61328\n",
            "Name: 2021-12-21 00:00:00, dtype: float64 Close    28478.48438\n",
            "Name: 2023-03-31 00:00:00, dtype: float64\n"
          ]
        }
      ]
    },
    {
      "cell_type": "code",
      "source": [
        "from statsmodels.tsa.arima.model import ARIMA\n",
        "import statsmodels.api as smapi\n",
        "model=ARIMA(train['Close'],order=(1,0,1))\n",
        "model=model.fit()\n",
        "model.summary()"
      ],
      "metadata": {
        "colab": {
          "base_uri": "https://localhost:8080/",
          "height": 568
        },
        "id": "XKIYtxqGW2d5",
        "outputId": "822e0a03-09d4-42db-94a9-f06c9596246c"
      },
      "execution_count": 24,
      "outputs": [
        {
          "output_type": "stream",
          "name": "stderr",
          "text": [
            "/usr/local/lib/python3.10/dist-packages/statsmodels/tsa/base/tsa_model.py:471: ValueWarning: No frequency information was provided, so inferred frequency D will be used.\n",
            "  self._init_dates(dates, freq)\n",
            "/usr/local/lib/python3.10/dist-packages/statsmodels/tsa/base/tsa_model.py:471: ValueWarning: No frequency information was provided, so inferred frequency D will be used.\n",
            "  self._init_dates(dates, freq)\n",
            "/usr/local/lib/python3.10/dist-packages/statsmodels/tsa/base/tsa_model.py:471: ValueWarning: No frequency information was provided, so inferred frequency D will be used.\n",
            "  self._init_dates(dates, freq)\n"
          ]
        },
        {
          "output_type": "execute_result",
          "data": {
            "text/plain": [
              "<class 'statsmodels.iolib.summary.Summary'>\n",
              "\"\"\"\n",
              "                               SARIMAX Results                                \n",
              "==============================================================================\n",
              "Dep. Variable:                  Close   No. Observations:                 1240\n",
              "Model:                 ARIMA(1, 0, 1)   Log Likelihood              -10518.311\n",
              "Date:                Fri, 05 May 2023   AIC                          21044.622\n",
              "Time:                        04:16:26   BIC                          21065.114\n",
              "Sample:                    01-01-2019   HQIC                         21052.329\n",
              "                         - 05-24-2022                                         \n",
              "Covariance Type:                  opg                                         \n",
              "==============================================================================\n",
              "                 coef    std err          z      P>|z|      [0.025      0.975]\n",
              "------------------------------------------------------------------------------\n",
              "const       2.405e+04    1.2e+04      2.011      0.044     609.680    4.75e+04\n",
              "ar.L1          0.9978      0.002    646.029      0.000       0.995       1.001\n",
              "ma.L1         -0.0373      0.021     -1.762      0.078      -0.079       0.004\n",
              "sigma2      1.363e+06    2.6e+04     52.491      0.000    1.31e+06    1.41e+06\n",
              "===================================================================================\n",
              "Ljung-Box (L1) (Q):                   0.00   Jarque-Bera (JB):              2557.79\n",
              "Prob(Q):                              0.97   Prob(JB):                         0.00\n",
              "Heteroskedasticity (H):              29.25   Skew:                            -0.08\n",
              "Prob(H) (two-sided):                  0.00   Kurtosis:                        10.03\n",
              "===================================================================================\n",
              "\n",
              "Warnings:\n",
              "[1] Covariance matrix calculated using the outer product of gradients (complex-step).\n",
              "\"\"\""
            ],
            "text/html": [
              "<table class=\"simpletable\">\n",
              "<caption>SARIMAX Results</caption>\n",
              "<tr>\n",
              "  <th>Dep. Variable:</th>         <td>Close</td>      <th>  No. Observations:  </th>    <td>1240</td>   \n",
              "</tr>\n",
              "<tr>\n",
              "  <th>Model:</th>            <td>ARIMA(1, 0, 1)</td>  <th>  Log Likelihood     </th> <td>-10518.311</td>\n",
              "</tr>\n",
              "<tr>\n",
              "  <th>Date:</th>            <td>Fri, 05 May 2023</td> <th>  AIC                </th>  <td>21044.622</td>\n",
              "</tr>\n",
              "<tr>\n",
              "  <th>Time:</th>                <td>04:16:26</td>     <th>  BIC                </th>  <td>21065.114</td>\n",
              "</tr>\n",
              "<tr>\n",
              "  <th>Sample:</th>             <td>01-01-2019</td>    <th>  HQIC               </th>  <td>21052.329</td>\n",
              "</tr>\n",
              "<tr>\n",
              "  <th></th>                   <td>- 05-24-2022</td>   <th>                     </th>      <td> </td>    \n",
              "</tr>\n",
              "<tr>\n",
              "  <th>Covariance Type:</th>        <td>opg</td>       <th>                     </th>      <td> </td>    \n",
              "</tr>\n",
              "</table>\n",
              "<table class=\"simpletable\">\n",
              "<tr>\n",
              "     <td></td>       <th>coef</th>     <th>std err</th>      <th>z</th>      <th>P>|z|</th>  <th>[0.025</th>    <th>0.975]</th>  \n",
              "</tr>\n",
              "<tr>\n",
              "  <th>const</th>  <td> 2.405e+04</td> <td>  1.2e+04</td> <td>    2.011</td> <td> 0.044</td> <td>  609.680</td> <td> 4.75e+04</td>\n",
              "</tr>\n",
              "<tr>\n",
              "  <th>ar.L1</th>  <td>    0.9978</td> <td>    0.002</td> <td>  646.029</td> <td> 0.000</td> <td>    0.995</td> <td>    1.001</td>\n",
              "</tr>\n",
              "<tr>\n",
              "  <th>ma.L1</th>  <td>   -0.0373</td> <td>    0.021</td> <td>   -1.762</td> <td> 0.078</td> <td>   -0.079</td> <td>    0.004</td>\n",
              "</tr>\n",
              "<tr>\n",
              "  <th>sigma2</th> <td> 1.363e+06</td> <td>  2.6e+04</td> <td>   52.491</td> <td> 0.000</td> <td> 1.31e+06</td> <td> 1.41e+06</td>\n",
              "</tr>\n",
              "</table>\n",
              "<table class=\"simpletable\">\n",
              "<tr>\n",
              "  <th>Ljung-Box (L1) (Q):</th>     <td>0.00</td>  <th>  Jarque-Bera (JB):  </th> <td>2557.79</td>\n",
              "</tr>\n",
              "<tr>\n",
              "  <th>Prob(Q):</th>                <td>0.97</td>  <th>  Prob(JB):          </th>  <td>0.00</td>  \n",
              "</tr>\n",
              "<tr>\n",
              "  <th>Heteroskedasticity (H):</th> <td>29.25</td> <th>  Skew:              </th>  <td>-0.08</td> \n",
              "</tr>\n",
              "<tr>\n",
              "  <th>Prob(H) (two-sided):</th>    <td>0.00</td>  <th>  Kurtosis:          </th>  <td>10.03</td> \n",
              "</tr>\n",
              "</table><br/><br/>Warnings:<br/>[1] Covariance matrix calculated using the outer product of gradients (complex-step)."
            ]
          },
          "metadata": {},
          "execution_count": 24
        }
      ]
    },
    {
      "cell_type": "code",
      "source": [
        "df['Date'] = pd.to_datetime(df['Date'])\n",
        "df.dtypes"
      ],
      "metadata": {
        "colab": {
          "base_uri": "https://localhost:8080/"
        },
        "id": "nPCAZW4hBKZG",
        "outputId": "a7bad195-d3b4-4aa7-c80b-978fb6557933"
      },
      "execution_count": 10,
      "outputs": [
        {
          "output_type": "execute_result",
          "data": {
            "text/plain": [
              "Date     datetime64[ns]\n",
              "Close           float64\n",
              "dtype: object"
            ]
          },
          "metadata": {},
          "execution_count": 10
        }
      ]
    },
    {
      "cell_type": "code",
      "source": [
        "df.set_index('Date', inplace = True)\n",
        "df.head()"
      ],
      "metadata": {
        "colab": {
          "base_uri": "https://localhost:8080/",
          "height": 237
        },
        "id": "EdlKVBA2Aw3M",
        "outputId": "a06c204c-51b3-45a8-f2cd-3285ab39e5b0"
      },
      "execution_count": 11,
      "outputs": [
        {
          "output_type": "execute_result",
          "data": {
            "text/plain": [
              "                  Close\n",
              "Date                   \n",
              "2019-01-01  3843.520020\n",
              "2019-01-02  3943.409424\n",
              "2019-01-03  3836.741211\n",
              "2019-01-04  3857.717529\n",
              "2019-01-05  3845.194580"
            ],
            "text/html": [
              "\n",
              "  <div id=\"df-58e207f4-ffec-4600-aa2d-d450c69f63de\">\n",
              "    <div class=\"colab-df-container\">\n",
              "      <div>\n",
              "<style scoped>\n",
              "    .dataframe tbody tr th:only-of-type {\n",
              "        vertical-align: middle;\n",
              "    }\n",
              "\n",
              "    .dataframe tbody tr th {\n",
              "        vertical-align: top;\n",
              "    }\n",
              "\n",
              "    .dataframe thead th {\n",
              "        text-align: right;\n",
              "    }\n",
              "</style>\n",
              "<table border=\"1\" class=\"dataframe\">\n",
              "  <thead>\n",
              "    <tr style=\"text-align: right;\">\n",
              "      <th></th>\n",
              "      <th>Close</th>\n",
              "    </tr>\n",
              "    <tr>\n",
              "      <th>Date</th>\n",
              "      <th></th>\n",
              "    </tr>\n",
              "  </thead>\n",
              "  <tbody>\n",
              "    <tr>\n",
              "      <th>2019-01-01</th>\n",
              "      <td>3843.520020</td>\n",
              "    </tr>\n",
              "    <tr>\n",
              "      <th>2019-01-02</th>\n",
              "      <td>3943.409424</td>\n",
              "    </tr>\n",
              "    <tr>\n",
              "      <th>2019-01-03</th>\n",
              "      <td>3836.741211</td>\n",
              "    </tr>\n",
              "    <tr>\n",
              "      <th>2019-01-04</th>\n",
              "      <td>3857.717529</td>\n",
              "    </tr>\n",
              "    <tr>\n",
              "      <th>2019-01-05</th>\n",
              "      <td>3845.194580</td>\n",
              "    </tr>\n",
              "  </tbody>\n",
              "</table>\n",
              "</div>\n",
              "      <button class=\"colab-df-convert\" onclick=\"convertToInteractive('df-58e207f4-ffec-4600-aa2d-d450c69f63de')\"\n",
              "              title=\"Convert this dataframe to an interactive table.\"\n",
              "              style=\"display:none;\">\n",
              "        \n",
              "  <svg xmlns=\"http://www.w3.org/2000/svg\" height=\"24px\"viewBox=\"0 0 24 24\"\n",
              "       width=\"24px\">\n",
              "    <path d=\"M0 0h24v24H0V0z\" fill=\"none\"/>\n",
              "    <path d=\"M18.56 5.44l.94 2.06.94-2.06 2.06-.94-2.06-.94-.94-2.06-.94 2.06-2.06.94zm-11 1L8.5 8.5l.94-2.06 2.06-.94-2.06-.94L8.5 2.5l-.94 2.06-2.06.94zm10 10l.94 2.06.94-2.06 2.06-.94-2.06-.94-.94-2.06-.94 2.06-2.06.94z\"/><path d=\"M17.41 7.96l-1.37-1.37c-.4-.4-.92-.59-1.43-.59-.52 0-1.04.2-1.43.59L10.3 9.45l-7.72 7.72c-.78.78-.78 2.05 0 2.83L4 21.41c.39.39.9.59 1.41.59.51 0 1.02-.2 1.41-.59l7.78-7.78 2.81-2.81c.8-.78.8-2.07 0-2.86zM5.41 20L4 18.59l7.72-7.72 1.47 1.35L5.41 20z\"/>\n",
              "  </svg>\n",
              "      </button>\n",
              "      \n",
              "  <style>\n",
              "    .colab-df-container {\n",
              "      display:flex;\n",
              "      flex-wrap:wrap;\n",
              "      gap: 12px;\n",
              "    }\n",
              "\n",
              "    .colab-df-convert {\n",
              "      background-color: #E8F0FE;\n",
              "      border: none;\n",
              "      border-radius: 50%;\n",
              "      cursor: pointer;\n",
              "      display: none;\n",
              "      fill: #1967D2;\n",
              "      height: 32px;\n",
              "      padding: 0 0 0 0;\n",
              "      width: 32px;\n",
              "    }\n",
              "\n",
              "    .colab-df-convert:hover {\n",
              "      background-color: #E2EBFA;\n",
              "      box-shadow: 0px 1px 2px rgba(60, 64, 67, 0.3), 0px 1px 3px 1px rgba(60, 64, 67, 0.15);\n",
              "      fill: #174EA6;\n",
              "    }\n",
              "\n",
              "    [theme=dark] .colab-df-convert {\n",
              "      background-color: #3B4455;\n",
              "      fill: #D2E3FC;\n",
              "    }\n",
              "\n",
              "    [theme=dark] .colab-df-convert:hover {\n",
              "      background-color: #434B5C;\n",
              "      box-shadow: 0px 1px 3px 1px rgba(0, 0, 0, 0.15);\n",
              "      filter: drop-shadow(0px 1px 2px rgba(0, 0, 0, 0.3));\n",
              "      fill: #FFFFFF;\n",
              "    }\n",
              "  </style>\n",
              "\n",
              "      <script>\n",
              "        const buttonEl =\n",
              "          document.querySelector('#df-58e207f4-ffec-4600-aa2d-d450c69f63de button.colab-df-convert');\n",
              "        buttonEl.style.display =\n",
              "          google.colab.kernel.accessAllowed ? 'block' : 'none';\n",
              "\n",
              "        async function convertToInteractive(key) {\n",
              "          const element = document.querySelector('#df-58e207f4-ffec-4600-aa2d-d450c69f63de');\n",
              "          const dataTable =\n",
              "            await google.colab.kernel.invokeFunction('convertToInteractive',\n",
              "                                                     [key], {});\n",
              "          if (!dataTable) return;\n",
              "\n",
              "          const docLinkHtml = 'Like what you see? Visit the ' +\n",
              "            '<a target=\"_blank\" href=https://colab.research.google.com/notebooks/data_table.ipynb>data table notebook</a>'\n",
              "            + ' to learn more about interactive tables.';\n",
              "          element.innerHTML = '';\n",
              "          dataTable['output_type'] = 'display_data';\n",
              "          await google.colab.output.renderOutput(dataTable, element);\n",
              "          const docLink = document.createElement('div');\n",
              "          docLink.innerHTML = docLinkHtml;\n",
              "          element.appendChild(docLink);\n",
              "        }\n",
              "      </script>\n",
              "    </div>\n",
              "  </div>\n",
              "  "
            ]
          },
          "metadata": {},
          "execution_count": 11
        }
      ]
    },
    {
      "cell_type": "code",
      "source": [
        "\n",
        "import pandas as pd\n",
        "import numpy as np\n",
        "import matplotlib.pyplot as plt\n",
        "from statsmodels.tsa.arima.model import ARIMA\n",
        "from sklearn.metrics import mean_squared_error\n",
        "\n",
        "\n",
        "# Split data into train and test sets\n",
        "train_data, test_data = train_test_split(df['Close'], test_size=0.3, shuffle=False)\n",
        "\n",
        "# Train the ARIMA model\n",
        "model = ARIMA(train_data, order=(1,0,1))\n",
        "fitted = model.fit()\n",
        "\n",
        "# Forecast\n",
        "print(fitted.forecast(15, alpha=0.05))  # 95% conf\n",
        "fc = fitted.forecast(len(test_data))\n",
        "conf = fitted.conf_int(alpha=0.05)\n",
        "\n",
        "# Calculate mean squared error\n",
        "mse = mean_squared_error(test_data, fc)\n",
        "print('Mean Squared Error:', mse)\n",
        "# Make as pandas series\n",
        "fc_series = pd.Series(fc, index=test_data.index)\n",
        "lower_series = pd.Series(df.Close, index=test_data.index)\n",
        "upper_series = pd.Series(df.Close, index=test_data.index)\n",
        "\n",
        "# Plot\n",
        "plt.figure(figsize=(12,5), dpi=100)\n",
        "plt.plot(train_data, label='Train')\n",
        "plt.plot(test_data, label='Test')\n",
        "plt.plot(fc_series, label='Predict')\n",
        "plt.fill_between(lower_series.index, lower_series, upper_series, color='k', alpha=.15)\n",
        "plt.ylabel('Close');\n",
        "plt.xlabel('Date');\n",
        "plt.title('Predict vs Test')\n",
        "plt.legend(loc='upper left', fontsize=8)\n",
        "plt.show()"
      ],
      "metadata": {
        "colab": {
          "base_uri": "https://localhost:8080/",
          "height": 906
        },
        "id": "1mZO-8v8wQrY",
        "outputId": "af11ddad-0d78-4f54-8ff2-125d4faa300e"
      },
      "execution_count": 27,
      "outputs": [
        {
          "output_type": "stream",
          "name": "stderr",
          "text": [
            "/usr/local/lib/python3.10/dist-packages/statsmodels/tsa/base/tsa_model.py:471: ValueWarning: No frequency information was provided, so inferred frequency D will be used.\n",
            "  self._init_dates(dates, freq)\n",
            "/usr/local/lib/python3.10/dist-packages/statsmodels/tsa/base/tsa_model.py:471: ValueWarning: No frequency information was provided, so inferred frequency D will be used.\n",
            "  self._init_dates(dates, freq)\n",
            "/usr/local/lib/python3.10/dist-packages/statsmodels/tsa/base/tsa_model.py:471: ValueWarning: No frequency information was provided, so inferred frequency D will be used.\n",
            "  self._init_dates(dates, freq)\n"
          ]
        },
        {
          "output_type": "stream",
          "name": "stdout",
          "text": [
            "2021-12-21    46840.564394\n",
            "2021-12-22    46809.536077\n",
            "2021-12-23    46778.546053\n",
            "2021-12-24    46747.594276\n",
            "2021-12-25    46716.680698\n",
            "2021-12-26    46685.805273\n",
            "2021-12-27    46654.967953\n",
            "2021-12-28    46624.168691\n",
            "2021-12-29    46593.407440\n",
            "2021-12-30    46562.684154\n",
            "2021-12-31    46531.998785\n",
            "2022-01-01    46501.351287\n",
            "2022-01-02    46470.741612\n",
            "2022-01-03    46440.169715\n",
            "2022-01-04    46409.635549\n",
            "Freq: D, Name: predicted_mean, dtype: float64\n",
            "Mean Squared Error: 229937041.15856016\n"
          ]
        },
        {
          "output_type": "display_data",
          "data": {
            "text/plain": [
              "<Figure size 1200x500 with 1 Axes>"
            ],
            "image/png": "[encoded data removed]"
          },
          "metadata": {}
        }
      ]
    },
    {
      "cell_type": "code",
      "source": [
        "def forecast_accuracy(forecast, actual):\n",
        "    mape = np.mean(np.abs(forecast - actual)/np.abs(actual))  # MAPE\n",
        "    me = np.mean(forecast - actual)             # ME\n",
        "    mae = np.mean(np.abs(forecast - actual))    # MAE\n",
        "    mpe = np.mean((forecast - actual)/actual)   # MPE\n",
        "    rmse = np.mean((forecast - actual)**2)**.5  # RMSE\n",
        "    corr = np.corrcoef(forecast, actual)[0,1]   # corr\n",
        "    mins = np.amin(np.hstack([forecast[:,None], \n",
        "                              actual[:,None]]), axis=1)\n",
        "    maxs = np.amax(np.hstack([forecast[:,None], \n",
        "                              actual[:,None]]), axis=1)\n",
        "    minmax = 1 - np.mean(mins/maxs)             # minmax\n",
        "    return({'mape':mape, 'me':me, 'mae': mae, \n",
        "            'mpe': mpe, 'rmse':rmse, \n",
        "            'corr':corr, 'minmax':minmax})\n",
        "\n",
        "forecast_accuracy(fc, test.Close)"
      ],
      "metadata": {
        "colab": {
          "base_uri": "https://localhost:8080/"
        },
        "id": "z0wBCxBjeXoy",
        "outputId": "ef1ba8f4-8146-45af-8b81-ae61037516d6"
      },
      "execution_count": 28,
      "outputs": [
        {
          "output_type": "stream",
          "name": "stderr",
          "text": [
            "<ipython-input-28-d5866cac8356>:8: FutureWarning: Support for multi-dimensional indexing (e.g. `obj[:, None]`) is deprecated and will be removed in a future version.  Convert to a numpy array before indexing instead.\n",
            "  mins = np.amin(np.hstack([forecast[:,None],\n",
            "<ipython-input-28-d5866cac8356>:9: FutureWarning: Support for multi-dimensional indexing (e.g. `obj[:, None]`) is deprecated and will be removed in a future version.  Convert to a numpy array before indexing instead.\n",
            "  actual[:,None]]), axis=1)\n",
            "<ipython-input-28-d5866cac8356>:10: FutureWarning: Support for multi-dimensional indexing (e.g. `obj[:, None]`) is deprecated and will be removed in a future version.  Convert to a numpy array before indexing instead.\n",
            "  maxs = np.amax(np.hstack([forecast[:,None],\n",
            "<ipython-input-28-d5866cac8356>:11: FutureWarning: Support for multi-dimensional indexing (e.g. `obj[:, None]`) is deprecated and will be removed in a future version.  Convert to a numpy array before indexing instead.\n",
            "  actual[:,None]]), axis=1)\n"
          ]
        },
        {
          "output_type": "execute_result",
          "data": {
            "text/plain": [
              "{'mape': 0.6291231605880453,\n",
              " 'me': 13167.03636761129,\n",
              " 'mae': 13398.44571919728,\n",
              " 'mpe': 0.6243257494105823,\n",
              " 'rmse': 15163.67505450312,\n",
              " 'corr': 0.8261522435427171,\n",
              " 'minmax': 0.33840804317158}"
            ]
          },
          "metadata": {},
          "execution_count": 28
        }
      ]
    },
    {
      "cell_type": "markdown",
      "source": [
        "**<h3>Dự đoán trên bộ dữ liệu với Train-Test là 8-2</h3>**"
      ],
      "metadata": {
        "id": "WlRpx4lkag1D"
      }
    },
    {
      "cell_type": "code",
      "source": [
        "from sklearn.model_selection import train_test_split\n",
        "from statsmodels.tsa.stattools import acf\n",
        "\n",
        "# Chia dữ liệu train-test theo tỷ lệ 8-2\n",
        "train, test = train_test_split(df, test_size=0.2, shuffle=False)\n",
        "\n",
        "# Hiển thị kích thước của tập train và tập test\n",
        "print(len(train))\n",
        "print(len(test))\n",
        "# train = df.Close[:len(train)]\n",
        "# test = df.Close[len(train):]"
      ],
      "metadata": {
        "colab": {
          "base_uri": "https://localhost:8080/"
        },
        "id": "7OToMR9TbOuG",
        "outputId": "014c74f0-eb91-4986-aba5-ed1a126f4913"
      },
      "execution_count": 29,
      "outputs": [
        {
          "output_type": "stream",
          "name": "stdout",
          "text": [
            "1240\n",
            "311\n"
          ]
        }
      ]
    },
    {
      "cell_type": "code",
      "source": [
        "print(test.iloc[0],test.iloc[-1])"
      ],
      "metadata": {
        "colab": {
          "base_uri": "https://localhost:8080/"
        },
        "id": "xSaoBgsUF919",
        "outputId": "a385a24c-4693-4b2f-8bc6-37e1496dbc76"
      },
      "execution_count": 30,
      "outputs": [
        {
          "output_type": "stream",
          "name": "stdout",
          "text": [
            "Close    29562.36133\n",
            "Name: 2022-05-25 00:00:00, dtype: float64 Close    28478.48438\n",
            "Name: 2023-03-31 00:00:00, dtype: float64\n"
          ]
        }
      ]
    },
    {
      "cell_type": "code",
      "source": [
        "from statsmodels.tsa.arima.model import ARIMA\n",
        "import statsmodels.api as smapi\n",
        "model=ARIMA(train['Close'],order=(1,0,1))\n",
        "model=model.fit()\n",
        "model.summary()"
      ],
      "metadata": {
        "colab": {
          "base_uri": "https://localhost:8080/",
          "height": 568
        },
        "id": "sGiyxdQfGF8M",
        "outputId": "4eaeae47-e142-4180-bab2-c7c1bfb87d03"
      },
      "execution_count": 31,
      "outputs": [
        {
          "output_type": "stream",
          "name": "stderr",
          "text": [
            "/usr/local/lib/python3.10/dist-packages/statsmodels/tsa/base/tsa_model.py:471: ValueWarning: No frequency information was provided, so inferred frequency D will be used.\n",
            "  self._init_dates(dates, freq)\n",
            "/usr/local/lib/python3.10/dist-packages/statsmodels/tsa/base/tsa_model.py:471: ValueWarning: No frequency information was provided, so inferred frequency D will be used.\n",
            "  self._init_dates(dates, freq)\n",
            "/usr/local/lib/python3.10/dist-packages/statsmodels/tsa/base/tsa_model.py:471: ValueWarning: No frequency information was provided, so inferred frequency D will be used.\n",
            "  self._init_dates(dates, freq)\n"
          ]
        },
        {
          "output_type": "execute_result",
          "data": {
            "text/plain": [
              "<class 'statsmodels.iolib.summary.Summary'>\n",
              "\"\"\"\n",
              "                               SARIMAX Results                                \n",
              "==============================================================================\n",
              "Dep. Variable:                  Close   No. Observations:                 1240\n",
              "Model:                 ARIMA(1, 0, 1)   Log Likelihood              -10518.311\n",
              "Date:                Fri, 05 May 2023   AIC                          21044.622\n",
              "Time:                        04:19:43   BIC                          21065.114\n",
              "Sample:                    01-01-2019   HQIC                         21052.329\n",
              "                         - 05-24-2022                                         \n",
              "Covariance Type:                  opg                                         \n",
              "==============================================================================\n",
              "                 coef    std err          z      P>|z|      [0.025      0.975]\n",
              "------------------------------------------------------------------------------\n",
              "const       2.405e+04    1.2e+04      2.011      0.044     609.680    4.75e+04\n",
              "ar.L1          0.9978      0.002    646.029      0.000       0.995       1.001\n",
              "ma.L1         -0.0373      0.021     -1.762      0.078      -0.079       0.004\n",
              "sigma2      1.363e+06    2.6e+04     52.491      0.000    1.31e+06    1.41e+06\n",
              "===================================================================================\n",
              "Ljung-Box (L1) (Q):                   0.00   Jarque-Bera (JB):              2557.79\n",
              "Prob(Q):                              0.97   Prob(JB):                         0.00\n",
              "Heteroskedasticity (H):              29.25   Skew:                            -0.08\n",
              "Prob(H) (two-sided):                  0.00   Kurtosis:                        10.03\n",
              "===================================================================================\n",
              "\n",
              "Warnings:\n",
              "[1] Covariance matrix calculated using the outer product of gradients (complex-step).\n",
              "\"\"\""
            ],
            "text/html": [
              "<table class=\"simpletable\">\n",
              "<caption>SARIMAX Results</caption>\n",
              "<tr>\n",
              "  <th>Dep. Variable:</th>         <td>Close</td>      <th>  No. Observations:  </th>    <td>1240</td>   \n",
              "</tr>\n",
              "<tr>\n",
              "  <th>Model:</th>            <td>ARIMA(1, 0, 1)</td>  <th>  Log Likelihood     </th> <td>-10518.311</td>\n",
              "</tr>\n",
              "<tr>\n",
              "  <th>Date:</th>            <td>Fri, 05 May 2023</td> <th>  AIC                </th>  <td>21044.622</td>\n",
              "</tr>\n",
              "<tr>\n",
              "  <th>Time:</th>                <td>04:19:43</td>     <th>  BIC                </th>  <td>21065.114</td>\n",
              "</tr>\n",
              "<tr>\n",
              "  <th>Sample:</th>             <td>01-01-2019</td>    <th>  HQIC               </th>  <td>21052.329</td>\n",
              "</tr>\n",
              "<tr>\n",
              "  <th></th>                   <td>- 05-24-2022</td>   <th>                     </th>      <td> </td>    \n",
              "</tr>\n",
              "<tr>\n",
              "  <th>Covariance Type:</th>        <td>opg</td>       <th>                     </th>      <td> </td>    \n",
              "</tr>\n",
              "</table>\n",
              "<table class=\"simpletable\">\n",
              "<tr>\n",
              "     <td></td>       <th>coef</th>     <th>std err</th>      <th>z</th>      <th>P>|z|</th>  <th>[0.025</th>    <th>0.975]</th>  \n",
              "</tr>\n",
              "<tr>\n",
              "  <th>const</th>  <td> 2.405e+04</td> <td>  1.2e+04</td> <td>    2.011</td> <td> 0.044</td> <td>  609.680</td> <td> 4.75e+04</td>\n",
              "</tr>\n",
              "<tr>\n",
              "  <th>ar.L1</th>  <td>    0.9978</td> <td>    0.002</td> <td>  646.029</td> <td> 0.000</td> <td>    0.995</td> <td>    1.001</td>\n",
              "</tr>\n",
              "<tr>\n",
              "  <th>ma.L1</th>  <td>   -0.0373</td> <td>    0.021</td> <td>   -1.762</td> <td> 0.078</td> <td>   -0.079</td> <td>    0.004</td>\n",
              "</tr>\n",
              "<tr>\n",
              "  <th>sigma2</th> <td> 1.363e+06</td> <td>  2.6e+04</td> <td>   52.491</td> <td> 0.000</td> <td> 1.31e+06</td> <td> 1.41e+06</td>\n",
              "</tr>\n",
              "</table>\n",
              "<table class=\"simpletable\">\n",
              "<tr>\n",
              "  <th>Ljung-Box (L1) (Q):</th>     <td>0.00</td>  <th>  Jarque-Bera (JB):  </th> <td>2557.79</td>\n",
              "</tr>\n",
              "<tr>\n",
              "  <th>Prob(Q):</th>                <td>0.97</td>  <th>  Prob(JB):          </th>  <td>0.00</td>  \n",
              "</tr>\n",
              "<tr>\n",
              "  <th>Heteroskedasticity (H):</th> <td>29.25</td> <th>  Skew:              </th>  <td>-0.08</td> \n",
              "</tr>\n",
              "<tr>\n",
              "  <th>Prob(H) (two-sided):</th>    <td>0.00</td>  <th>  Kurtosis:          </th>  <td>10.03</td> \n",
              "</tr>\n",
              "</table><br/><br/>Warnings:<br/>[1] Covariance matrix calculated using the outer product of gradients (complex-step)."
            ]
          },
          "metadata": {},
          "execution_count": 31
        }
      ]
    },
    {
      "cell_type": "code",
      "source": [
        "df"
      ],
      "metadata": {
        "colab": {
          "base_uri": "https://localhost:8080/",
          "height": 455
        },
        "id": "EJuW5At1GTOT",
        "outputId": "0c8e41f7-1cf9-4025-cc29-2f8b3bebc6f4"
      },
      "execution_count": 32,
      "outputs": [
        {
          "output_type": "execute_result",
          "data": {
            "text/plain": [
              "                   Close\n",
              "Date                    \n",
              "2019-01-01   3843.520020\n",
              "2019-01-02   3943.409424\n",
              "2019-01-03   3836.741211\n",
              "2019-01-04   3857.717529\n",
              "2019-01-05   3845.194580\n",
              "...                  ...\n",
              "2023-03-27  27139.888670\n",
              "2023-03-28  27268.130860\n",
              "2023-03-29  28348.441410\n",
              "2023-03-30  28033.562500\n",
              "2023-03-31  28478.484380\n",
              "\n",
              "[1551 rows x 1 columns]"
            ],
            "text/html": [
              "\n",
              "  <div id=\"df-312e0100-1c5d-4ac8-ab33-a352d1a93aef\">\n",
              "    <div class=\"colab-df-container\">\n",
              "      <div>\n",
              "<style scoped>\n",
              "    .dataframe tbody tr th:only-of-type {\n",
              "        vertical-align: middle;\n",
              "    }\n",
              "\n",
              "    .dataframe tbody tr th {\n",
              "        vertical-align: top;\n",
              "    }\n",
              "\n",
              "    .dataframe thead th {\n",
              "        text-align: right;\n",
              "    }\n",
              "</style>\n",
              "<table border=\"1\" class=\"dataframe\">\n",
              "  <thead>\n",
              "    <tr style=\"text-align: right;\">\n",
              "      <th></th>\n",
              "      <th>Close</th>\n",
              "    </tr>\n",
              "    <tr>\n",
              "      <th>Date</th>\n",
              "      <th></th>\n",
              "    </tr>\n",
              "  </thead>\n",
              "  <tbody>\n",
              "    <tr>\n",
              "      <th>2019-01-01</th>\n",
              "      <td>3843.520020</td>\n",
              "    </tr>\n",
              "    <tr>\n",
              "      <th>2019-01-02</th>\n",
              "      <td>3943.409424</td>\n",
              "    </tr>\n",
              "    <tr>\n",
              "      <th>2019-01-03</th>\n",
              "      <td>3836.741211</td>\n",
              "    </tr>\n",
              "    <tr>\n",
              "      <th>2019-01-04</th>\n",
              "      <td>3857.717529</td>\n",
              "    </tr>\n",
              "    <tr>\n",
              "      <th>2019-01-05</th>\n",
              "      <td>3845.194580</td>\n",
              "    </tr>\n",
              "    <tr>\n",
              "      <th>...</th>\n",
              "      <td>...</td>\n",
              "    </tr>\n",
              "    <tr>\n",
              "      <th>2023-03-27</th>\n",
              "      <td>27139.888670</td>\n",
              "    </tr>\n",
              "    <tr>\n",
              "      <th>2023-03-28</th>\n",
              "      <td>27268.130860</td>\n",
              "    </tr>\n",
              "    <tr>\n",
              "      <th>2023-03-29</th>\n",
              "      <td>28348.441410</td>\n",
              "    </tr>\n",
              "    <tr>\n",
              "      <th>2023-03-30</th>\n",
              "      <td>28033.562500</td>\n",
              "    </tr>\n",
              "    <tr>\n",
              "      <th>2023-03-31</th>\n",
              "      <td>28478.484380</td>\n",
              "    </tr>\n",
              "  </tbody>\n",
              "</table>\n",
              "<p>1551 rows × 1 columns</p>\n",
              "</div>\n",
              "      <button class=\"colab-df-convert\" onclick=\"convertToInteractive('df-312e0100-1c5d-4ac8-ab33-a352d1a93aef')\"\n",
              "              title=\"Convert this dataframe to an interactive table.\"\n",
              "              style=\"display:none;\">\n",
              "        \n",
              "  <svg xmlns=\"http://www.w3.org/2000/svg\" height=\"24px\"viewBox=\"0 0 24 24\"\n",
              "       width=\"24px\">\n",
              "    <path d=\"M0 0h24v24H0V0z\" fill=\"none\"/>\n",
              "    <path d=\"M18.56 5.44l.94 2.06.94-2.06 2.06-.94-2.06-.94-.94-2.06-.94 2.06-2.06.94zm-11 1L8.5 8.5l.94-2.06 2.06-.94-2.06-.94L8.5 2.5l-.94 2.06-2.06.94zm10 10l.94 2.06.94-2.06 2.06-.94-2.06-.94-.94-2.06-.94 2.06-2.06.94z\"/><path d=\"M17.41 7.96l-1.37-1.37c-.4-.4-.92-.59-1.43-.59-.52 0-1.04.2-1.43.59L10.3 9.45l-7.72 7.72c-.78.78-.78 2.05 0 2.83L4 21.41c.39.39.9.59 1.41.59.51 0 1.02-.2 1.41-.59l7.78-7.78 2.81-2.81c.8-.78.8-2.07 0-2.86zM5.41 20L4 18.59l7.72-7.72 1.47 1.35L5.41 20z\"/>\n",
              "  </svg>\n",
              "      </button>\n",
              "      \n",
              "  <style>\n",
              "    .colab-df-container {\n",
              "      display:flex;\n",
              "      flex-wrap:wrap;\n",
              "      gap: 12px;\n",
              "    }\n",
              "\n",
              "    .colab-df-convert {\n",
              "      background-color: #E8F0FE;\n",
              "      border: none;\n",
              "      border-radius: 50%;\n",
              "      cursor: pointer;\n",
              "      display: none;\n",
              "      fill: #1967D2;\n",
              "      height: 32px;\n",
              "      padding: 0 0 0 0;\n",
              "      width: 32px;\n",
              "    }\n",
              "\n",
              "    .colab-df-convert:hover {\n",
              "      background-color: #E2EBFA;\n",
              "      box-shadow: 0px 1px 2px rgba(60, 64, 67, 0.3), 0px 1px 3px 1px rgba(60, 64, 67, 0.15);\n",
              "      fill: #174EA6;\n",
              "    }\n",
              "\n",
              "    [theme=dark] .colab-df-convert {\n",
              "      background-color: #3B4455;\n",
              "      fill: #D2E3FC;\n",
              "    }\n",
              "\n",
              "    [theme=dark] .colab-df-convert:hover {\n",
              "      background-color: #434B5C;\n",
              "      box-shadow: 0px 1px 3px 1px rgba(0, 0, 0, 0.15);\n",
              "      filter: drop-shadow(0px 1px 2px rgba(0, 0, 0, 0.3));\n",
              "      fill: #FFFFFF;\n",
              "    }\n",
              "  </style>\n",
              "\n",
              "      <script>\n",
              "        const buttonEl =\n",
              "          document.querySelector('#df-312e0100-1c5d-4ac8-ab33-a352d1a93aef button.colab-df-convert');\n",
              "        buttonEl.style.display =\n",
              "          google.colab.kernel.accessAllowed ? 'block' : 'none';\n",
              "\n",
              "        async function convertToInteractive(key) {\n",
              "          const element = document.querySelector('#df-312e0100-1c5d-4ac8-ab33-a352d1a93aef');\n",
              "          const dataTable =\n",
              "            await google.colab.kernel.invokeFunction('convertToInteractive',\n",
              "                                                     [key], {});\n",
              "          if (!dataTable) return;\n",
              "\n",
              "          const docLinkHtml = 'Like what you see? Visit the ' +\n",
              "            '<a target=\"_blank\" href=https://colab.research.google.com/notebooks/data_table.ipynb>data table notebook</a>'\n",
              "            + ' to learn more about interactive tables.';\n",
              "          element.innerHTML = '';\n",
              "          dataTable['output_type'] = 'display_data';\n",
              "          await google.colab.output.renderOutput(dataTable, element);\n",
              "          const docLink = document.createElement('div');\n",
              "          docLink.innerHTML = docLinkHtml;\n",
              "          element.appendChild(docLink);\n",
              "        }\n",
              "      </script>\n",
              "    </div>\n",
              "  </div>\n",
              "  "
            ]
          },
          "metadata": {},
          "execution_count": 32
        }
      ]
    },
    {
      "cell_type": "code",
      "source": [
        "import pandas as pd\n",
        "import numpy as np\n",
        "import matplotlib.pyplot as plt\n",
        "from statsmodels.tsa.arima.model import ARIMA\n",
        "from sklearn.metrics import mean_squared_error\n",
        "\n",
        "\n",
        "# Split data into train and test sets\n",
        "train_data, test_data = train_test_split(df['Close'], test_size=0.2, shuffle=False)\n",
        "\n",
        "# Train the ARIMA model\n",
        "model = ARIMA(train_data, order=(1,0,1))\n",
        "fitted = model.fit()\n",
        "\n",
        "# Forecast\n",
        "print(fitted.forecast(15, alpha=0.05))  # 95% conf\n",
        "fc = fitted.forecast(len(test_data))\n",
        "conf = fitted.conf_int(alpha=0.05)\n",
        "\n",
        "# Calculate mean squared error\n",
        "mse = mean_squared_error(test_data, fc)\n",
        "print('Mean Squared Error:', mse)\n",
        "# Make as pandas series\n",
        "fc_series = pd.Series(fc, index=test_data.index)\n",
        "lower_series = pd.Series(df.Close, index=test_data.index)\n",
        "upper_series = pd.Series(df.Close, index=test_data.index)\n",
        "\n",
        "# Plot\n",
        "plt.figure(figsize=(12,5), dpi=100)\n",
        "plt.plot(train_data, label='Train')\n",
        "plt.plot(test_data, label='Test')\n",
        "plt.plot(fc_series, label='Predict')\n",
        "plt.fill_between(lower_series.index, lower_series, upper_series, color='k', alpha=.15)\n",
        "plt.ylabel('Close');\n",
        "plt.xlabel('Date');\n",
        "plt.title('Predict vs Test')\n",
        "plt.legend(loc='upper left', fontsize=8)\n",
        "plt.show()"
      ],
      "metadata": {
        "colab": {
          "base_uri": "https://localhost:8080/",
          "height": 906
        },
        "id": "Mf0xyoHKTppp",
        "outputId": "aaafa344-29ba-4952-9654-d15e3706519d"
      },
      "execution_count": 33,
      "outputs": [
        {
          "output_type": "stream",
          "name": "stderr",
          "text": [
            "/usr/local/lib/python3.10/dist-packages/statsmodels/tsa/base/tsa_model.py:471: ValueWarning: No frequency information was provided, so inferred frequency D will be used.\n",
            "  self._init_dates(dates, freq)\n",
            "/usr/local/lib/python3.10/dist-packages/statsmodels/tsa/base/tsa_model.py:471: ValueWarning: No frequency information was provided, so inferred frequency D will be used.\n",
            "  self._init_dates(dates, freq)\n",
            "/usr/local/lib/python3.10/dist-packages/statsmodels/tsa/base/tsa_model.py:471: ValueWarning: No frequency information was provided, so inferred frequency D will be used.\n",
            "  self._init_dates(dates, freq)\n"
          ]
        },
        {
          "output_type": "stream",
          "name": "stdout",
          "text": [
            "2022-05-25    29623.826176\n",
            "2022-05-26    29611.654532\n",
            "2022-05-27    29599.509444\n",
            "2022-05-28    29587.390854\n",
            "2022-05-29    29575.298704\n",
            "2022-05-30    29563.232937\n",
            "2022-05-31    29551.193495\n",
            "2022-06-01    29539.180321\n",
            "2022-06-02    29527.193357\n",
            "2022-06-03    29515.232546\n",
            "2022-06-04    29503.297831\n",
            "2022-06-05    29491.389155\n",
            "2022-06-06    29479.506462\n",
            "2022-06-07    29467.649694\n",
            "2022-06-08    29455.818795\n",
            "Freq: D, Name: predicted_mean, dtype: float64\n",
            "Mean Squared Error: 58826133.41236973\n"
          ]
        },
        {
          "output_type": "display_data",
          "data": {
            "text/plain": [
              "<Figure size 1200x500 with 1 Axes>"
            ],
            "image/png": "[encoded data removed]"
          },
          "metadata": {}
        }
      ]
    },
    {
      "cell_type": "code",
      "source": [
        "def forecast_accuracy(forecast, actual):\n",
        "    mape = np.mean(np.abs(forecast - actual)/np.abs(actual))  # MAPE\n",
        "    me = np.mean(forecast - actual)             # ME\n",
        "    mae = np.mean(np.abs(forecast - actual))    # MAE\n",
        "    mpe = np.mean((forecast - actual)/actual)   # MPE\n",
        "    rmse = np.mean((forecast - actual)**2)**.5  # RMSE\n",
        "    corr = np.corrcoef(forecast, actual)[0,1]   # corr\n",
        "    mins = np.amin(np.hstack([forecast[:,None], \n",
        "                              actual[:,None]]), axis=1)\n",
        "    maxs = np.amax(np.hstack([forecast[:,None], \n",
        "                              actual[:,None]]), axis=1)\n",
        "    minmax = 1 - np.mean(mins/maxs)             # minmax\n",
        "    return({'mape':mape, 'me':me, 'mae': mae, \n",
        "            'mpe': mpe, 'rmse':rmse, \n",
        "            'corr':corr, 'minmax':minmax})\n",
        "\n",
        "forecast_accuracy(fc, test.Close)"
      ],
      "metadata": {
        "colab": {
          "base_uri": "https://localhost:8080/"
        },
        "id": "yCqi1rf0alLx",
        "outputId": "c689e872-6bc7-44b7-8a73-8850cfd34228"
      },
      "execution_count": 34,
      "outputs": [
        {
          "output_type": "stream",
          "name": "stderr",
          "text": [
            "<ipython-input-34-d5866cac8356>:8: FutureWarning: Support for multi-dimensional indexing (e.g. `obj[:, None]`) is deprecated and will be removed in a future version.  Convert to a numpy array before indexing instead.\n",
            "  mins = np.amin(np.hstack([forecast[:,None],\n",
            "<ipython-input-34-d5866cac8356>:9: FutureWarning: Support for multi-dimensional indexing (e.g. `obj[:, None]`) is deprecated and will be removed in a future version.  Convert to a numpy array before indexing instead.\n",
            "  actual[:,None]]), axis=1)\n",
            "<ipython-input-34-d5866cac8356>:10: FutureWarning: Support for multi-dimensional indexing (e.g. `obj[:, None]`) is deprecated and will be removed in a future version.  Convert to a numpy array before indexing instead.\n",
            "  maxs = np.amax(np.hstack([forecast[:,None],\n",
            "<ipython-input-34-d5866cac8356>:11: FutureWarning: Support for multi-dimensional indexing (e.g. `obj[:, None]`) is deprecated and will be removed in a future version.  Convert to a numpy array before indexing instead.\n",
            "  actual[:,None]]), axis=1)\n"
          ]
        },
        {
          "output_type": "execute_result",
          "data": {
            "text/plain": [
              "{'mape': 0.3595276096743347,\n",
              " 'me': 6820.357141125019,\n",
              " 'mae': 6974.420542199389,\n",
              " 'mpe': 0.3542905078026383,\n",
              " 'rmse': 7669.819646665085,\n",
              " 'corr': 0.1773965763225625,\n",
              " 'minmax': 0.24805498439383367}"
            ]
          },
          "metadata": {},
          "execution_count": 34
        }
      ]
    },
    {
      "cell_type": "code",
      "source": [],
      "metadata": {
        "id": "-IwzCiwBGleR"
      },
      "execution_count": 19,
      "outputs": []
    }
  ]
}