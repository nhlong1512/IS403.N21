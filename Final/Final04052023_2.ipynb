{
  "nbformat": 4,
  "nbformat_minor": 0,
  "metadata": {
    "colab": {
      "provenance": [],
      "authorship_tag": "ABX9TyPlow51Hs2PPzDFwDGB2cwx",
      "include_colab_link": true
    },
    "kernelspec": {
      "name": "python3",
      "display_name": "Python 3"
    },
    "language_info": {
      "name": "python"
    }
  },
  "cells": [
    {
      "cell_type": "markdown",
      "metadata": {
        "id": "view-in-github",
        "colab_type": "text"
      },
      "source": [
        "<a href=\"https://colab.research.google.com/github/nhlong1512/IS403.N21/blob/main/Final/Final04052023_2.ipynb\" target=\"_parent\"><img src=\"https://colab.research.google.com/assets/colab-badge.svg\" alt=\"Open In Colab\"/></a>"
      ]
    },
    {
      "cell_type": "code",
      "execution_count": 1,
      "metadata": {
        "id": "GNgr2FeN9l1r"
      },
      "outputs": [],
      "source": [
        "import numpy as np # linear algebra\n",
        "import pandas as pd # data processing, CSV file I/O (e.g. pd.read_csv)"
      ]
    },
    {
      "cell_type": "code",
      "source": [
        "path = 'BTC-USD.csv'\n",
        "\n",
        "df = pd.read_csv(path)\n",
        "\n",
        "df.head()"
      ],
      "metadata": {
        "colab": {
          "base_uri": "https://localhost:8080/",
          "height": 206
        },
        "id": "IweBIY_A9qbw",
        "outputId": "5b6a079f-a7e2-46f7-fe9b-8ab47f5bc5b5"
      },
      "execution_count": 2,
      "outputs": [
        {
          "output_type": "execute_result",
          "data": {
            "text/plain": [
              "       Date         Open         High          Low        Close    Adj Close  \\\n",
              "0  1/1/2019  3746.713379  3850.913818  3707.231201  3843.520020  3843.520020   \n",
              "1  1/2/2019  3849.216309  3947.981201  3817.409424  3943.409424  3943.409424   \n",
              "2  1/3/2019  3931.048584  3935.685059  3826.222900  3836.741211  3836.741211   \n",
              "3  1/4/2019  3832.040039  3865.934570  3783.853760  3857.717529  3857.717529   \n",
              "4  1/5/2019  3851.973877  3904.903076  3836.900146  3845.194580  3845.194580   \n",
              "\n",
              "         Volume  \n",
              "0  4.324201e+09  \n",
              "1  5.244857e+09  \n",
              "2  4.530215e+09  \n",
              "3  4.847965e+09  \n",
              "4  5.137610e+09  "
            ],
            "text/html": [
              "\n",
              "  <div id=\"df-08baa170-46c4-4741-bba5-951903f184b9\">\n",
              "    <div class=\"colab-df-container\">\n",
              "      <div>\n",
              "<style scoped>\n",
              "    .dataframe tbody tr th:only-of-type {\n",
              "        vertical-align: middle;\n",
              "    }\n",
              "\n",
              "    .dataframe tbody tr th {\n",
              "        vertical-align: top;\n",
              "    }\n",
              "\n",
              "    .dataframe thead th {\n",
              "        text-align: right;\n",
              "    }\n",
              "</style>\n",
              "<table border=\"1\" class=\"dataframe\">\n",
              "  <thead>\n",
              "    <tr style=\"text-align: right;\">\n",
              "      <th></th>\n",
              "      <th>Date</th>\n",
              "      <th>Open</th>\n",
              "      <th>High</th>\n",
              "      <th>Low</th>\n",
              "      <th>Close</th>\n",
              "      <th>Adj Close</th>\n",
              "      <th>Volume</th>\n",
              "    </tr>\n",
              "  </thead>\n",
              "  <tbody>\n",
              "    <tr>\n",
              "      <th>0</th>\n",
              "      <td>1/1/2019</td>\n",
              "      <td>3746.713379</td>\n",
              "      <td>3850.913818</td>\n",
              "      <td>3707.231201</td>\n",
              "      <td>3843.520020</td>\n",
              "      <td>3843.520020</td>\n",
              "      <td>4.324201e+09</td>\n",
              "    </tr>\n",
              "    <tr>\n",
              "      <th>1</th>\n",
              "      <td>1/2/2019</td>\n",
              "      <td>3849.216309</td>\n",
              "      <td>3947.981201</td>\n",
              "      <td>3817.409424</td>\n",
              "      <td>3943.409424</td>\n",
              "      <td>3943.409424</td>\n",
              "      <td>5.244857e+09</td>\n",
              "    </tr>\n",
              "    <tr>\n",
              "      <th>2</th>\n",
              "      <td>1/3/2019</td>\n",
              "      <td>3931.048584</td>\n",
              "      <td>3935.685059</td>\n",
              "      <td>3826.222900</td>\n",
              "      <td>3836.741211</td>\n",
              "      <td>3836.741211</td>\n",
              "      <td>4.530215e+09</td>\n",
              "    </tr>\n",
              "    <tr>\n",
              "      <th>3</th>\n",
              "      <td>1/4/2019</td>\n",
              "      <td>3832.040039</td>\n",
              "      <td>3865.934570</td>\n",
              "      <td>3783.853760</td>\n",
              "      <td>3857.717529</td>\n",
              "      <td>3857.717529</td>\n",
              "      <td>4.847965e+09</td>\n",
              "    </tr>\n",
              "    <tr>\n",
              "      <th>4</th>\n",
              "      <td>1/5/2019</td>\n",
              "      <td>3851.973877</td>\n",
              "      <td>3904.903076</td>\n",
              "      <td>3836.900146</td>\n",
              "      <td>3845.194580</td>\n",
              "      <td>3845.194580</td>\n",
              "      <td>5.137610e+09</td>\n",
              "    </tr>\n",
              "  </tbody>\n",
              "</table>\n",
              "</div>\n",
              "      <button class=\"colab-df-convert\" onclick=\"convertToInteractive('df-08baa170-46c4-4741-bba5-951903f184b9')\"\n",
              "              title=\"Convert this dataframe to an interactive table.\"\n",
              "              style=\"display:none;\">\n",
              "        \n",
              "  <svg xmlns=\"http://www.w3.org/2000/svg\" height=\"24px\"viewBox=\"0 0 24 24\"\n",
              "       width=\"24px\">\n",
              "    <path d=\"M0 0h24v24H0V0z\" fill=\"none\"/>\n",
              "    <path d=\"M18.56 5.44l.94 2.06.94-2.06 2.06-.94-2.06-.94-.94-2.06-.94 2.06-2.06.94zm-11 1L8.5 8.5l.94-2.06 2.06-.94-2.06-.94L8.5 2.5l-.94 2.06-2.06.94zm10 10l.94 2.06.94-2.06 2.06-.94-2.06-.94-.94-2.06-.94 2.06-2.06.94z\"/><path d=\"M17.41 7.96l-1.37-1.37c-.4-.4-.92-.59-1.43-.59-.52 0-1.04.2-1.43.59L10.3 9.45l-7.72 7.72c-.78.78-.78 2.05 0 2.83L4 21.41c.39.39.9.59 1.41.59.51 0 1.02-.2 1.41-.59l7.78-7.78 2.81-2.81c.8-.78.8-2.07 0-2.86zM5.41 20L4 18.59l7.72-7.72 1.47 1.35L5.41 20z\"/>\n",
              "  </svg>\n",
              "      </button>\n",
              "      \n",
              "  <style>\n",
              "    .colab-df-container {\n",
              "      display:flex;\n",
              "      flex-wrap:wrap;\n",
              "      gap: 12px;\n",
              "    }\n",
              "\n",
              "    .colab-df-convert {\n",
              "      background-color: #E8F0FE;\n",
              "      border: none;\n",
              "      border-radius: 50%;\n",
              "      cursor: pointer;\n",
              "      display: none;\n",
              "      fill: #1967D2;\n",
              "      height: 32px;\n",
              "      padding: 0 0 0 0;\n",
              "      width: 32px;\n",
              "    }\n",
              "\n",
              "    .colab-df-convert:hover {\n",
              "      background-color: #E2EBFA;\n",
              "      box-shadow: 0px 1px 2px rgba(60, 64, 67, 0.3), 0px 1px 3px 1px rgba(60, 64, 67, 0.15);\n",
              "      fill: #174EA6;\n",
              "    }\n",
              "\n",
              "    [theme=dark] .colab-df-convert {\n",
              "      background-color: #3B4455;\n",
              "      fill: #D2E3FC;\n",
              "    }\n",
              "\n",
              "    [theme=dark] .colab-df-convert:hover {\n",
              "      background-color: #434B5C;\n",
              "      box-shadow: 0px 1px 3px 1px rgba(0, 0, 0, 0.15);\n",
              "      filter: drop-shadow(0px 1px 2px rgba(0, 0, 0, 0.3));\n",
              "      fill: #FFFFFF;\n",
              "    }\n",
              "  </style>\n",
              "\n",
              "      <script>\n",
              "        const buttonEl =\n",
              "          document.querySelector('#df-08baa170-46c4-4741-bba5-951903f184b9 button.colab-df-convert');\n",
              "        buttonEl.style.display =\n",
              "          google.colab.kernel.accessAllowed ? 'block' : 'none';\n",
              "\n",
              "        async function convertToInteractive(key) {\n",
              "          const element = document.querySelector('#df-08baa170-46c4-4741-bba5-951903f184b9');\n",
              "          const dataTable =\n",
              "            await google.colab.kernel.invokeFunction('convertToInteractive',\n",
              "                                                     [key], {});\n",
              "          if (!dataTable) return;\n",
              "\n",
              "          const docLinkHtml = 'Like what you see? Visit the ' +\n",
              "            '<a target=\"_blank\" href=https://colab.research.google.com/notebooks/data_table.ipynb>data table notebook</a>'\n",
              "            + ' to learn more about interactive tables.';\n",
              "          element.innerHTML = '';\n",
              "          dataTable['output_type'] = 'display_data';\n",
              "          await google.colab.output.renderOutput(dataTable, element);\n",
              "          const docLink = document.createElement('div');\n",
              "          docLink.innerHTML = docLinkHtml;\n",
              "          element.appendChild(docLink);\n",
              "        }\n",
              "      </script>\n",
              "    </div>\n",
              "  </div>\n",
              "  "
            ]
          },
          "metadata": {},
          "execution_count": 2
        }
      ]
    },
    {
      "cell_type": "code",
      "source": [
        "!pip install pmdarima"
      ],
      "metadata": {
        "colab": {
          "base_uri": "https://localhost:8080/"
        },
        "id": "n_WrMJhN9y6y",
        "outputId": "0cf654e9-a417-4834-86b8-96b9a18a4dfd"
      },
      "execution_count": 3,
      "outputs": [
        {
          "output_type": "stream",
          "name": "stdout",
          "text": [
            "Looking in indexes: https://pypi.org/simple, https://us-python.pkg.dev/colab-wheels/public/simple/\n",
            "Collecting pmdarima\n",
            "  Downloading pmdarima-2.0.3-cp310-cp310-manylinux_2_17_x86_64.manylinux2014_x86_64.manylinux_2_28_x86_64.whl (1.8 MB)\n",
            "\u001b[2K     \u001b[90m━━━━━━━━━━━━━━━━━━━━━━━━━━━━━━━━━━━━━━━━\u001b[0m \u001b[32m1.8/1.8 MB\u001b[0m \u001b[31m21.9 MB/s\u001b[0m eta \u001b[36m0:00:00\u001b[0m\n",
            "\u001b[?25hRequirement already satisfied: scipy>=1.3.2 in /usr/local/lib/python3.10/dist-packages (from pmdarima) (1.10.1)\n",
            "Requirement already satisfied: Cython!=0.29.18,!=0.29.31,>=0.29 in /usr/local/lib/python3.10/dist-packages (from pmdarima) (0.29.34)\n",
            "Requirement already satisfied: joblib>=0.11 in /usr/local/lib/python3.10/dist-packages (from pmdarima) (1.2.0)\n",
            "Requirement already satisfied: pandas>=0.19 in /usr/local/lib/python3.10/dist-packages (from pmdarima) (1.5.3)\n",
            "Requirement already satisfied: statsmodels>=0.13.2 in /usr/local/lib/python3.10/dist-packages (from pmdarima) (0.13.5)\n",
            "Requirement already satisfied: urllib3 in /usr/local/lib/python3.10/dist-packages (from pmdarima) (1.26.15)\n",
            "Requirement already satisfied: numpy>=1.21.2 in /usr/local/lib/python3.10/dist-packages (from pmdarima) (1.22.4)\n",
            "Requirement already satisfied: setuptools!=50.0.0,>=38.6.0 in /usr/local/lib/python3.10/dist-packages (from pmdarima) (67.7.2)\n",
            "Requirement already satisfied: scikit-learn>=0.22 in /usr/local/lib/python3.10/dist-packages (from pmdarima) (1.2.2)\n",
            "Requirement already satisfied: pytz>=2020.1 in /usr/local/lib/python3.10/dist-packages (from pandas>=0.19->pmdarima) (2022.7.1)\n",
            "Requirement already satisfied: python-dateutil>=2.8.1 in /usr/local/lib/python3.10/dist-packages (from pandas>=0.19->pmdarima) (2.8.2)\n",
            "Requirement already satisfied: threadpoolctl>=2.0.0 in /usr/local/lib/python3.10/dist-packages (from scikit-learn>=0.22->pmdarima) (3.1.0)\n",
            "Requirement already satisfied: patsy>=0.5.2 in /usr/local/lib/python3.10/dist-packages (from statsmodels>=0.13.2->pmdarima) (0.5.3)\n",
            "Requirement already satisfied: packaging>=21.3 in /usr/local/lib/python3.10/dist-packages (from statsmodels>=0.13.2->pmdarima) (23.1)\n",
            "Requirement already satisfied: six in /usr/local/lib/python3.10/dist-packages (from patsy>=0.5.2->statsmodels>=0.13.2->pmdarima) (1.16.0)\n",
            "Installing collected packages: pmdarima\n",
            "Successfully installed pmdarima-2.0.3\n"
          ]
        }
      ]
    },
    {
      "cell_type": "code",
      "source": [
        "from statsmodels.tsa.arima_model import ARIMA\n",
        "\n",
        "import pmdarima as pm\n",
        "model = pm.auto_arima(df.Close, start_p=0, \n",
        "                      start_q=0,max_p=5, max_q=5, \n",
        "                      m=12,start_P=0, seasonal=False,\n",
        "                      d=0, D=0, trace=True,error_action='ignore',\n",
        "                      suppress_warnings=True, stepwise=True)\n",
        "\n",
        "print(model.aic())"
      ],
      "metadata": {
        "colab": {
          "base_uri": "https://localhost:8080/"
        },
        "id": "HHaKYw-c98bz",
        "outputId": "e52bbef3-192a-43e2-93a9-f5fd324cc1fc"
      },
      "execution_count": 4,
      "outputs": [
        {
          "output_type": "stream",
          "name": "stderr",
          "text": [
            "/usr/local/lib/python3.10/dist-packages/pmdarima/arima/_validation.py:62: UserWarning: m (12) set for non-seasonal fit. Setting to 0\n",
            "  warnings.warn(\"m (%i) set for non-seasonal fit. Setting to 0\" % m)\n"
          ]
        },
        {
          "output_type": "stream",
          "name": "stdout",
          "text": [
            "Performing stepwise search to minimize aic\n",
            " ARIMA(0,0,0)(0,0,0)[0]             : AIC=36279.536, Time=0.11 sec\n",
            " ARIMA(1,0,0)(0,0,0)[0]             : AIC=inf, Time=0.05 sec\n",
            " ARIMA(0,0,1)(0,0,0)[0]             : AIC=34218.160, Time=0.77 sec\n",
            " ARIMA(1,0,1)(0,0,0)[0]             : AIC=26107.157, Time=0.10 sec\n",
            " ARIMA(2,0,1)(0,0,0)[0]             : AIC=26108.642, Time=0.26 sec\n",
            " ARIMA(1,0,2)(0,0,0)[0]             : AIC=26109.006, Time=0.12 sec\n",
            " ARIMA(0,0,2)(0,0,0)[0]             : AIC=inf, Time=2.18 sec\n",
            " ARIMA(2,0,0)(0,0,0)[0]             : AIC=inf, Time=0.08 sec\n",
            " ARIMA(2,0,2)(0,0,0)[0]             : AIC=26110.589, Time=0.62 sec\n",
            " ARIMA(1,0,1)(0,0,0)[0] intercept   : AIC=26107.301, Time=0.51 sec\n",
            "\n",
            "Best model:  ARIMA(1,0,1)(0,0,0)[0]          \n",
            "Total fit time: 4.808 seconds\n",
            "26107.156666437244\n"
          ]
        }
      ]
    },
    {
      "cell_type": "markdown",
      "source": [
        "Vậy ARIMA(1,0,1) là phù hợp nhất\n"
      ],
      "metadata": {
        "id": "OzoZFsEa-DhB"
      }
    },
    {
      "cell_type": "markdown",
      "source": [
        "**<h3>Xây dựng mô hình ARIMA</h3>**"
      ],
      "metadata": {
        "id": "Qvkk26uO-P8y"
      }
    },
    {
      "cell_type": "code",
      "source": [
        "from statsmodels.tsa.arima.model import ARIMA\n",
        "\n",
        "# 1,0,1 ARIMA Model\n",
        "model = ARIMA(df.Close, order=(1,0,1))\n",
        "model_fit = model.fit()\n",
        "print(model_fit.summary())"
      ],
      "metadata": {
        "colab": {
          "base_uri": "https://localhost:8080/"
        },
        "id": "K2q7CYWQ9_wF",
        "outputId": "c0aa34ed-4f2e-4845-f95d-160d131c6d48"
      },
      "execution_count": 5,
      "outputs": [
        {
          "output_type": "stream",
          "name": "stdout",
          "text": [
            "                               SARIMAX Results                                \n",
            "==============================================================================\n",
            "Dep. Variable:                  Close   No. Observations:                 1551\n",
            "Model:                 ARIMA(1, 0, 1)   Log Likelihood              -13049.426\n",
            "Date:                Thu, 04 May 2023   AIC                          26106.853\n",
            "Time:                        13:56:13   BIC                          26128.239\n",
            "Sample:                             0   HQIC                         26114.807\n",
            "                               - 1551                                         \n",
            "Covariance Type:                  opg                                         \n",
            "==============================================================================\n",
            "                 coef    std err          z      P>|z|      [0.025      0.975]\n",
            "------------------------------------------------------------------------------\n",
            "const       2.349e+04   9727.840      2.415      0.016    4424.076    4.26e+04\n",
            "ar.L1          0.9977      0.001    759.636      0.000       0.995       1.000\n",
            "ma.L1         -0.0278      0.018     -1.534      0.125      -0.063       0.008\n",
            "sigma2      1.187e+06   1.93e+04     61.511      0.000    1.15e+06    1.23e+06\n",
            "===================================================================================\n",
            "Ljung-Box (L1) (Q):                   0.00   Jarque-Bera (JB):              4016.46\n",
            "Prob(Q):                              0.97   Prob(JB):                         0.00\n",
            "Heteroskedasticity (H):              10.11   Skew:                            -0.09\n",
            "Prob(H) (two-sided):                  0.00   Kurtosis:                        10.88\n",
            "===================================================================================\n",
            "\n",
            "Warnings:\n",
            "[1] Covariance matrix calculated using the outer product of gradients (complex-step).\n"
          ]
        }
      ]
    },
    {
      "cell_type": "markdown",
      "source": [
        "**<h3>Dự báo</h3>**"
      ],
      "metadata": {
        "id": "gCs66nqPEhN8"
      }
    },
    {
      "cell_type": "markdown",
      "source": [
        "**<h3>Dự đoán trên bộ dữ liệu với Train-Test là 7-3</h3>**"
      ],
      "metadata": {
        "id": "lb2HORs-bGEg"
      }
    },
    {
      "cell_type": "code",
      "source": [
        "from sklearn.model_selection import train_test_split\n",
        "from statsmodels.tsa.stattools import acf\n",
        "\n",
        "# Chia dữ liệu train-test theo tỷ lệ 7-3\n",
        "train, test = train_test_split(df, test_size=0.3, shuffle=False)\n",
        "\n",
        "# Hiển thị kích thước của tập train và tập test\n",
        "print(len(train))\n",
        "print(len(test))\n",
        "# train = df.Close[:len(train)]\n",
        "# test = df.Close[len(train):]"
      ],
      "metadata": {
        "colab": {
          "base_uri": "https://localhost:8080/"
        },
        "id": "ZWfx3B-C-Xvw",
        "outputId": "3b543b2e-c056-4df2-aee0-c0d1b6161c79"
      },
      "execution_count": 70,
      "outputs": [
        {
          "output_type": "stream",
          "name": "stdout",
          "text": [
            "1085\n",
            "466\n"
          ]
        }
      ]
    },
    {
      "cell_type": "code",
      "source": [
        "print(test.iloc[0],test.iloc[-1])"
      ],
      "metadata": {
        "colab": {
          "base_uri": "https://localhost:8080/"
        },
        "id": "LNufvjfxWvfO",
        "outputId": "e11aa53d-b9a4-45e9-a0e8-08c4d9566370"
      },
      "execution_count": 71,
      "outputs": [
        {
          "output_type": "stream",
          "name": "stdout",
          "text": [
            "Date            12/21/2021\n",
            "Open           46886.07813\n",
            "High           49300.91797\n",
            "Low            46698.77344\n",
            "Close          48936.61328\n",
            "Adj Close      48936.61328\n",
            "Volume       27055803928.0\n",
            "forecast      46819.505645\n",
            "Name: 1085, dtype: object Date             3/31/2023\n",
            "Open           28032.26172\n",
            "High           28639.89648\n",
            "Low            27583.71484\n",
            "Close          28478.48438\n",
            "Adj Close      28478.48438\n",
            "Volume       19001327598.0\n",
            "forecast      31373.046918\n",
            "Name: 1550, dtype: object\n"
          ]
        }
      ]
    },
    {
      "cell_type": "code",
      "source": [
        "from statsmodels.tsa.arima.model import ARIMA\n",
        "import statsmodels.api as smapi\n",
        "model=ARIMA(train['Close'],order=(1,0,1))\n",
        "model=model.fit()\n",
        "model.summary()"
      ],
      "metadata": {
        "colab": {
          "base_uri": "https://localhost:8080/",
          "height": 444
        },
        "id": "XKIYtxqGW2d5",
        "outputId": "6182468e-b6d8-436c-fdbb-71675940f794"
      },
      "execution_count": 72,
      "outputs": [
        {
          "output_type": "execute_result",
          "data": {
            "text/plain": [
              "<class 'statsmodels.iolib.summary.Summary'>\n",
              "\"\"\"\n",
              "                               SARIMAX Results                                \n",
              "==============================================================================\n",
              "Dep. Variable:                  Close   No. Observations:                 1085\n",
              "Model:                 ARIMA(1, 0, 1)   Log Likelihood               -9175.915\n",
              "Date:                Thu, 04 May 2023   AIC                          18359.831\n",
              "Time:                        16:42:10   BIC                          18379.788\n",
              "Sample:                             0   HQIC                         18367.386\n",
              "                               - 1085                                         \n",
              "Covariance Type:                  opg                                         \n",
              "==============================================================================\n",
              "                 coef    std err          z      P>|z|      [0.025      0.975]\n",
              "------------------------------------------------------------------------------\n",
              "const        2.17e+04   2.79e+04      0.777      0.437   -3.31e+04    7.65e+04\n",
              "ar.L1          0.9988      0.002    564.777      0.000       0.995       1.002\n",
              "ma.L1         -0.0431      0.021     -2.028      0.043      -0.085      -0.001\n",
              "sigma2      1.295e+06   2.49e+04     51.985      0.000    1.25e+06    1.34e+06\n",
              "===================================================================================\n",
              "Ljung-Box (L1) (Q):                   0.00   Jarque-Bera (JB):              3083.67\n",
              "Prob(Q):                              0.97   Prob(JB):                         0.00\n",
              "Heteroskedasticity (H):              35.32   Skew:                            -0.18\n",
              "Prob(H) (two-sided):                  0.00   Kurtosis:                        11.25\n",
              "===================================================================================\n",
              "\n",
              "Warnings:\n",
              "[1] Covariance matrix calculated using the outer product of gradients (complex-step).\n",
              "\"\"\""
            ],
            "text/html": [
              "<table class=\"simpletable\">\n",
              "<caption>SARIMAX Results</caption>\n",
              "<tr>\n",
              "  <th>Dep. Variable:</th>         <td>Close</td>      <th>  No. Observations:  </th>   <td>1085</td>   \n",
              "</tr>\n",
              "<tr>\n",
              "  <th>Model:</th>            <td>ARIMA(1, 0, 1)</td>  <th>  Log Likelihood     </th> <td>-9175.915</td>\n",
              "</tr>\n",
              "<tr>\n",
              "  <th>Date:</th>            <td>Thu, 04 May 2023</td> <th>  AIC                </th> <td>18359.831</td>\n",
              "</tr>\n",
              "<tr>\n",
              "  <th>Time:</th>                <td>16:42:10</td>     <th>  BIC                </th> <td>18379.788</td>\n",
              "</tr>\n",
              "<tr>\n",
              "  <th>Sample:</th>                  <td>0</td>        <th>  HQIC               </th> <td>18367.386</td>\n",
              "</tr>\n",
              "<tr>\n",
              "  <th></th>                      <td> - 1085</td>     <th>                     </th>     <td> </td>    \n",
              "</tr>\n",
              "<tr>\n",
              "  <th>Covariance Type:</th>        <td>opg</td>       <th>                     </th>     <td> </td>    \n",
              "</tr>\n",
              "</table>\n",
              "<table class=\"simpletable\">\n",
              "<tr>\n",
              "     <td></td>       <th>coef</th>     <th>std err</th>      <th>z</th>      <th>P>|z|</th>  <th>[0.025</th>    <th>0.975]</th>  \n",
              "</tr>\n",
              "<tr>\n",
              "  <th>const</th>  <td>  2.17e+04</td> <td> 2.79e+04</td> <td>    0.777</td> <td> 0.437</td> <td>-3.31e+04</td> <td> 7.65e+04</td>\n",
              "</tr>\n",
              "<tr>\n",
              "  <th>ar.L1</th>  <td>    0.9988</td> <td>    0.002</td> <td>  564.777</td> <td> 0.000</td> <td>    0.995</td> <td>    1.002</td>\n",
              "</tr>\n",
              "<tr>\n",
              "  <th>ma.L1</th>  <td>   -0.0431</td> <td>    0.021</td> <td>   -2.028</td> <td> 0.043</td> <td>   -0.085</td> <td>   -0.001</td>\n",
              "</tr>\n",
              "<tr>\n",
              "  <th>sigma2</th> <td> 1.295e+06</td> <td> 2.49e+04</td> <td>   51.985</td> <td> 0.000</td> <td> 1.25e+06</td> <td> 1.34e+06</td>\n",
              "</tr>\n",
              "</table>\n",
              "<table class=\"simpletable\">\n",
              "<tr>\n",
              "  <th>Ljung-Box (L1) (Q):</th>     <td>0.00</td>  <th>  Jarque-Bera (JB):  </th> <td>3083.67</td>\n",
              "</tr>\n",
              "<tr>\n",
              "  <th>Prob(Q):</th>                <td>0.97</td>  <th>  Prob(JB):          </th>  <td>0.00</td>  \n",
              "</tr>\n",
              "<tr>\n",
              "  <th>Heteroskedasticity (H):</th> <td>35.32</td> <th>  Skew:              </th>  <td>-0.18</td> \n",
              "</tr>\n",
              "<tr>\n",
              "  <th>Prob(H) (two-sided):</th>    <td>0.00</td>  <th>  Kurtosis:          </th>  <td>11.25</td> \n",
              "</tr>\n",
              "</table><br/><br/>Warnings:<br/>[1] Covariance matrix calculated using the outer product of gradients (complex-step)."
            ]
          },
          "metadata": {},
          "execution_count": 72
        }
      ]
    },
    {
      "cell_type": "code",
      "source": [
        "import pandas as pd\n",
        "import numpy as np\n",
        "import matplotlib.pyplot as plt\n",
        "from statsmodels.tsa.arima.model import ARIMA\n",
        "from sklearn.metrics import mean_squared_error\n",
        "\n",
        "\n",
        "# Split data into train and test sets\n",
        "train_data, test_data = train_test_split(df[['Date','Close']], test_size=0.3, shuffle=False)\n",
        "\n",
        "# Train the ARIMA model\n",
        "model = ARIMA(train_data.Close, order=(1,0,1))\n",
        "fitted = model.fit()\n",
        "\n",
        "# Forecast\n",
        "print(fitted.forecast(15, alpha=0.05))  # 95% conf\n",
        "fc = fitted.forecast(len(test_data))\n",
        "conf = fitted.conf_int(alpha=0.05)\n",
        "\n",
        "# Calculate mean squared error\n",
        "mse = mean_squared_error(test_data.Close, fc)\n",
        "print('Mean Squared Error:', mse)\n",
        "\n",
        "# Make as pandas series\n",
        "fc_series = pd.Series(fc, index=test_data.Close)\n",
        "lower_series = pd.Series(df.iloc[:, 0], index=test_data.Close)\n",
        "upper_series = pd.Series(df.iloc[:, 1], index=test_data.Close)\n",
        "\n",
        "# Plot\n",
        "plt.figure(figsize=(12,5), dpi=100)\n",
        "plt.plot(train_data['Date'],train_data['Close'], label='training')\n",
        "plt.plot(test_data['Date'],test_data['Close'], label='actual')\n",
        "plt.plot(fc_series, label='forecast')\n",
        "plt.fill_between(lower_series.Close, lower_series, upper_series, color='k', alpha=.15)\n",
        "plt.title('Forecast vs Actuals')\n",
        "plt.legend(loc='upper left', fontsize=8)\n",
        "plt.show()"
      ],
      "metadata": {
        "colab": {
          "base_uri": "https://localhost:8080/",
          "height": 1000
        },
        "id": "ZWsV-4y4byBz",
        "outputId": "0a11a129-6155-4c85-88f1-47204d8bfec1"
      },
      "execution_count": 105,
      "outputs": [
        {
          "output_type": "stream",
          "name": "stdout",
          "text": [
            "1085    46840.564394\n",
            "1086    46809.536077\n",
            "1087    46778.546053\n",
            "1088    46747.594276\n",
            "1089    46716.680698\n",
            "1090    46685.805273\n",
            "1091    46654.967953\n",
            "1092    46624.168691\n",
            "1093    46593.407440\n",
            "1094    46562.684154\n",
            "1095    46531.998785\n",
            "1096    46501.351287\n",
            "1097    46470.741612\n",
            "1098    46440.169715\n",
            "1099    46409.635549\n",
            "Name: predicted_mean, dtype: float64\n",
            "Mean Squared Error: 229937041.15856016\n"
          ]
        },
        {
          "output_type": "error",
          "ename": "AttributeError",
          "evalue": "ignored",
          "traceback": [
            "\u001b[0;31m---------------------------------------------------------------------------\u001b[0m",
            "\u001b[0;31mAttributeError\u001b[0m                            Traceback (most recent call last)",
            "\u001b[0;32m<ipython-input-105-548bcb1a18e7>\u001b[0m in \u001b[0;36m<cell line: 34>\u001b[0;34m()\u001b[0m\n\u001b[1;32m     32\u001b[0m \u001b[0mplt\u001b[0m\u001b[0;34m.\u001b[0m\u001b[0mplot\u001b[0m\u001b[0;34m(\u001b[0m\u001b[0mtest_data\u001b[0m\u001b[0;34m[\u001b[0m\u001b[0;34m'Date'\u001b[0m\u001b[0;34m]\u001b[0m\u001b[0;34m,\u001b[0m\u001b[0mtest_data\u001b[0m\u001b[0;34m[\u001b[0m\u001b[0;34m'Close'\u001b[0m\u001b[0;34m]\u001b[0m\u001b[0;34m,\u001b[0m \u001b[0mlabel\u001b[0m\u001b[0;34m=\u001b[0m\u001b[0;34m'actual'\u001b[0m\u001b[0;34m)\u001b[0m\u001b[0;34m\u001b[0m\u001b[0;34m\u001b[0m\u001b[0m\n\u001b[1;32m     33\u001b[0m \u001b[0mplt\u001b[0m\u001b[0;34m.\u001b[0m\u001b[0mplot\u001b[0m\u001b[0;34m(\u001b[0m\u001b[0mfc_series\u001b[0m\u001b[0;34m,\u001b[0m \u001b[0mlabel\u001b[0m\u001b[0;34m=\u001b[0m\u001b[0;34m'forecast'\u001b[0m\u001b[0;34m)\u001b[0m\u001b[0;34m\u001b[0m\u001b[0;34m\u001b[0m\u001b[0m\n\u001b[0;32m---> 34\u001b[0;31m \u001b[0mplt\u001b[0m\u001b[0;34m.\u001b[0m\u001b[0mfill_between\u001b[0m\u001b[0;34m(\u001b[0m\u001b[0mlower_series\u001b[0m\u001b[0;34m.\u001b[0m\u001b[0mClose\u001b[0m\u001b[0;34m,\u001b[0m \u001b[0mlower_series\u001b[0m\u001b[0;34m,\u001b[0m \u001b[0mupper_series\u001b[0m\u001b[0;34m,\u001b[0m \u001b[0mcolor\u001b[0m\u001b[0;34m=\u001b[0m\u001b[0;34m'k'\u001b[0m\u001b[0;34m,\u001b[0m \u001b[0malpha\u001b[0m\u001b[0;34m=\u001b[0m\u001b[0;36m.15\u001b[0m\u001b[0;34m)\u001b[0m\u001b[0;34m\u001b[0m\u001b[0;34m\u001b[0m\u001b[0m\n\u001b[0m\u001b[1;32m     35\u001b[0m \u001b[0mplt\u001b[0m\u001b[0;34m.\u001b[0m\u001b[0mtitle\u001b[0m\u001b[0;34m(\u001b[0m\u001b[0;34m'Forecast vs Actuals'\u001b[0m\u001b[0;34m)\u001b[0m\u001b[0;34m\u001b[0m\u001b[0;34m\u001b[0m\u001b[0m\n\u001b[1;32m     36\u001b[0m \u001b[0mplt\u001b[0m\u001b[0;34m.\u001b[0m\u001b[0mlegend\u001b[0m\u001b[0;34m(\u001b[0m\u001b[0mloc\u001b[0m\u001b[0;34m=\u001b[0m\u001b[0;34m'upper left'\u001b[0m\u001b[0;34m,\u001b[0m \u001b[0mfontsize\u001b[0m\u001b[0;34m=\u001b[0m\u001b[0;36m8\u001b[0m\u001b[0;34m)\u001b[0m\u001b[0;34m\u001b[0m\u001b[0;34m\u001b[0m\u001b[0m\n",
            "\u001b[0;32m/usr/local/lib/python3.10/dist-packages/pandas/core/generic.py\u001b[0m in \u001b[0;36m__getattr__\u001b[0;34m(self, name)\u001b[0m\n\u001b[1;32m   5900\u001b[0m         ):\n\u001b[1;32m   5901\u001b[0m             \u001b[0;32mreturn\u001b[0m \u001b[0mself\u001b[0m\u001b[0;34m[\u001b[0m\u001b[0mname\u001b[0m\u001b[0;34m]\u001b[0m\u001b[0;34m\u001b[0m\u001b[0;34m\u001b[0m\u001b[0m\n\u001b[0;32m-> 5902\u001b[0;31m         \u001b[0;32mreturn\u001b[0m \u001b[0mobject\u001b[0m\u001b[0;34m.\u001b[0m\u001b[0m__getattribute__\u001b[0m\u001b[0;34m(\u001b[0m\u001b[0mself\u001b[0m\u001b[0;34m,\u001b[0m \u001b[0mname\u001b[0m\u001b[0;34m)\u001b[0m\u001b[0;34m\u001b[0m\u001b[0;34m\u001b[0m\u001b[0m\n\u001b[0m\u001b[1;32m   5903\u001b[0m \u001b[0;34m\u001b[0m\u001b[0m\n\u001b[1;32m   5904\u001b[0m     \u001b[0;32mdef\u001b[0m \u001b[0m__setattr__\u001b[0m\u001b[0;34m(\u001b[0m\u001b[0mself\u001b[0m\u001b[0;34m,\u001b[0m \u001b[0mname\u001b[0m\u001b[0;34m:\u001b[0m \u001b[0mstr\u001b[0m\u001b[0;34m,\u001b[0m \u001b[0mvalue\u001b[0m\u001b[0;34m)\u001b[0m \u001b[0;34m->\u001b[0m \u001b[0;32mNone\u001b[0m\u001b[0;34m:\u001b[0m\u001b[0;34m\u001b[0m\u001b[0;34m\u001b[0m\u001b[0m\n",
            "\u001b[0;31mAttributeError\u001b[0m: 'Series' object has no attribute 'Close'"
          ]
        },
        {
          "output_type": "display_data",
          "data": {
            "text/plain": [
              "<Figure size 1200x500 with 1 Axes>"
            ],
            "image/png": "[encoded data removed]"
          },
          "metadata": {}
        }
      ]
    },
    {
      "cell_type": "code",
      "source": [
        "import pandas as pd\n",
        "import numpy as np\n",
        "import matplotlib.pyplot as plt\n",
        "from statsmodels.tsa.arima.model import ARIMA\n",
        "from sklearn.metrics import mean_squared_error\n",
        "\n",
        "\n",
        "# Split data into train and test sets\n",
        "train_data, test_data = train_test_split(df, test_size=0.3, shuffle=False)\n",
        "print(df)\n",
        "\n",
        "# Train the ARIMA model\n",
        "model = ARIMA(train_data, order=(1,0,1))\n",
        "fitted = model.fit()\n",
        "\n",
        "# Forecast\n",
        "print(fitted.forecast(15, alpha=0.05))  # 95% conf\n",
        "fc = fitted.forecast(len(test_data))\n",
        "conf = fitted.conf_int(alpha=0.05)\n",
        "\n",
        "# Calculate mean squared error\n",
        "mse = mean_squared_error(test_data, fc)\n",
        "print('Mean Squared Error:', mse)\n",
        "\n",
        "# Make as pandas series\n",
        "fc_series = pd.Series(fc, index=test_data.index)\n",
        "lower_series = pd.Series(df.iloc[:, 0], index=test_data.index)\n",
        "upper_series = pd.Series(df.iloc[:, 1], index=test_data.index)\n",
        "\n",
        "# Plot\n",
        "plt.figure(figsize=(12,5), dpi=100)\n",
        "plt.plot(train_data, label='training')\n",
        "plt.plot(test_data, label='actual')\n",
        "plt.plot(fc_series, label='forecast')\n",
        "plt.fill_between(lower_series.index, lower_series, upper_series, color='k', alpha=.15)\n",
        "plt.title('Forecast vs Actuals')\n",
        "plt.legend(loc='upper left', fontsize=8)\n",
        "plt.show()"
      ],
      "metadata": {
        "colab": {
          "base_uri": "https://localhost:8080/",
          "height": 1000
        },
        "id": "1mZO-8v8wQrY",
        "outputId": "dc9f3c24-f765-40ab-acdf-c2f0873793ca"
      },
      "execution_count": 86,
      "outputs": [
        {
          "output_type": "stream",
          "name": "stdout",
          "text": [
            "           Date          Open          High           Low         Close  \\\n",
            "0      1/1/2019   3746.713379   3850.913818   3707.231201   3843.520020   \n",
            "1      1/2/2019   3849.216309   3947.981201   3817.409424   3943.409424   \n",
            "2      1/3/2019   3931.048584   3935.685059   3826.222900   3836.741211   \n",
            "3      1/4/2019   3832.040039   3865.934570   3783.853760   3857.717529   \n",
            "4      1/5/2019   3851.973877   3904.903076   3836.900146   3845.194580   \n",
            "...         ...           ...           ...           ...           ...   \n",
            "1546  3/27/2023  27994.068360  28037.925780  26606.689450  27139.888670   \n",
            "1547  3/28/2023  27132.888670  27460.718750  26677.818360  27268.130860   \n",
            "1548  3/29/2023  27267.031250  28619.542970  27259.662110  28348.441410   \n",
            "1549  3/30/2023  28350.140630  29159.902340  27720.160160  28033.562500   \n",
            "1550  3/31/2023  28032.261720  28639.896480  27583.714840  28478.484380   \n",
            "\n",
            "         Adj Close        Volume      forecast  \n",
            "0      3843.520020  4.324201e+09           NaN  \n",
            "1      3943.409424  5.244857e+09           NaN  \n",
            "2      3836.741211  4.530215e+09           NaN  \n",
            "3      3857.717529  4.847965e+09           NaN  \n",
            "4      3845.194580  5.137610e+09           NaN  \n",
            "...            ...           ...           ...  \n",
            "1546  27139.888670  1.818890e+10  31446.965686  \n",
            "1547  27268.130860  1.778360e+10  31428.421263  \n",
            "1548  28348.441410  2.068495e+10  31409.920061  \n",
            "1549  28033.562500  2.243535e+10  31391.461980  \n",
            "1550  28478.484380  1.900133e+10  31373.046918  \n",
            "\n",
            "[1551 rows x 8 columns]\n"
          ]
        },
        {
          "output_type": "error",
          "ename": "ValueError",
          "evalue": "ignored",
          "traceback": [
            "\u001b[0;31m---------------------------------------------------------------------------\u001b[0m",
            "\u001b[0;31mValueError\u001b[0m                                Traceback (most recent call last)",
            "\u001b[0;32m<ipython-input-86-1ff340924cc0>\u001b[0m in \u001b[0;36m<cell line: 13>\u001b[0;34m()\u001b[0m\n\u001b[1;32m     11\u001b[0m \u001b[0;34m\u001b[0m\u001b[0m\n\u001b[1;32m     12\u001b[0m \u001b[0;31m# Train the ARIMA model\u001b[0m\u001b[0;34m\u001b[0m\u001b[0;34m\u001b[0m\u001b[0m\n\u001b[0;32m---> 13\u001b[0;31m \u001b[0mmodel\u001b[0m \u001b[0;34m=\u001b[0m \u001b[0mARIMA\u001b[0m\u001b[0;34m(\u001b[0m\u001b[0mtrain_data\u001b[0m\u001b[0;34m,\u001b[0m \u001b[0morder\u001b[0m\u001b[0;34m=\u001b[0m\u001b[0;34m(\u001b[0m\u001b[0;36m1\u001b[0m\u001b[0;34m,\u001b[0m\u001b[0;36m0\u001b[0m\u001b[0;34m,\u001b[0m\u001b[0;36m1\u001b[0m\u001b[0;34m)\u001b[0m\u001b[0;34m)\u001b[0m\u001b[0;34m\u001b[0m\u001b[0;34m\u001b[0m\u001b[0m\n\u001b[0m\u001b[1;32m     14\u001b[0m \u001b[0mfitted\u001b[0m \u001b[0;34m=\u001b[0m \u001b[0mmodel\u001b[0m\u001b[0;34m.\u001b[0m\u001b[0mfit\u001b[0m\u001b[0;34m(\u001b[0m\u001b[0;34m)\u001b[0m\u001b[0;34m\u001b[0m\u001b[0;34m\u001b[0m\u001b[0m\n\u001b[1;32m     15\u001b[0m \u001b[0;34m\u001b[0m\u001b[0m\n",
            "\u001b[0;32m/usr/local/lib/python3.10/dist-packages/statsmodels/tsa/arima/model.py\u001b[0m in \u001b[0;36m__init__\u001b[0;34m(self, endog, exog, order, seasonal_order, trend, enforce_stationarity, enforce_invertibility, concentrate_scale, trend_offset, dates, freq, missing, validate_specification)\u001b[0m\n\u001b[1;32m    151\u001b[0m         \u001b[0;31m# this criteria. Instead, we'll just make sure that the parameter\u001b[0m\u001b[0;34m\u001b[0m\u001b[0;34m\u001b[0m\u001b[0m\n\u001b[1;32m    152\u001b[0m         \u001b[0;31m# estimates from those methods satisfy the criteria.)\u001b[0m\u001b[0;34m\u001b[0m\u001b[0;34m\u001b[0m\u001b[0m\n\u001b[0;32m--> 153\u001b[0;31m         self._spec_arima = SARIMAXSpecification(\n\u001b[0m\u001b[1;32m    154\u001b[0m             \u001b[0mendog\u001b[0m\u001b[0;34m,\u001b[0m \u001b[0mexog\u001b[0m\u001b[0;34m=\u001b[0m\u001b[0mexog\u001b[0m\u001b[0;34m,\u001b[0m \u001b[0morder\u001b[0m\u001b[0;34m=\u001b[0m\u001b[0morder\u001b[0m\u001b[0;34m,\u001b[0m \u001b[0mseasonal_order\u001b[0m\u001b[0;34m=\u001b[0m\u001b[0mseasonal_order\u001b[0m\u001b[0;34m,\u001b[0m\u001b[0;34m\u001b[0m\u001b[0;34m\u001b[0m\u001b[0m\n\u001b[1;32m    155\u001b[0m             \u001b[0mtrend\u001b[0m\u001b[0;34m=\u001b[0m\u001b[0mtrend\u001b[0m\u001b[0;34m,\u001b[0m \u001b[0menforce_stationarity\u001b[0m\u001b[0;34m=\u001b[0m\u001b[0;32mNone\u001b[0m\u001b[0;34m,\u001b[0m \u001b[0menforce_invertibility\u001b[0m\u001b[0;34m=\u001b[0m\u001b[0;32mNone\u001b[0m\u001b[0;34m,\u001b[0m\u001b[0;34m\u001b[0m\u001b[0;34m\u001b[0m\u001b[0m\n",
            "\u001b[0;32m/usr/local/lib/python3.10/dist-packages/statsmodels/tsa/arima/specification.py\u001b[0m in \u001b[0;36m__init__\u001b[0;34m(self, endog, exog, order, seasonal_order, ar_order, diff, ma_order, seasonal_ar_order, seasonal_diff, seasonal_ma_order, seasonal_periods, trend, enforce_stationarity, enforce_invertibility, concentrate_scale, trend_offset, dates, freq, missing, validate_specification)\u001b[0m\n\u001b[1;32m    444\u001b[0m         \u001b[0;31m# especially validating shapes, retrieving names, and potentially\u001b[0m\u001b[0;34m\u001b[0m\u001b[0;34m\u001b[0m\u001b[0m\n\u001b[1;32m    445\u001b[0m         \u001b[0;31m# providing us with a time series index\u001b[0m\u001b[0;34m\u001b[0m\u001b[0;34m\u001b[0m\u001b[0m\n\u001b[0;32m--> 446\u001b[0;31m         self._model = TimeSeriesModel(endog, exog=exog, dates=dates, freq=freq,\n\u001b[0m\u001b[1;32m    447\u001b[0m                                       missing=missing)\n\u001b[1;32m    448\u001b[0m         \u001b[0mself\u001b[0m\u001b[0;34m.\u001b[0m\u001b[0mendog\u001b[0m \u001b[0;34m=\u001b[0m \u001b[0;32mNone\u001b[0m \u001b[0;32mif\u001b[0m \u001b[0mfaux_endog\u001b[0m \u001b[0;32melse\u001b[0m \u001b[0mself\u001b[0m\u001b[0;34m.\u001b[0m\u001b[0m_model\u001b[0m\u001b[0;34m.\u001b[0m\u001b[0mendog\u001b[0m\u001b[0;34m\u001b[0m\u001b[0;34m\u001b[0m\u001b[0m\n",
            "\u001b[0;32m/usr/local/lib/python3.10/dist-packages/statsmodels/tsa/base/tsa_model.py\u001b[0m in \u001b[0;36m__init__\u001b[0;34m(self, endog, exog, dates, freq, missing, **kwargs)\u001b[0m\n\u001b[1;32m    466\u001b[0m         \u001b[0mself\u001b[0m\u001b[0;34m,\u001b[0m \u001b[0mendog\u001b[0m\u001b[0;34m,\u001b[0m \u001b[0mexog\u001b[0m\u001b[0;34m=\u001b[0m\u001b[0;32mNone\u001b[0m\u001b[0;34m,\u001b[0m \u001b[0mdates\u001b[0m\u001b[0;34m=\u001b[0m\u001b[0;32mNone\u001b[0m\u001b[0;34m,\u001b[0m \u001b[0mfreq\u001b[0m\u001b[0;34m=\u001b[0m\u001b[0;32mNone\u001b[0m\u001b[0;34m,\u001b[0m \u001b[0mmissing\u001b[0m\u001b[0;34m=\u001b[0m\u001b[0;34m\"none\"\u001b[0m\u001b[0;34m,\u001b[0m \u001b[0;34m**\u001b[0m\u001b[0mkwargs\u001b[0m\u001b[0;34m\u001b[0m\u001b[0;34m\u001b[0m\u001b[0m\n\u001b[1;32m    467\u001b[0m     ):\n\u001b[0;32m--> 468\u001b[0;31m         \u001b[0msuper\u001b[0m\u001b[0;34m(\u001b[0m\u001b[0;34m)\u001b[0m\u001b[0;34m.\u001b[0m\u001b[0m__init__\u001b[0m\u001b[0;34m(\u001b[0m\u001b[0mendog\u001b[0m\u001b[0;34m,\u001b[0m \u001b[0mexog\u001b[0m\u001b[0;34m,\u001b[0m \u001b[0mmissing\u001b[0m\u001b[0;34m=\u001b[0m\u001b[0mmissing\u001b[0m\u001b[0;34m,\u001b[0m \u001b[0;34m**\u001b[0m\u001b[0mkwargs\u001b[0m\u001b[0;34m)\u001b[0m\u001b[0;34m\u001b[0m\u001b[0;34m\u001b[0m\u001b[0m\n\u001b[0m\u001b[1;32m    469\u001b[0m \u001b[0;34m\u001b[0m\u001b[0m\n\u001b[1;32m    470\u001b[0m         \u001b[0;31m# Date handling in indexes\u001b[0m\u001b[0;34m\u001b[0m\u001b[0;34m\u001b[0m\u001b[0m\n",
            "\u001b[0;32m/usr/local/lib/python3.10/dist-packages/statsmodels/base/model.py\u001b[0m in \u001b[0;36m__init__\u001b[0;34m(self, endog, exog, **kwargs)\u001b[0m\n\u001b[1;32m    265\u001b[0m \u001b[0;34m\u001b[0m\u001b[0m\n\u001b[1;32m    266\u001b[0m     \u001b[0;32mdef\u001b[0m \u001b[0m__init__\u001b[0m\u001b[0;34m(\u001b[0m\u001b[0mself\u001b[0m\u001b[0;34m,\u001b[0m \u001b[0mendog\u001b[0m\u001b[0;34m,\u001b[0m \u001b[0mexog\u001b[0m\u001b[0;34m=\u001b[0m\u001b[0;32mNone\u001b[0m\u001b[0;34m,\u001b[0m \u001b[0;34m**\u001b[0m\u001b[0mkwargs\u001b[0m\u001b[0;34m)\u001b[0m\u001b[0;34m:\u001b[0m\u001b[0;34m\u001b[0m\u001b[0;34m\u001b[0m\u001b[0m\n\u001b[0;32m--> 267\u001b[0;31m         \u001b[0msuper\u001b[0m\u001b[0;34m(\u001b[0m\u001b[0;34m)\u001b[0m\u001b[0;34m.\u001b[0m\u001b[0m__init__\u001b[0m\u001b[0;34m(\u001b[0m\u001b[0mendog\u001b[0m\u001b[0;34m,\u001b[0m \u001b[0mexog\u001b[0m\u001b[0;34m,\u001b[0m \u001b[0;34m**\u001b[0m\u001b[0mkwargs\u001b[0m\u001b[0;34m)\u001b[0m\u001b[0;34m\u001b[0m\u001b[0;34m\u001b[0m\u001b[0m\n\u001b[0m\u001b[1;32m    268\u001b[0m         \u001b[0mself\u001b[0m\u001b[0;34m.\u001b[0m\u001b[0minitialize\u001b[0m\u001b[0;34m(\u001b[0m\u001b[0;34m)\u001b[0m\u001b[0;34m\u001b[0m\u001b[0;34m\u001b[0m\u001b[0m\n\u001b[1;32m    269\u001b[0m \u001b[0;34m\u001b[0m\u001b[0m\n",
            "\u001b[0;32m/usr/local/lib/python3.10/dist-packages/statsmodels/base/model.py\u001b[0m in \u001b[0;36m__init__\u001b[0;34m(self, endog, exog, **kwargs)\u001b[0m\n\u001b[1;32m     90\u001b[0m         \u001b[0mmissing\u001b[0m \u001b[0;34m=\u001b[0m \u001b[0mkwargs\u001b[0m\u001b[0;34m.\u001b[0m\u001b[0mpop\u001b[0m\u001b[0;34m(\u001b[0m\u001b[0;34m'missing'\u001b[0m\u001b[0;34m,\u001b[0m \u001b[0;34m'none'\u001b[0m\u001b[0;34m)\u001b[0m\u001b[0;34m\u001b[0m\u001b[0;34m\u001b[0m\u001b[0m\n\u001b[1;32m     91\u001b[0m         \u001b[0mhasconst\u001b[0m \u001b[0;34m=\u001b[0m \u001b[0mkwargs\u001b[0m\u001b[0;34m.\u001b[0m\u001b[0mpop\u001b[0m\u001b[0;34m(\u001b[0m\u001b[0;34m'hasconst'\u001b[0m\u001b[0;34m,\u001b[0m \u001b[0;32mNone\u001b[0m\u001b[0;34m)\u001b[0m\u001b[0;34m\u001b[0m\u001b[0;34m\u001b[0m\u001b[0m\n\u001b[0;32m---> 92\u001b[0;31m         self.data = self._handle_data(endog, exog, missing, hasconst,\n\u001b[0m\u001b[1;32m     93\u001b[0m                                       **kwargs)\n\u001b[1;32m     94\u001b[0m         \u001b[0mself\u001b[0m\u001b[0;34m.\u001b[0m\u001b[0mk_constant\u001b[0m \u001b[0;34m=\u001b[0m \u001b[0mself\u001b[0m\u001b[0;34m.\u001b[0m\u001b[0mdata\u001b[0m\u001b[0;34m.\u001b[0m\u001b[0mk_constant\u001b[0m\u001b[0;34m\u001b[0m\u001b[0;34m\u001b[0m\u001b[0m\n",
            "\u001b[0;32m/usr/local/lib/python3.10/dist-packages/statsmodels/base/model.py\u001b[0m in \u001b[0;36m_handle_data\u001b[0;34m(self, endog, exog, missing, hasconst, **kwargs)\u001b[0m\n\u001b[1;32m    130\u001b[0m \u001b[0;34m\u001b[0m\u001b[0m\n\u001b[1;32m    131\u001b[0m     \u001b[0;32mdef\u001b[0m \u001b[0m_handle_data\u001b[0m\u001b[0;34m(\u001b[0m\u001b[0mself\u001b[0m\u001b[0;34m,\u001b[0m \u001b[0mendog\u001b[0m\u001b[0;34m,\u001b[0m \u001b[0mexog\u001b[0m\u001b[0;34m,\u001b[0m \u001b[0mmissing\u001b[0m\u001b[0;34m,\u001b[0m \u001b[0mhasconst\u001b[0m\u001b[0;34m,\u001b[0m \u001b[0;34m**\u001b[0m\u001b[0mkwargs\u001b[0m\u001b[0;34m)\u001b[0m\u001b[0;34m:\u001b[0m\u001b[0;34m\u001b[0m\u001b[0;34m\u001b[0m\u001b[0m\n\u001b[0;32m--> 132\u001b[0;31m         \u001b[0mdata\u001b[0m \u001b[0;34m=\u001b[0m \u001b[0mhandle_data\u001b[0m\u001b[0;34m(\u001b[0m\u001b[0mendog\u001b[0m\u001b[0;34m,\u001b[0m \u001b[0mexog\u001b[0m\u001b[0;34m,\u001b[0m \u001b[0mmissing\u001b[0m\u001b[0;34m,\u001b[0m \u001b[0mhasconst\u001b[0m\u001b[0;34m,\u001b[0m \u001b[0;34m**\u001b[0m\u001b[0mkwargs\u001b[0m\u001b[0;34m)\u001b[0m\u001b[0;34m\u001b[0m\u001b[0;34m\u001b[0m\u001b[0m\n\u001b[0m\u001b[1;32m    133\u001b[0m         \u001b[0;31m# kwargs arrays could have changed, easier to just attach here\u001b[0m\u001b[0;34m\u001b[0m\u001b[0;34m\u001b[0m\u001b[0m\n\u001b[1;32m    134\u001b[0m         \u001b[0;32mfor\u001b[0m \u001b[0mkey\u001b[0m \u001b[0;32min\u001b[0m \u001b[0mkwargs\u001b[0m\u001b[0;34m:\u001b[0m\u001b[0;34m\u001b[0m\u001b[0;34m\u001b[0m\u001b[0m\n",
            "\u001b[0;32m/usr/local/lib/python3.10/dist-packages/statsmodels/base/data.py\u001b[0m in \u001b[0;36mhandle_data\u001b[0;34m(endog, exog, missing, hasconst, **kwargs)\u001b[0m\n\u001b[1;32m    698\u001b[0m \u001b[0;34m\u001b[0m\u001b[0m\n\u001b[1;32m    699\u001b[0m     \u001b[0mklass\u001b[0m \u001b[0;34m=\u001b[0m \u001b[0mhandle_data_class_factory\u001b[0m\u001b[0;34m(\u001b[0m\u001b[0mendog\u001b[0m\u001b[0;34m,\u001b[0m \u001b[0mexog\u001b[0m\u001b[0;34m)\u001b[0m\u001b[0;34m\u001b[0m\u001b[0;34m\u001b[0m\u001b[0m\n\u001b[0;32m--> 700\u001b[0;31m     return klass(endog, exog=exog, missing=missing, hasconst=hasconst,\n\u001b[0m\u001b[1;32m    701\u001b[0m                  **kwargs)\n",
            "\u001b[0;32m/usr/local/lib/python3.10/dist-packages/statsmodels/base/data.py\u001b[0m in \u001b[0;36m__init__\u001b[0;34m(self, endog, exog, missing, hasconst, **kwargs)\u001b[0m\n\u001b[1;32m     82\u001b[0m             \u001b[0mself\u001b[0m\u001b[0;34m.\u001b[0m\u001b[0morig_endog\u001b[0m \u001b[0;34m=\u001b[0m \u001b[0mendog\u001b[0m\u001b[0;34m\u001b[0m\u001b[0;34m\u001b[0m\u001b[0m\n\u001b[1;32m     83\u001b[0m             \u001b[0mself\u001b[0m\u001b[0;34m.\u001b[0m\u001b[0morig_exog\u001b[0m \u001b[0;34m=\u001b[0m \u001b[0mexog\u001b[0m\u001b[0;34m\u001b[0m\u001b[0;34m\u001b[0m\u001b[0m\n\u001b[0;32m---> 84\u001b[0;31m             \u001b[0mself\u001b[0m\u001b[0;34m.\u001b[0m\u001b[0mendog\u001b[0m\u001b[0;34m,\u001b[0m \u001b[0mself\u001b[0m\u001b[0;34m.\u001b[0m\u001b[0mexog\u001b[0m \u001b[0;34m=\u001b[0m \u001b[0mself\u001b[0m\u001b[0;34m.\u001b[0m\u001b[0m_convert_endog_exog\u001b[0m\u001b[0;34m(\u001b[0m\u001b[0mendog\u001b[0m\u001b[0;34m,\u001b[0m \u001b[0mexog\u001b[0m\u001b[0;34m)\u001b[0m\u001b[0;34m\u001b[0m\u001b[0;34m\u001b[0m\u001b[0m\n\u001b[0m\u001b[1;32m     85\u001b[0m \u001b[0;34m\u001b[0m\u001b[0m\n\u001b[1;32m     86\u001b[0m         \u001b[0mself\u001b[0m\u001b[0;34m.\u001b[0m\u001b[0mconst_idx\u001b[0m \u001b[0;34m=\u001b[0m \u001b[0;32mNone\u001b[0m\u001b[0;34m\u001b[0m\u001b[0;34m\u001b[0m\u001b[0m\n",
            "\u001b[0;32m/usr/local/lib/python3.10/dist-packages/statsmodels/base/data.py\u001b[0m in \u001b[0;36m_convert_endog_exog\u001b[0;34m(self, endog, exog)\u001b[0m\n\u001b[1;32m    528\u001b[0m             \u001b[0;32melse\u001b[0m\u001b[0;34m:\u001b[0m\u001b[0;34m\u001b[0m\u001b[0;34m\u001b[0m\u001b[0m\n\u001b[1;32m    529\u001b[0m                 \u001b[0mexog_dtype\u001b[0m \u001b[0;34m=\u001b[0m \u001b[0;32mNone\u001b[0m\u001b[0;34m\u001b[0m\u001b[0;34m\u001b[0m\u001b[0m\n\u001b[0;32m--> 530\u001b[0;31m             raise ValueError(\n\u001b[0m\u001b[1;32m    531\u001b[0m                 \u001b[0;34m\"Pandas data cast to numpy dtype of object. Check input data \"\u001b[0m\u001b[0;34m\u001b[0m\u001b[0;34m\u001b[0m\u001b[0m\n\u001b[1;32m    532\u001b[0m                 \u001b[0;34m\"with np.asarray(data). The types seen were\"\u001b[0m\u001b[0;34m\u001b[0m\u001b[0;34m\u001b[0m\u001b[0m\n",
            "\u001b[0;31mValueError\u001b[0m: Pandas data cast to numpy dtype of object. Check input data with np.asarray(data). The types seen wereDate          object\nOpen         float64\nHigh         float64\nLow          float64\nClose        float64\nAdj Close    float64\nVolume       float64\nforecast     float64\ndtype: object and None. The data was\n            Date          Open          High           Low         Close  \\\n0       1/1/2019   3746.713379   3850.913818   3707.231201   3843.520020   \n1       1/2/2019   3849.216309   3947.981201   3817.409424   3943.409424   \n2       1/3/2019   3931.048584   3935.685059   3826.222900   3836.741211   \n3       1/4/2019   3832.040039   3865.934570   3783.853760   3857.717529   \n4       1/5/2019   3851.973877   3904.903076   3836.900146   3845.194580   \n...          ...           ...           ...           ...           ...   \n1080  12/16/2021  48900.464840  49425.574220  47529.878910  47665.425780   \n1081  12/17/2021  47653.730470  48004.894530  45618.214840  46202.144530   \n1082  12/18/2021  46219.253910  47313.828130  45598.441410  46848.777340   \n1083  12/19/2021  46853.867190  48089.664060  46502.953130  46707.015630   \n1084  12/20/2021  46707.062500  47401.718750  45579.808590  46880.277340   \n\n         Adj Close        Volume  forecast  \n0      3843.520020  4.324201e+09       NaN  \n1      3943.409424  5.244857e+09       NaN  \n2      3836.741211  4.530215e+09       NaN  \n3      3857.717529  4.847965e+09       NaN  \n4      3845.194580  5.137610e+09       NaN  \n...            ...           ...       ...  \n1080  47665.425780  2.726815e+10       NaN  \n1081  46202.144530  3.290273e+10       NaN  \n1082  46848.777340  2.609829e+10       NaN  \n1083  46707.015630  2.515405e+10       NaN  \n1084  46880.277340  3.096190e+10       NaN  \n\n[1085 rows x 8 columns]\nand\n [[1.]\n [1.]\n [1.]\n ...\n [1.]\n [1.]\n [1.]]\nbefore. After,\n[['1/1/2019' 3746.713379 3850.913818 ... 3843.52002 4324200990.0 nan]\n ['1/2/2019' 3849.216309 3947.981201 ... 3943.409424 5244856836.0 nan]\n ['1/3/2019' 3931.048584 3935.685059 ... 3836.741211 4530215219.0 nan]\n ...\n ['12/18/2021' 46219.25391 47313.82813 ... 46848.77734 26098292690.0 nan]\n ['12/19/2021' 46853.86719 48089.66406 ... 46707.01563 25154053861.0 nan]\n ['12/20/2021' 46707.0625 47401.71875 ... 46880.27734 30961902129.0 nan]]\n[[1.]\n [1.]\n [1.]\n ...\n [1.]\n [1.]\n [1.]]."
          ]
        }
      ]
    },
    {
      "cell_type": "code",
      "source": [
        "def forecast_accuracy(forecast, actual):\n",
        "    mape = np.mean(np.abs(forecast - actual)/np.abs(actual))  # MAPE\n",
        "    me = np.mean(forecast - actual)             # ME\n",
        "    mae = np.mean(np.abs(forecast - actual))    # MAE\n",
        "    mpe = np.mean((forecast - actual)/actual)   # MPE\n",
        "    rmse = np.mean((forecast - actual)**2)**.5  # RMSE\n",
        "    corr = np.corrcoef(forecast, actual)[0,1]   # corr\n",
        "    mins = np.amin(np.hstack([forecast[:,None], \n",
        "                              actual[:,None]]), axis=1)\n",
        "    maxs = np.amax(np.hstack([forecast[:,None], \n",
        "                              actual[:,None]]), axis=1)\n",
        "    minmax = 1 - np.mean(mins/maxs)             # minmax\n",
        "    return({'mape':mape, 'me':me, 'mae': mae, \n",
        "            'mpe': mpe, 'rmse':rmse, \n",
        "            'corr':corr, 'minmax':minmax})\n",
        "\n",
        "forecast_accuracy(fc, test.Close)"
      ],
      "metadata": {
        "colab": {
          "base_uri": "https://localhost:8080/"
        },
        "id": "z0wBCxBjeXoy",
        "outputId": "f43b3a86-e33d-43da-9b77-852c9bf07c80"
      },
      "execution_count": 44,
      "outputs": [
        {
          "output_type": "stream",
          "name": "stderr",
          "text": [
            "<ipython-input-44-d5866cac8356>:8: FutureWarning: Support for multi-dimensional indexing (e.g. `obj[:, None]`) is deprecated and will be removed in a future version.  Convert to a numpy array before indexing instead.\n",
            "  mins = np.amin(np.hstack([forecast[:,None],\n",
            "<ipython-input-44-d5866cac8356>:9: FutureWarning: Support for multi-dimensional indexing (e.g. `obj[:, None]`) is deprecated and will be removed in a future version.  Convert to a numpy array before indexing instead.\n",
            "  actual[:,None]]), axis=1)\n",
            "<ipython-input-44-d5866cac8356>:10: FutureWarning: Support for multi-dimensional indexing (e.g. `obj[:, None]`) is deprecated and will be removed in a future version.  Convert to a numpy array before indexing instead.\n",
            "  maxs = np.amax(np.hstack([forecast[:,None],\n",
            "<ipython-input-44-d5866cac8356>:11: FutureWarning: Support for multi-dimensional indexing (e.g. `obj[:, None]`) is deprecated and will be removed in a future version.  Convert to a numpy array before indexing instead.\n",
            "  actual[:,None]]), axis=1)\n"
          ]
        },
        {
          "output_type": "execute_result",
          "data": {
            "text/plain": [
              "{'mape': 0.6291231605880453,\n",
              " 'me': 13167.03636761129,\n",
              " 'mae': 13398.44571919728,\n",
              " 'mpe': 0.6243257494105823,\n",
              " 'rmse': 15163.67505450312,\n",
              " 'corr': 0.8261522435427171,\n",
              " 'minmax': 0.33840804317158}"
            ]
          },
          "metadata": {},
          "execution_count": 44
        }
      ]
    },
    {
      "cell_type": "markdown",
      "source": [
        "**<h3>Dự đoán trên bộ dữ liệu với Train-Test là 8-2</h3>**"
      ],
      "metadata": {
        "id": "WlRpx4lkag1D"
      }
    },
    {
      "cell_type": "code",
      "source": [
        "from sklearn.model_selection import train_test_split\n",
        "from statsmodels.tsa.stattools import acf\n",
        "\n",
        "# Chia dữ liệu train-test theo tỷ lệ 8-2\n",
        "train, test = train_test_split(df.Close, test_size=0.2, shuffle=False)\n",
        "\n",
        "# Hiển thị kích thước của tập train và tập test\n",
        "print(len(train))\n",
        "print(len(test))\n",
        "train = df.Close[:len(train)]\n",
        "test = df.Close[len(train):]"
      ],
      "metadata": {
        "colab": {
          "base_uri": "https://localhost:8080/"
        },
        "id": "7OToMR9TbOuG",
        "outputId": "dff66ce1-67e0-4bac-d762-0cecd1ec5bd6"
      },
      "execution_count": 47,
      "outputs": [
        {
          "output_type": "stream",
          "name": "stdout",
          "text": [
            "1240\n",
            "311\n"
          ]
        }
      ]
    },
    {
      "cell_type": "code",
      "source": [
        "print(df.shape)\n",
        "print(-(len(test)))\n",
        "train=df.iloc[:-(len(test))]\n",
        "test=df.iloc[-(len(test)):]\n",
        "print(train.shape,test.shape)\n",
        "print(test.Close)"
      ],
      "metadata": {
        "colab": {
          "base_uri": "https://localhost:8080/"
        },
        "id": "B-q0DbWBbYYk",
        "outputId": "3a5d74ac-98b3-4089-fc7f-8b7c4134e0eb"
      },
      "execution_count": 48,
      "outputs": [
        {
          "output_type": "stream",
          "name": "stdout",
          "text": [
            "(1551, 8)\n",
            "-311\n",
            "(1240, 8) (311, 8)\n",
            "1240    29562.36133\n",
            "1241    29267.22461\n",
            "1242    28627.57422\n",
            "1243    28814.90039\n",
            "1244    29445.95703\n",
            "           ...     \n",
            "1546    27139.88867\n",
            "1547    27268.13086\n",
            "1548    28348.44141\n",
            "1549    28033.56250\n",
            "1550    28478.48438\n",
            "Name: Close, Length: 311, dtype: float64\n"
          ]
        }
      ]
    },
    {
      "cell_type": "code",
      "source": [
        "print(test.iloc[0],test.iloc[-1])"
      ],
      "metadata": {
        "colab": {
          "base_uri": "https://localhost:8080/"
        },
        "id": "g_Na1L0qbdZ2",
        "outputId": "26eb98ea-ae8f-4a33-bb9c-ce56ea8dfb4f"
      },
      "execution_count": 49,
      "outputs": [
        {
          "output_type": "stream",
          "name": "stdout",
          "text": [
            "Date             5/25/2022\n",
            "Open           29653.13477\n",
            "High           30157.78516\n",
            "Low            29384.94922\n",
            "Close          29562.36133\n",
            "Adj Close      29562.36133\n",
            "Volume       27525063551.0\n",
            "forecast        39739.2709\n",
            "Name: 1240, dtype: object Date             3/31/2023\n",
            "Open           28032.26172\n",
            "High           28639.89648\n",
            "Low            27583.71484\n",
            "Close          28478.48438\n",
            "Adj Close      28478.48438\n",
            "Volume       19001327598.0\n",
            "forecast      31373.046918\n",
            "Name: 1550, dtype: object\n"
          ]
        }
      ]
    },
    {
      "cell_type": "code",
      "source": [
        "from statsmodels.tsa.arima.model import ARIMA\n",
        "import statsmodels.api as smapi\n",
        "model=ARIMA(train['Close'],order=(1,0,1))\n",
        "model=model.fit()\n",
        "model.summary()"
      ],
      "metadata": {
        "colab": {
          "base_uri": "https://localhost:8080/",
          "height": 444
        },
        "id": "sHJ8C5uDbmC8",
        "outputId": "437dc9a6-0ba3-45c3-ca7a-28f5b03cd280"
      },
      "execution_count": 50,
      "outputs": [
        {
          "output_type": "execute_result",
          "data": {
            "text/plain": [
              "<class 'statsmodels.iolib.summary.Summary'>\n",
              "\"\"\"\n",
              "                               SARIMAX Results                                \n",
              "==============================================================================\n",
              "Dep. Variable:                  Close   No. Observations:                 1240\n",
              "Model:                 ARIMA(1, 0, 1)   Log Likelihood              -10518.311\n",
              "Date:                Thu, 04 May 2023   AIC                          21044.622\n",
              "Time:                        15:43:18   BIC                          21065.114\n",
              "Sample:                             0   HQIC                         21052.329\n",
              "                               - 1240                                         \n",
              "Covariance Type:                  opg                                         \n",
              "==============================================================================\n",
              "                 coef    std err          z      P>|z|      [0.025      0.975]\n",
              "------------------------------------------------------------------------------\n",
              "const       2.405e+04    1.2e+04      2.011      0.044     609.680    4.75e+04\n",
              "ar.L1          0.9978      0.002    646.029      0.000       0.995       1.001\n",
              "ma.L1         -0.0373      0.021     -1.762      0.078      -0.079       0.004\n",
              "sigma2      1.363e+06    2.6e+04     52.491      0.000    1.31e+06    1.41e+06\n",
              "===================================================================================\n",
              "Ljung-Box (L1) (Q):                   0.00   Jarque-Bera (JB):              2557.79\n",
              "Prob(Q):                              0.97   Prob(JB):                         0.00\n",
              "Heteroskedasticity (H):              29.25   Skew:                            -0.08\n",
              "Prob(H) (two-sided):                  0.00   Kurtosis:                        10.03\n",
              "===================================================================================\n",
              "\n",
              "Warnings:\n",
              "[1] Covariance matrix calculated using the outer product of gradients (complex-step).\n",
              "\"\"\""
            ],
            "text/html": [
              "<table class=\"simpletable\">\n",
              "<caption>SARIMAX Results</caption>\n",
              "<tr>\n",
              "  <th>Dep. Variable:</th>         <td>Close</td>      <th>  No. Observations:  </th>    <td>1240</td>   \n",
              "</tr>\n",
              "<tr>\n",
              "  <th>Model:</th>            <td>ARIMA(1, 0, 1)</td>  <th>  Log Likelihood     </th> <td>-10518.311</td>\n",
              "</tr>\n",
              "<tr>\n",
              "  <th>Date:</th>            <td>Thu, 04 May 2023</td> <th>  AIC                </th>  <td>21044.622</td>\n",
              "</tr>\n",
              "<tr>\n",
              "  <th>Time:</th>                <td>15:43:18</td>     <th>  BIC                </th>  <td>21065.114</td>\n",
              "</tr>\n",
              "<tr>\n",
              "  <th>Sample:</th>                  <td>0</td>        <th>  HQIC               </th>  <td>21052.329</td>\n",
              "</tr>\n",
              "<tr>\n",
              "  <th></th>                      <td> - 1240</td>     <th>                     </th>      <td> </td>    \n",
              "</tr>\n",
              "<tr>\n",
              "  <th>Covariance Type:</th>        <td>opg</td>       <th>                     </th>      <td> </td>    \n",
              "</tr>\n",
              "</table>\n",
              "<table class=\"simpletable\">\n",
              "<tr>\n",
              "     <td></td>       <th>coef</th>     <th>std err</th>      <th>z</th>      <th>P>|z|</th>  <th>[0.025</th>    <th>0.975]</th>  \n",
              "</tr>\n",
              "<tr>\n",
              "  <th>const</th>  <td> 2.405e+04</td> <td>  1.2e+04</td> <td>    2.011</td> <td> 0.044</td> <td>  609.680</td> <td> 4.75e+04</td>\n",
              "</tr>\n",
              "<tr>\n",
              "  <th>ar.L1</th>  <td>    0.9978</td> <td>    0.002</td> <td>  646.029</td> <td> 0.000</td> <td>    0.995</td> <td>    1.001</td>\n",
              "</tr>\n",
              "<tr>\n",
              "  <th>ma.L1</th>  <td>   -0.0373</td> <td>    0.021</td> <td>   -1.762</td> <td> 0.078</td> <td>   -0.079</td> <td>    0.004</td>\n",
              "</tr>\n",
              "<tr>\n",
              "  <th>sigma2</th> <td> 1.363e+06</td> <td>  2.6e+04</td> <td>   52.491</td> <td> 0.000</td> <td> 1.31e+06</td> <td> 1.41e+06</td>\n",
              "</tr>\n",
              "</table>\n",
              "<table class=\"simpletable\">\n",
              "<tr>\n",
              "  <th>Ljung-Box (L1) (Q):</th>     <td>0.00</td>  <th>  Jarque-Bera (JB):  </th> <td>2557.79</td>\n",
              "</tr>\n",
              "<tr>\n",
              "  <th>Prob(Q):</th>                <td>0.97</td>  <th>  Prob(JB):          </th>  <td>0.00</td>  \n",
              "</tr>\n",
              "<tr>\n",
              "  <th>Heteroskedasticity (H):</th> <td>29.25</td> <th>  Skew:              </th>  <td>-0.08</td> \n",
              "</tr>\n",
              "<tr>\n",
              "  <th>Prob(H) (two-sided):</th>    <td>0.00</td>  <th>  Kurtosis:          </th>  <td>10.03</td> \n",
              "</tr>\n",
              "</table><br/><br/>Warnings:<br/>[1] Covariance matrix calculated using the outer product of gradients (complex-step)."
            ]
          },
          "metadata": {},
          "execution_count": 50
        }
      ]
    },
    {
      "cell_type": "code",
      "source": [
        "import pandas as pd\n",
        "import numpy as np\n",
        "import matplotlib.pyplot as plt\n",
        "from statsmodels.tsa.arima.model import ARIMA\n",
        "from sklearn.metrics import mean_squared_error\n",
        "\n",
        "\n",
        "# Split data into train and test sets\n",
        "train_data, test_data = train_test_split(df['Close'], test_size=0.2, shuffle=False)\n",
        "\n",
        "# Train the ARIMA model\n",
        "model = ARIMA(train_data, order=(1,0,1))\n",
        "fitted = model.fit()\n",
        "\n",
        "# Forecast\n",
        "print(fitted.forecast(15, alpha=0.05))  # 95% conf\n",
        "fc = fitted.forecast(len(test_data))\n",
        "conf = fitted.conf_int(alpha=0.05)\n",
        "\n",
        "# Calculate mean squared error\n",
        "mse = mean_squared_error(test_data, fc)\n",
        "print('Mean Squared Error:', mse)\n",
        "\n",
        "# Make as pandas series\n",
        "fc_series = pd.Series(fc, index=test_data.index)\n",
        "lower_series = pd.Series(df.iloc[:, 0], index=test_data.index)\n",
        "upper_series = pd.Series(df.iloc[:, 1], index=test_data.index)\n",
        "\n",
        "# Plot\n",
        "plt.figure(figsize=(12,5), dpi=100)\n",
        "plt.plot(train_data, label='training')\n",
        "plt.plot(test_data, label='actual')\n",
        "plt.plot(fc_series, label='forecast')\n",
        "plt.fill_between(lower_series.index, lower_series, upper_series, color='k', alpha=.15)\n",
        "plt.title('Forecast vs Actuals')\n",
        "plt.legend(loc='upper left', fontsize=8)\n",
        "plt.show()"
      ],
      "metadata": {
        "colab": {
          "base_uri": "https://localhost:8080/",
          "height": 763
        },
        "id": "Mf0xyoHKTppp",
        "outputId": "79bfafde-bf91-4ded-c374-61a35d5c0004"
      },
      "execution_count": 51,
      "outputs": [
        {
          "output_type": "stream",
          "name": "stdout",
          "text": [
            "1240    29623.826176\n",
            "1241    29611.654532\n",
            "1242    29599.509444\n",
            "1243    29587.390854\n",
            "1244    29575.298704\n",
            "1245    29563.232937\n",
            "1246    29551.193495\n",
            "1247    29539.180321\n",
            "1248    29527.193357\n",
            "1249    29515.232546\n",
            "1250    29503.297831\n",
            "1251    29491.389155\n",
            "1252    29479.506462\n",
            "1253    29467.649694\n",
            "1254    29455.818795\n",
            "Name: predicted_mean, dtype: float64\n",
            "Mean Squared Error: 58826133.41236973\n"
          ]
        },
        {
          "output_type": "display_data",
          "data": {
            "text/plain": [
              "<Figure size 1200x500 with 1 Axes>"
            ],
            "image/png": "[encoded data removed]"
          },
          "metadata": {}
        }
      ]
    },
    {
      "cell_type": "code",
      "source": [
        "def forecast_accuracy(forecast, actual):\n",
        "    mape = np.mean(np.abs(forecast - actual)/np.abs(actual))  # MAPE\n",
        "    me = np.mean(forecast - actual)             # ME\n",
        "    mae = np.mean(np.abs(forecast - actual))    # MAE\n",
        "    mpe = np.mean((forecast - actual)/actual)   # MPE\n",
        "    rmse = np.mean((forecast - actual)**2)**.5  # RMSE\n",
        "    corr = np.corrcoef(forecast, actual)[0,1]   # corr\n",
        "    mins = np.amin(np.hstack([forecast[:,None], \n",
        "                              actual[:,None]]), axis=1)\n",
        "    maxs = np.amax(np.hstack([forecast[:,None], \n",
        "                              actual[:,None]]), axis=1)\n",
        "    minmax = 1 - np.mean(mins/maxs)             # minmax\n",
        "    return({'mape':mape, 'me':me, 'mae': mae, \n",
        "            'mpe': mpe, 'rmse':rmse, \n",
        "            'corr':corr, 'minmax':minmax})\n",
        "\n",
        "forecast_accuracy(fc, test.Close)"
      ],
      "metadata": {
        "colab": {
          "base_uri": "https://localhost:8080/"
        },
        "id": "yCqi1rf0alLx",
        "outputId": "2f0039e7-5d0b-4137-b489-8dd997d38fd8"
      },
      "execution_count": 54,
      "outputs": [
        {
          "output_type": "stream",
          "name": "stderr",
          "text": [
            "<ipython-input-54-d5866cac8356>:8: FutureWarning: Support for multi-dimensional indexing (e.g. `obj[:, None]`) is deprecated and will be removed in a future version.  Convert to a numpy array before indexing instead.\n",
            "  mins = np.amin(np.hstack([forecast[:,None],\n",
            "<ipython-input-54-d5866cac8356>:9: FutureWarning: Support for multi-dimensional indexing (e.g. `obj[:, None]`) is deprecated and will be removed in a future version.  Convert to a numpy array before indexing instead.\n",
            "  actual[:,None]]), axis=1)\n",
            "<ipython-input-54-d5866cac8356>:10: FutureWarning: Support for multi-dimensional indexing (e.g. `obj[:, None]`) is deprecated and will be removed in a future version.  Convert to a numpy array before indexing instead.\n",
            "  maxs = np.amax(np.hstack([forecast[:,None],\n",
            "<ipython-input-54-d5866cac8356>:11: FutureWarning: Support for multi-dimensional indexing (e.g. `obj[:, None]`) is deprecated and will be removed in a future version.  Convert to a numpy array before indexing instead.\n",
            "  actual[:,None]]), axis=1)\n"
          ]
        },
        {
          "output_type": "execute_result",
          "data": {
            "text/plain": [
              "{'mape': 0.3595276096743347,\n",
              " 'me': 6820.357141125019,\n",
              " 'mae': 6974.420542199389,\n",
              " 'mpe': 0.3542905078026383,\n",
              " 'rmse': 7669.819646665085,\n",
              " 'corr': 0.1773965763225625,\n",
              " 'minmax': 0.24805498439383367}"
            ]
          },
          "metadata": {},
          "execution_count": 54
        }
      ]
    },
    {
      "cell_type": "code",
      "source": [],
      "metadata": {
        "id": "W3V7pDY_avwh"
      },
      "execution_count": null,
      "outputs": []
    }
  ]
}